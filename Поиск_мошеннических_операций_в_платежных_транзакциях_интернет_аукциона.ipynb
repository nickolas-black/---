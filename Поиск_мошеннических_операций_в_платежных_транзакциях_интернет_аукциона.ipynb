{
  "nbformat": 4,
  "nbformat_minor": 0,
  "metadata": {
    "kernelspec": {
      "display_name": "Python 3",
      "language": "python",
      "name": "python3"
    },
    "language_info": {
      "codemirror_mode": {
        "name": "ipython",
        "version": 3
      },
      "file_extension": ".py",
      "mimetype": "text/x-python",
      "name": "python",
      "nbconvert_exporter": "python",
      "pygments_lexer": "ipython3",
      "version": "3.7.2"
    },
    "colab": {
      "name": "Поиск мошеннических операций в платежных транзакциях интернет-аукциона",
      "provenance": [],
      "collapsed_sections": [
        "4qz5zrKVqnZz",
        "LF8wfvtKqnZ3",
        "mnjd6vNzqnaL"
      ]
    }
  },
  "cells": [
    {
      "cell_type": "markdown",
      "metadata": {
        "id": "cvPOpAg5qnZW"
      },
      "source": [
        "# **Поиск мошеннических операций в платежных транзакциях интернет-аукциона**"
      ]
    },
    {
      "cell_type": "markdown",
      "metadata": {
        "id": "WE5pGMHMqnZZ"
      },
      "source": [
        "Платежи - это наиболее цифровая часть финансовой индустрии, что делает их особенно уязвимыми для цифрового мошенничества.\n",
        "Рост мобильных платежей и конкуренция за лучшее качество обслуживания клиентов подталкивают банки к сокращению количества этапов проверки.\n",
        "Это снижает эффективность подхода, основанного на правилах.\n",
        "Таким образом, банки и платежные компании переходят на анализ данных, машинное обучение и методы, основанные на искусственном интеллекте.\n",
        "\n",
        "Современные системы обнаружения мошенничества решают широкий спектр аналитических задач по выявлению всех мошеннических транзакций в платежных потоках.\n",
        "\n",
        "**Цель состоит в том, чтобы использовать данные для разработки алгоритма машинного обучения для выявления мошенников и выполнения необходимых действий.**\n",
        "\n",
        "LOCK_USER - Текущая транзакция заблокирована, а учетная запись пользователя ЗАБЛОКИРОВАНА. Это предотвращает выполнение пользователем каких-либо транзакций со своей учетной записью. Доступ можно восстановить только после обращения к агенту.\n",
        "ALERT_AGENT - Текущая транзакция не заблокирована. Предупреждение отправляется агенту мониторинга транзакций для дальнейшего рассмотрения."
      ]
    },
    {
      "cell_type": "markdown",
      "metadata": {
        "id": "Vte9g-wiqnZZ"
      },
      "source": [
        "## Описание данных\n",
        "## Data\n",
        "1. countries.csv\n",
        "\t- таблица со всеми буквенно-цифровыми обозначениями стран. Возможно, вам потребуется использовать это для стандартизации кодов стран в одном формате.\n",
        "2. fraudsters.csv\n",
        "\t- он просто содержит список идентификаторов пользователей, которые были идентифицированы как мошенники по этой проблеме\n",
        "\t- в таблице пользователей есть и другие мошенники, задача состоит в том, чтобы их также идентифицировать\n",
        "3. users.csv\n",
        "\t- таблица пользовательских данных\n",
        "\t- **kyc** столбец указывает статус процесса проверки личности пользователя\n",
        "\t- **terms_version** колонок indiciates текущей версии пользователя в приложении\n",
        "\t- **state**\n",
        "\t\tсостояние ЗАБЛОКИРОВАНО - учетная запись пользователя заблокирована, и он не может выполнять никаких транзакций. Если для этого пользователя есть транзакции, они произошли до того, как пользователь был ЗАБЛОКИРОВАН. \n",
        "\n",
        "4. transactions.csv\n",
        "\t- все транзакции, проводимые пользователями\n",
        "\t- **amount** и **amount_usd** выражены в целых числах в наименьшей единице. например, 5000 долларов США => 50 долларов США (поскольку самая низкая единица в долларах США - это цент, w / 100 центов = 1 доллар)\n",
        "\t- **entry_method**  актуален только для карточных транзакций (CARD_PAYMENT, ATM); вы можете игнорировать его для других транзакций. Значения: разное - неизвестный чип - чип на карточных журналах - магнитная полоса на карте manu - ручной ввод данных карты (продолжение) - бесконтактный / Tap mcon - особый случай магнитной полосы и бесконтактной карты\n",
        "\t- **source** связан с внешней стороной, которую мы используем для обработки этого типа транзакции. (например, все {CARD_PAYMENT, ATM} используют GAIA)\n",
        "\t- **type**\n",
        "\t\tP2P - отправка денег внутри платформы (например, отправка денег без банковского счета) BANK_TRANSFER - отправка денег извне на банкомат с банковским счетом - снятие денег в банкомате\n",
        "\n",
        "\t- **state** \n",
        "\t\tЗАВЕРШЕНО - транзакция была завершена, и баланс пользователя был изменен ОТКЛОНЕН / НЕУДАЧЕН - транзакция была отклонена по какой-то причине, обычно относится к недостаточному балансу ОТКРЫТО - связанная транзакция была завершена первой, но затем была отменена позже, возможно из-за клиента обратиться в банк\n",
        "        \n",
        "5. currency_details.csv\n",
        "\t- таблица с ISO-кодами и показателями валют\n",
        "\t- Столбец экспоненты может использоваться для преобразования целых сумм в таблице транзакций в денежные суммы. (например, для 5000 фунтов стерлингов показатель степени = 2, поэтому мы применяем: 5000 / (10 ^ 2) = 50 фунтов стерлингов)"
      ]
    },
    {
      "cell_type": "code",
      "metadata": {
        "id": "3SiMnEXtqnZa"
      },
      "source": [
        "import warnings\n",
        "warnings.filterwarnings(\"ignore\")\n",
        "\n",
        "import numpy as np\n",
        "import pandas as pd\n",
        "import matplotlib.pyplot as plt\n",
        "import seaborn as sns\n",
        "\n",
        "from datetime import datetime, timedelta\n",
        "import dateutil\n",
        "\n",
        "from pprint import pprint\n",
        "\n",
        "from scipy.stats import pearsonr\n",
        "import scipy.stats as sts\n",
        "from sklearn import preprocessing\n",
        "from sklearn.decomposition import PCA\n",
        "from sklearn.linear_model import LogisticRegression\n",
        "from sklearn.ensemble import RandomForestClassifier\n",
        "from xgboost import XGBClassifier\n",
        "from sklearn.metrics import roc_auc_score, roc_curve, precision_recall_curve, average_precision_score, accuracy_score, f1_score, precision_score, recall_score, classification_report, confusion_matrix\n",
        "from sklearn.model_selection import train_test_split, KFold, GridSearchCV, cross_val_score, cross_val_predict, RandomizedSearchCV\n",
        "from sklearn.feature_selection import SelectFromModel\n",
        "#from sklearn.externals import joblib\n",
        "import pickle\n",
        "\n",
        "%matplotlib inline"
      ],
      "execution_count": null,
      "outputs": []
    },
    {
      "cell_type": "code",
      "metadata": {
        "id": "_i1QLR0BqnZb",
        "outputId": "39e9f149-2136-496c-f84b-2eaf6c7beac4"
      },
      "source": [
        "from IPython.core.display import display, HTML\n",
        "display(HTML(\"<style>.container { width:100% !important; }</style>\"))"
      ],
      "execution_count": null,
      "outputs": [
        {
          "output_type": "display_data",
          "data": {
            "text/html": [
              "<style>.container { width:100% !important; }</style>"
            ],
            "text/plain": [
              "<IPython.core.display.HTML object>"
            ]
          },
          "metadata": {
            "tags": []
          }
        }
      ]
    },
    {
      "cell_type": "code",
      "metadata": {
        "id": "_6RKS5syqnZc"
      },
      "source": [
        "class parameters():\n",
        "    ''' Общий класс для хранения всех парамметров '''\n",
        "    \n",
        "    transaction_dataset = './data/transactions.csv'\n",
        "    country_dataset = './data/countries.csv'\n",
        "    currency_dataset = './data/currency_details.csv'\n",
        "    fraudster_dataset = './data/fraudsters.csv'\n",
        "    user_dataset = './data/users.csv'\n",
        "    test_user_pkl = './data/test_users.pkl'\n",
        "\n",
        "    random_state = 7\n",
        "\n",
        "    n_folds = 3\n",
        "    test_size = .3\n",
        "    days_from_max_to_split = None\n",
        "    \n",
        "    best_pca_components_number = None\n",
        "    best_pca = None\n",
        "\n",
        "    model_pkl = './artifacts/model.pkl'\n",
        "    dataset_file_name = './data/dataset.csv'\n",
        "    balanced_dataset_file_name = './data/balanced_dataset.csv'\n",
        "    \n",
        "    cols_to_select = ['TRN_ID', 'USER_ID', 'CREATED_DATE_x', 'CURRENCY', 'AMOUNT',\n",
        "                      'STATE', 'MERCHANT_CATEGORY', 'ENTRY_METHOD', 'TYPE', 'SOURCE', 'HAS_EMAIL',\n",
        "                      'IS_FRAUDSTER', 'TERMS_VERSION', 'KYC', 'FAILED_SIGN_IN_ATTEMPTS', 'AGE', 'PROFILE_AGE',\n",
        "                      'HOMELAND', 'HOMELAND_PHONE', 'DAY_OF_TRANSACTION', 'HOUR_OF_TRANSACTION', 'IS_CRYPTO']\n",
        "    cat_features = ['ENTRY_METHOD', 'TYPE', 'SOURCE', 'STATE', 'MERCHANT_CATEGORY',\n",
        "                    'TERMS_VERSION', 'KYC', 'CURRENCY']\n",
        "    id_features = ['USER_ID','TRN_ID']\n",
        "    target_feature = 'IS_FRAUDSTER'"
      ],
      "execution_count": null,
      "outputs": []
    },
    {
      "cell_type": "markdown",
      "metadata": {
        "id": "q8ZwLpSPqnZc"
      },
      "source": [
        "### Проверить все данные"
      ]
    },
    {
      "cell_type": "code",
      "metadata": {
        "id": "SdffA8VjqnZd"
      },
      "source": [
        "def load_file(filename, encoding='windows-1251'):\n",
        "    ''' Функция загрузки csv-файла и возврат фрейма данных и некоторой статистики'''\n",
        "\n",
        "    print(f'Loading file: {filename}')\n",
        "    df = pd.read_csv(filename, encoding='windows-1251')\n",
        "    print(f'Shape of the dataset: {df.shape}')\n",
        "    pprint(df.describe())\n",
        "    pprint(df.head())\n",
        "\n",
        "    return df"
      ],
      "execution_count": null,
      "outputs": []
    },
    {
      "cell_type": "code",
      "metadata": {
        "id": "zbq31ki_qnZd",
        "outputId": "3441d67b-a1d7-4bba-acb0-885778ad33f8"
      },
      "source": [
        "trn_df = load_file(parameters.transaction_dataset)"
      ],
      "execution_count": null,
      "outputs": [
        {
          "output_type": "stream",
          "text": [
            "Loading file: ./data/transactions.csv\n",
            "Shape of the dataset: (688651, 11)\n",
            "             AMOUNT\n",
            "count  6.886510e+05\n",
            "mean   3.172575e+04\n",
            "std    2.304381e+06\n",
            "min    0.000000e+00\n",
            "25%    4.800000e+02\n",
            "50%    1.420000e+03\n",
            "75%    5.000000e+03\n",
            "max    9.000000e+08\n",
            "  CURRENCY  AMOUNT      STATE             CREATED_DATE MERCHANT_CATEGORY  \\\n",
            "0      GBP     175  COMPLETED  2017-12-20 12:46:20.294              cafe   \n",
            "1      EUR    2593  COMPLETED  2017-12-20 12:38:47.232               bar   \n",
            "2      EUR    1077  COMPLETED  2017-12-20 12:34:39.668               NaN   \n",
            "3      GBP     198  COMPLETED  2017-12-20 12:45:50.555       supermarket   \n",
            "4      EUR     990  COMPLETED  2017-12-20 12:45:32.722               NaN   \n",
            "\n",
            "  MERCHANT_COUNTRY ENTRY_METHOD                               USER_ID  \\\n",
            "0              GBR         cont  8f99c254-7cf2-4e35-b7e4-53804d42445d   \n",
            "1              AUS         cont  ed773c34-2b83-4f70-a691-6a7aa1cb9f11   \n",
            "2              CZE         cont  eb349cc1-e986-4bf4-bb75-72280a7b8680   \n",
            "3              GBR         cont  dc78fbc4-c936-45d3-a813-e2477ac6d74b   \n",
            "4              FRA         cont  32958a5c-2532-42f7-94f9-127f2a812a55   \n",
            "\n",
            "           TYPE SOURCE                                    ID  \n",
            "0  CARD_PAYMENT   GAIA  b3332e6f-7865-4d6e-b6a5-370bc75568d8  \n",
            "1  CARD_PAYMENT   GAIA  853d9ff8-a007-40ef-91a2-7d81e29a309a  \n",
            "2  CARD_PAYMENT   GAIA  04de8238-7828-4e46-91f1-050a9aa7a9df  \n",
            "3  CARD_PAYMENT   GAIA  2b790b9b-c312-4098-a4b3-4830fc8cda53  \n",
            "4  CARD_PAYMENT   GAIA  6469fc3a-e535-41e9-91b9-acb46d1cc65d  \n"
          ],
          "name": "stdout"
        }
      ]
    },
    {
      "cell_type": "code",
      "metadata": {
        "id": "l4jY-Z1qqnZd",
        "outputId": "6b462ebc-b3dd-495d-d100-3e6c5d082a30"
      },
      "source": [
        "cntr_df = load_file(parameters.country_dataset)"
      ],
      "execution_count": null,
      "outputs": [
        {
          "output_type": "stream",
          "text": [
            "Loading file: ./data/countries.csv\n",
            "Shape of the dataset: (226, 5)\n",
            "          NUMCODE    PHONECODE\n",
            "count  226.000000   226.000000\n",
            "mean   433.628319   531.371681\n",
            "std    251.971451   648.237826\n",
            "min      4.000000     0.000000\n",
            "25%    219.000000   220.250000\n",
            "50%    432.000000   354.500000\n",
            "75%    645.250000   686.750000\n",
            "max    894.000000  7370.000000\n",
            "  CODE            NAME CODE3  NUMCODE  PHONECODE\n",
            "0   AF     Afghanistan   AFG        4         93\n",
            "1   AL         Albania   ALB        8        355\n",
            "2   DZ         Algeria   DZA       12        213\n",
            "3   AS  American Samoa   ASM       16       1684\n",
            "4   AO          Angola   AGO       24        244\n"
          ],
          "name": "stdout"
        }
      ]
    },
    {
      "cell_type": "code",
      "metadata": {
        "id": "nAEjivr9qnZe",
        "outputId": "1a4f25f5-954e-4a69-f98d-90df5563157e"
      },
      "source": [
        "cur_df = load_file(parameters.currency_dataset)"
      ],
      "execution_count": null,
      "outputs": [
        {
          "output_type": "stream",
          "text": [
            "Loading file: ./data/currency_details.csv\n",
            "Shape of the dataset: (184, 3)\n",
            "         EXPONENT\n",
            "count  184.000000\n",
            "mean     1.961957\n",
            "std      1.189052\n",
            "min      0.000000\n",
            "25%      2.000000\n",
            "50%      2.000000\n",
            "75%      2.000000\n",
            "max      8.000000\n",
            "   CCY  EXPONENT  IS_CRYPTO\n",
            "0  AED         2      False\n",
            "1  AFN         2      False\n",
            "2  ALL         2      False\n",
            "3  AMD         2      False\n",
            "4  ANG         2      False\n"
          ],
          "name": "stdout"
        }
      ]
    },
    {
      "cell_type": "code",
      "metadata": {
        "id": "Fqa529ByqnZe",
        "outputId": "bca9d4f2-f2f7-42ab-e343-7aff0344f5a5"
      },
      "source": [
        "fraud_df = load_file(parameters.fraudster_dataset)"
      ],
      "execution_count": null,
      "outputs": [
        {
          "output_type": "stream",
          "text": [
            "Loading file: ./data/fraudsters.csv\n",
            "Shape of the dataset: (298, 1)\n",
            "                                     USER_ID\n",
            "count                                    298\n",
            "unique                                   298\n",
            "top     840a2f6a-b344-4e6b-84fe-ff27531f3125\n",
            "freq                                       1\n",
            "                                USER_ID\n",
            "0  5270b0f4-2e4a-4ec9-8648-2135312ac1c4\n",
            "1  848fc1b1-096c-40f7-b04a-1399c469e421\n",
            "2  27c76eda-e159-4df3-845a-e13f4e28a8b5\n",
            "3  a27088ef-9452-403d-9bbb-f7b10180cdda\n",
            "4  fb23710b-609a-49bf-8a9a-be49c59ce6de\n"
          ],
          "name": "stdout"
        }
      ]
    },
    {
      "cell_type": "code",
      "metadata": {
        "id": "uFXet1lGqnZe",
        "outputId": "62f36c52-87f7-4836-c917-7ae4925f3acf"
      },
      "source": [
        "user_df = load_file(parameters.user_dataset)"
      ],
      "execution_count": null,
      "outputs": [
        {
          "output_type": "stream",
          "text": [
            "Loading file: ./data/users.csv\n",
            "Shape of the dataset: (9944, 11)\n",
            "         HAS_EMAIL   BIRTH_YEAR  FAILED_SIGN_IN_ATTEMPTS\n",
            "count  9944.000000  9944.000000              9944.000000\n",
            "mean      0.946702  1983.553298                 0.008045\n",
            "std       0.224639    11.350379                 0.129737\n",
            "min       0.000000  1927.000000                 0.000000\n",
            "25%       1.000000  1978.000000                 0.000000\n",
            "50%       1.000000  1986.000000                 0.000000\n",
            "75%       1.000000  1992.000000                 0.000000\n",
            "max       1.000000  2000.000000                 6.000000\n",
            "                                     ID  HAS_EMAIL   PHONE_COUNTRY  \\\n",
            "0  1872820f-e3ac-4c02-bdc7-727897b60043          1  GB||JE||IM||GG   \n",
            "1  545ff94d-66f8-4bea-b398-84425fb2301e          1  GB||JE||IM||GG   \n",
            "2  10376f1a-a28a-4885-8daa-c8ca496026bb          1              ES   \n",
            "3  fd308db7-0753-4377-879f-6ecf2af14e4f          1              FR   \n",
            "4  755fe256-a34d-4853-b7ca-d9bb991a86d3          1  GB||JE||IM||GG   \n",
            "\n",
            "   IS_FRAUDSTER TERMS_VERSION                CREATED_DATE   STATE COUNTRY  \\\n",
            "0         False    2018-05-25  2017-08-06 07:33:33.341000  ACTIVE      GB   \n",
            "1         False    2018-01-01  2017-03-07 10:18:59.427000  ACTIVE      GB   \n",
            "2         False    2018-09-20  2018-05-31 04:41:24.672000  ACTIVE      ES   \n",
            "3         False    2018-05-25  2018-06-01 17:24:23.852000  ACTIVE      FR   \n",
            "4         False    2018-09-20  2017-08-09 15:03:33.945000  ACTIVE      GB   \n",
            "\n",
            "   BIRTH_YEAR     KYC  FAILED_SIGN_IN_ATTEMPTS  \n",
            "0        1971  PASSED                        0  \n",
            "1        1982  PASSED                        0  \n",
            "2        1973  PASSED                        0  \n",
            "3        1986  PASSED                        0  \n",
            "4        1989  PASSED                        0  \n"
          ],
          "name": "stdout"
        }
      ]
    },
    {
      "cell_type": "markdown",
      "metadata": {
        "id": "iLHQw4YbqnZe"
      },
      "source": [
        "Users for final test"
      ]
    },
    {
      "cell_type": "code",
      "metadata": {
        "id": "TGRgJnaTqnZf",
        "outputId": "5dc21e94-b9e8-42ee-d671-ffd5d0c5154a"
      },
      "source": [
        "#test_users = joblib.load(parameters.test_user_pkl)\n",
        "test_users = pickle.load(open(parameters.test_user_pkl,'rb'))\n",
        "print(f'Length of the list of test users: {len(test_users)}')\n",
        "test_users[:5]"
      ],
      "execution_count": null,
      "outputs": [
        {
          "output_type": "stream",
          "text": [
            "Length of the list of test users: 84\n"
          ],
          "name": "stdout"
        },
        {
          "output_type": "execute_result",
          "data": {
            "text/plain": [
              "['0c6ec0f3-d062-4998-9ddd-5f7995164126',\n",
              " 'b77d5b47-244a-41b8-8abd-62019463bd32',\n",
              " 'b761cde7-d548-474f-a909-97702cdf02d9',\n",
              " 'c63d1b5b-62ce-4f01-8192-9852106f663c',\n",
              " 'ef4a0a80-2825-4013-98fb-09ff212912b0']"
            ]
          },
          "metadata": {
            "tags": []
          },
          "execution_count": 10
        }
      ]
    },
    {
      "cell_type": "markdown",
      "metadata": {
        "id": "QdadM5RRqnZf"
      },
      "source": [
        "### Начнем с ПОЛЬЗОВАТЕЛЕЙ"
      ]
    },
    {
      "cell_type": "code",
      "metadata": {
        "id": "oKrDLAIcqnZf",
        "outputId": "529df7a1-4c91-4146-f5b4-b7b558fbadd3"
      },
      "source": [
        "user_df.info()"
      ],
      "execution_count": null,
      "outputs": [
        {
          "output_type": "stream",
          "text": [
            "<class 'pandas.core.frame.DataFrame'>\n",
            "RangeIndex: 9944 entries, 0 to 9943\n",
            "Data columns (total 11 columns):\n",
            "ID                         9944 non-null object\n",
            "HAS_EMAIL                  9944 non-null int64\n",
            "PHONE_COUNTRY              9944 non-null object\n",
            "IS_FRAUDSTER               9944 non-null bool\n",
            "TERMS_VERSION              8417 non-null object\n",
            "CREATED_DATE               9944 non-null object\n",
            "STATE                      9944 non-null object\n",
            "COUNTRY                    9944 non-null object\n",
            "BIRTH_YEAR                 9944 non-null int64\n",
            "KYC                        9944 non-null object\n",
            "FAILED_SIGN_IN_ATTEMPTS    9944 non-null int64\n",
            "dtypes: bool(1), int64(3), object(7)\n",
            "memory usage: 786.7+ KB\n"
          ],
          "name": "stdout"
        }
      ]
    },
    {
      "cell_type": "code",
      "metadata": {
        "id": "KvC3j-EuqnZf"
      },
      "source": [
        "# В TERMS_VERSION есть NaN - заполним его версией \"Undefined\"\n",
        "user_df['TERMS_VERSION'] = user_df['TERMS_VERSION'].fillna(\"Undefined\")"
      ],
      "execution_count": null,
      "outputs": []
    },
    {
      "cell_type": "code",
      "metadata": {
        "id": "d-SmTJQQqnZg",
        "outputId": "b889119b-08cc-48d1-feb6-f7db78cea6a4"
      },
      "source": [
        "user_df['IS_FRAUDSTER'].value_counts()"
      ],
      "execution_count": null,
      "outputs": [
        {
          "output_type": "execute_result",
          "data": {
            "text/plain": [
              "False    9646\n",
              "True      298\n",
              "Name: IS_FRAUDSTER, dtype: int64"
            ]
          },
          "metadata": {
            "tags": []
          },
          "execution_count": 13
        }
      ]
    },
    {
      "cell_type": "code",
      "metadata": {
        "id": "-Q_8RIFJqnZg",
        "outputId": "aeede25b-87eb-4a79-ee19-a16ba237b1db"
      },
      "source": [
        "sns.barplot(x=user_df['IS_FRAUDSTER'].value_counts().index, y=user_df['IS_FRAUDSTER'].value_counts())\n",
        "plt.title('Users count')\n",
        "plt.ylabel('Users')\n",
        "plt.xlabel('False = Non-FRAUDSTERS            True = FRAUDSTERS');"
      ],
      "execution_count": null,
      "outputs": [
        {
          "output_type": "display_data",
          "data": {
            "image/png": "[encoded data removed]",
            "text/plain": [
              "<Figure size 432x288 with 1 Axes>"
            ]
          },
          "metadata": {
            "tags": [],
            "needs_background": "light"
          }
        }
      ]
    },
    {
      "cell_type": "code",
      "metadata": {
        "id": "AHUq5aXLqnZg",
        "outputId": "c3dabbe5-10bf-4ced-8e93-405bc9e93e56"
      },
      "source": [
        "# Проверяем, что у нас одни и те же пользователи как мошенники в двух наборах данных\n",
        "set(user_df[user_df['IS_FRAUDSTER']==True]['ID'].values).issubset(set(fraud_df['USER_ID'].values)) and set(fraud_df['USER_ID'].values).issubset(set(user_df[user_df['IS_FRAUDSTER']==True]['ID'].values))"
      ],
      "execution_count": null,
      "outputs": [
        {
          "output_type": "execute_result",
          "data": {
            "text/plain": [
              "True"
            ]
          },
          "metadata": {
            "tags": []
          },
          "execution_count": 15
        }
      ]
    },
    {
      "cell_type": "code",
      "metadata": {
        "id": "Te9HQCvVqnZg",
        "outputId": "f55badde-f638-4556-ec6d-7c47acf071e7"
      },
      "source": [
        "user_df[user_df['IS_FRAUDSTER']==True].head()"
      ],
      "execution_count": null,
      "outputs": [
        {
          "output_type": "execute_result",
          "data": {
            "text/html": [
              "<div>\n",
              "<style scoped>\n",
              "    .dataframe tbody tr th:only-of-type {\n",
              "        vertical-align: middle;\n",
              "    }\n",
              "\n",
              "    .dataframe tbody tr th {\n",
              "        vertical-align: top;\n",
              "    }\n",
              "\n",
              "    .dataframe thead th {\n",
              "        text-align: right;\n",
              "    }\n",
              "</style>\n",
              "<table border=\"1\" class=\"dataframe\">\n",
              "  <thead>\n",
              "    <tr style=\"text-align: right;\">\n",
              "      <th></th>\n",
              "      <th>ID</th>\n",
              "      <th>HAS_EMAIL</th>\n",
              "      <th>PHONE_COUNTRY</th>\n",
              "      <th>IS_FRAUDSTER</th>\n",
              "      <th>TERMS_VERSION</th>\n",
              "      <th>CREATED_DATE</th>\n",
              "      <th>STATE</th>\n",
              "      <th>COUNTRY</th>\n",
              "      <th>BIRTH_YEAR</th>\n",
              "      <th>KYC</th>\n",
              "      <th>FAILED_SIGN_IN_ATTEMPTS</th>\n",
              "    </tr>\n",
              "  </thead>\n",
              "  <tbody>\n",
              "    <tr>\n",
              "      <td>8166</td>\n",
              "      <td>5270b0f4-2e4a-4ec9-8648-2135312ac1c4</td>\n",
              "      <td>1</td>\n",
              "      <td>GB||JE||IM||GG</td>\n",
              "      <td>True</td>\n",
              "      <td>Undefined</td>\n",
              "      <td>2017-09-19 01:55:22.376000</td>\n",
              "      <td>LOCKED</td>\n",
              "      <td>GB</td>\n",
              "      <td>1988</td>\n",
              "      <td>NONE</td>\n",
              "      <td>0</td>\n",
              "    </tr>\n",
              "    <tr>\n",
              "      <td>8167</td>\n",
              "      <td>848fc1b1-096c-40f7-b04a-1399c469e421</td>\n",
              "      <td>1</td>\n",
              "      <td>PL</td>\n",
              "      <td>True</td>\n",
              "      <td>2018-05-25</td>\n",
              "      <td>2018-06-16 15:55:43.800000</td>\n",
              "      <td>LOCKED</td>\n",
              "      <td>GB</td>\n",
              "      <td>1994</td>\n",
              "      <td>PASSED</td>\n",
              "      <td>0</td>\n",
              "    </tr>\n",
              "    <tr>\n",
              "      <td>8168</td>\n",
              "      <td>27c76eda-e159-4df3-845a-e13f4e28a8b5</td>\n",
              "      <td>1</td>\n",
              "      <td>GB||JE||IM||GG</td>\n",
              "      <td>True</td>\n",
              "      <td>2018-05-25</td>\n",
              "      <td>2018-05-11 18:20:45.608000</td>\n",
              "      <td>LOCKED</td>\n",
              "      <td>GB</td>\n",
              "      <td>1997</td>\n",
              "      <td>PASSED</td>\n",
              "      <td>0</td>\n",
              "    </tr>\n",
              "    <tr>\n",
              "      <td>8169</td>\n",
              "      <td>a27088ef-9452-403d-9bbb-f7b10180cdda</td>\n",
              "      <td>1</td>\n",
              "      <td>IN</td>\n",
              "      <td>True</td>\n",
              "      <td>2018-05-25</td>\n",
              "      <td>2018-05-18 16:41:12.267000</td>\n",
              "      <td>LOCKED</td>\n",
              "      <td>BE</td>\n",
              "      <td>1989</td>\n",
              "      <td>PASSED</td>\n",
              "      <td>0</td>\n",
              "    </tr>\n",
              "    <tr>\n",
              "      <td>8170</td>\n",
              "      <td>fb23710b-609a-49bf-8a9a-be49c59ce6de</td>\n",
              "      <td>1</td>\n",
              "      <td>LT</td>\n",
              "      <td>True</td>\n",
              "      <td>2018-03-20</td>\n",
              "      <td>2018-03-29 13:37:29.736000</td>\n",
              "      <td>LOCKED</td>\n",
              "      <td>LT</td>\n",
              "      <td>1992</td>\n",
              "      <td>PASSED</td>\n",
              "      <td>0</td>\n",
              "    </tr>\n",
              "  </tbody>\n",
              "</table>\n",
              "</div>"
            ],
            "text/plain": [
              "                                        ID  HAS_EMAIL   PHONE_COUNTRY  \\\n",
              "8166  5270b0f4-2e4a-4ec9-8648-2135312ac1c4          1  GB||JE||IM||GG   \n",
              "8167  848fc1b1-096c-40f7-b04a-1399c469e421          1              PL   \n",
              "8168  27c76eda-e159-4df3-845a-e13f4e28a8b5          1  GB||JE||IM||GG   \n",
              "8169  a27088ef-9452-403d-9bbb-f7b10180cdda          1              IN   \n",
              "8170  fb23710b-609a-49bf-8a9a-be49c59ce6de          1              LT   \n",
              "\n",
              "      IS_FRAUDSTER TERMS_VERSION                CREATED_DATE   STATE COUNTRY  \\\n",
              "8166          True     Undefined  2017-09-19 01:55:22.376000  LOCKED      GB   \n",
              "8167          True    2018-05-25  2018-06-16 15:55:43.800000  LOCKED      GB   \n",
              "8168          True    2018-05-25  2018-05-11 18:20:45.608000  LOCKED      GB   \n",
              "8169          True    2018-05-25  2018-05-18 16:41:12.267000  LOCKED      BE   \n",
              "8170          True    2018-03-20  2018-03-29 13:37:29.736000  LOCKED      LT   \n",
              "\n",
              "      BIRTH_YEAR     KYC  FAILED_SIGN_IN_ATTEMPTS  \n",
              "8166        1988    NONE                        0  \n",
              "8167        1994  PASSED                        0  \n",
              "8168        1997  PASSED                        0  \n",
              "8169        1989  PASSED                        0  \n",
              "8170        1992  PASSED                        0  "
            ]
          },
          "metadata": {
            "tags": []
          },
          "execution_count": 16
        }
      ]
    },
    {
      "cell_type": "code",
      "metadata": {
        "id": "bOrdkbrHqnZh",
        "outputId": "5e175dfd-de6b-4f15-c3b8-1c1748faa721"
      },
      "source": [
        "# Убедимся, что заблокированы только мошенники, поэтому нам больше не нужно иметь STATE пользователя\n",
        "user_df[user_df['IS_FRAUDSTER']==True]['STATE'].value_counts()"
      ],
      "execution_count": null,
      "outputs": [
        {
          "output_type": "execute_result",
          "data": {
            "text/plain": [
              "LOCKED    298\n",
              "Name: STATE, dtype: int64"
            ]
          },
          "metadata": {
            "tags": []
          },
          "execution_count": 17
        }
      ]
    },
    {
      "cell_type": "code",
      "metadata": {
        "id": "lay-QXJqqnZh"
      },
      "source": [
        "user_df.drop('STATE', axis=1, inplace=True)"
      ],
      "execution_count": null,
      "outputs": []
    },
    {
      "cell_type": "code",
      "metadata": {
        "id": "glSHDuQMqnZh"
      },
      "source": [
        "# Создаем переменную AGE как возраст на дату CREATED_DATE профиля в системе\n",
        "user_df['AGE'] = user_df.apply(lambda x: datetime.strptime(x['CREATED_DATE'], '%Y-%m-%d %H:%M:%S.%f').year-x['BIRTH_YEAR'], axis=1)\n",
        "# Нам больше не нужен BIRTH_YEAR  - drop\n",
        "user_df.drop('BIRTH_YEAR', axis=1, inplace=True)"
      ],
      "execution_count": null,
      "outputs": []
    },
    {
      "cell_type": "code",
      "metadata": {
        "id": "4w0OssDfqnZh"
      },
      "source": [
        "# Создадим двоичную функцию, которая находится в стране в Phone_country\n",
        "user_df['HOMELAND_PHONE'] = user_df.apply(lambda x: 1 if x['COUNTRY'].upper() in x['PHONE_COUNTRY'].upper().split('||') else 0, axis=1)"
      ],
      "execution_count": null,
      "outputs": []
    },
    {
      "cell_type": "code",
      "metadata": {
        "scrolled": false,
        "id": "hhuPaug3qnZh",
        "outputId": "17f5491c-6f85-4847-8ebf-aaae5d42430c"
      },
      "source": [
        "g=sns.pairplot(data=user_df,plot_kws={'alpha':0.2},hue='IS_FRAUDSTER');\n",
        "g.fig.set_size_inches(12,10)"
      ],
      "execution_count": null,
      "outputs": [
        {
          "output_type": "display_data",
          "data": {
            "image/png": "[encoded data removed]",
            "text/plain": [
              "<Figure size 864x720 with 30 Axes>"
            ]
          },
          "metadata": {
            "tags": [],
            "needs_background": "light"
          }
        }
      ]
    },
    {
      "cell_type": "markdown",
      "metadata": {
        "id": "EFgcSlnaqnZi"
      },
      "source": [
        "В пользовательском наборе данных есть один признак мошенничества: у мошенников есть максимум две попытки входа в систему. Вероятно, они боялись, что их поймают."
      ]
    },
    {
      "cell_type": "code",
      "metadata": {
        "id": "SUeXgRADqnZi",
        "outputId": "43fe9dee-e73f-4ae6-f4b8-a330c87f02a3"
      },
      "source": [
        "user_df[user_df['IS_FRAUDSTER']==True]['FAILED_SIGN_IN_ATTEMPTS'].value_counts()"
      ],
      "execution_count": null,
      "outputs": [
        {
          "output_type": "execute_result",
          "data": {
            "text/plain": [
              "0    295\n",
              "2      2\n",
              "1      1\n",
              "Name: FAILED_SIGN_IN_ATTEMPTS, dtype: int64"
            ]
          },
          "metadata": {
            "tags": []
          },
          "execution_count": 22
        }
      ]
    },
    {
      "cell_type": "code",
      "metadata": {
        "id": "wk1Rpv3FqnZi",
        "outputId": "b0cc25a5-6b8f-4a19-c057-7ea94401c95e"
      },
      "source": [
        "user_df[user_df['IS_FRAUDSTER']==False]['FAILED_SIGN_IN_ATTEMPTS'].value_counts()"
      ],
      "execution_count": null,
      "outputs": [
        {
          "output_type": "execute_result",
          "data": {
            "text/plain": [
              "0    9600\n",
              "1      24\n",
              "2      18\n",
              "3       3\n",
              "6       1\n",
              "Name: FAILED_SIGN_IN_ATTEMPTS, dtype: int64"
            ]
          },
          "metadata": {
            "tags": []
          },
          "execution_count": 23
        }
      ]
    },
    {
      "cell_type": "markdown",
      "metadata": {
        "id": "owNCDDuNqnZi"
      },
      "source": [
        "Итак, мои предварительные наблюдения для мошенников:\n",
        "\n",
        "* если страна продавца отличается от страны / phone_country пользователя\n",
        "\n",
        "* если валюта транзакции отличается от страны пользователя\n",
        "\n",
        "* если период на платформе очень маленький\n",
        "\n",
        "* если период между транзакциями слишком мал\n",
        "\n",
        "* если количество транзакций не является обычным для этого пользователя\n",
        "\n",
        "* или MERCHANT_CATEGORY не является общим для этого пользователя\n",
        "\n",
        "* или TYPE не является общим для этого пользователя\n",
        "\n",
        "Новые идеи:\n",
        "* несколько банковских переводов или одна операция через банкомат приводят к БЛОКИРОВКЕ\n",
        "\n",
        "* Страна торговца NAN приводит к ALERT и LOCK\n",
        "\n",
        "* entry-method == man привести к ALERT"
      ]
    },
    {
      "cell_type": "markdown",
      "metadata": {
        "id": "NjhCkVTrqnZj"
      },
      "source": [
        "### **Разработка функций**"
      ]
    },
    {
      "cell_type": "markdown",
      "metadata": {
        "id": "g7D8XzHNqnZj"
      },
      "source": [
        "#### Теперь посмотрим на транзакции"
      ]
    },
    {
      "cell_type": "code",
      "metadata": {
        "id": "i6H81IDuqnZj",
        "outputId": "348e98b4-9028-4acf-baf2-66fb75de2790"
      },
      "source": [
        "trn_df.head()"
      ],
      "execution_count": null,
      "outputs": [
        {
          "output_type": "execute_result",
          "data": {
            "text/html": [
              "<div>\n",
              "<style scoped>\n",
              "    .dataframe tbody tr th:only-of-type {\n",
              "        vertical-align: middle;\n",
              "    }\n",
              "\n",
              "    .dataframe tbody tr th {\n",
              "        vertical-align: top;\n",
              "    }\n",
              "\n",
              "    .dataframe thead th {\n",
              "        text-align: right;\n",
              "    }\n",
              "</style>\n",
              "<table border=\"1\" class=\"dataframe\">\n",
              "  <thead>\n",
              "    <tr style=\"text-align: right;\">\n",
              "      <th></th>\n",
              "      <th>CURRENCY</th>\n",
              "      <th>AMOUNT</th>\n",
              "      <th>STATE</th>\n",
              "      <th>CREATED_DATE</th>\n",
              "      <th>MERCHANT_CATEGORY</th>\n",
              "      <th>MERCHANT_COUNTRY</th>\n",
              "      <th>ENTRY_METHOD</th>\n",
              "      <th>USER_ID</th>\n",
              "      <th>TYPE</th>\n",
              "      <th>SOURCE</th>\n",
              "      <th>ID</th>\n",
              "    </tr>\n",
              "  </thead>\n",
              "  <tbody>\n",
              "    <tr>\n",
              "      <td>0</td>\n",
              "      <td>GBP</td>\n",
              "      <td>175</td>\n",
              "      <td>COMPLETED</td>\n",
              "      <td>2017-12-20 12:46:20.294</td>\n",
              "      <td>cafe</td>\n",
              "      <td>GBR</td>\n",
              "      <td>cont</td>\n",
              "      <td>8f99c254-7cf2-4e35-b7e4-53804d42445d</td>\n",
              "      <td>CARD_PAYMENT</td>\n",
              "      <td>GAIA</td>\n",
              "      <td>b3332e6f-7865-4d6e-b6a5-370bc75568d8</td>\n",
              "    </tr>\n",
              "    <tr>\n",
              "      <td>1</td>\n",
              "      <td>EUR</td>\n",
              "      <td>2593</td>\n",
              "      <td>COMPLETED</td>\n",
              "      <td>2017-12-20 12:38:47.232</td>\n",
              "      <td>bar</td>\n",
              "      <td>AUS</td>\n",
              "      <td>cont</td>\n",
              "      <td>ed773c34-2b83-4f70-a691-6a7aa1cb9f11</td>\n",
              "      <td>CARD_PAYMENT</td>\n",
              "      <td>GAIA</td>\n",
              "      <td>853d9ff8-a007-40ef-91a2-7d81e29a309a</td>\n",
              "    </tr>\n",
              "    <tr>\n",
              "      <td>2</td>\n",
              "      <td>EUR</td>\n",
              "      <td>1077</td>\n",
              "      <td>COMPLETED</td>\n",
              "      <td>2017-12-20 12:34:39.668</td>\n",
              "      <td>NaN</td>\n",
              "      <td>CZE</td>\n",
              "      <td>cont</td>\n",
              "      <td>eb349cc1-e986-4bf4-bb75-72280a7b8680</td>\n",
              "      <td>CARD_PAYMENT</td>\n",
              "      <td>GAIA</td>\n",
              "      <td>04de8238-7828-4e46-91f1-050a9aa7a9df</td>\n",
              "    </tr>\n",
              "    <tr>\n",
              "      <td>3</td>\n",
              "      <td>GBP</td>\n",
              "      <td>198</td>\n",
              "      <td>COMPLETED</td>\n",
              "      <td>2017-12-20 12:45:50.555</td>\n",
              "      <td>supermarket</td>\n",
              "      <td>GBR</td>\n",
              "      <td>cont</td>\n",
              "      <td>dc78fbc4-c936-45d3-a813-e2477ac6d74b</td>\n",
              "      <td>CARD_PAYMENT</td>\n",
              "      <td>GAIA</td>\n",
              "      <td>2b790b9b-c312-4098-a4b3-4830fc8cda53</td>\n",
              "    </tr>\n",
              "    <tr>\n",
              "      <td>4</td>\n",
              "      <td>EUR</td>\n",
              "      <td>990</td>\n",
              "      <td>COMPLETED</td>\n",
              "      <td>2017-12-20 12:45:32.722</td>\n",
              "      <td>NaN</td>\n",
              "      <td>FRA</td>\n",
              "      <td>cont</td>\n",
              "      <td>32958a5c-2532-42f7-94f9-127f2a812a55</td>\n",
              "      <td>CARD_PAYMENT</td>\n",
              "      <td>GAIA</td>\n",
              "      <td>6469fc3a-e535-41e9-91b9-acb46d1cc65d</td>\n",
              "    </tr>\n",
              "  </tbody>\n",
              "</table>\n",
              "</div>"
            ],
            "text/plain": [
              "  CURRENCY  AMOUNT      STATE             CREATED_DATE MERCHANT_CATEGORY  \\\n",
              "0      GBP     175  COMPLETED  2017-12-20 12:46:20.294              cafe   \n",
              "1      EUR    2593  COMPLETED  2017-12-20 12:38:47.232               bar   \n",
              "2      EUR    1077  COMPLETED  2017-12-20 12:34:39.668               NaN   \n",
              "3      GBP     198  COMPLETED  2017-12-20 12:45:50.555       supermarket   \n",
              "4      EUR     990  COMPLETED  2017-12-20 12:45:32.722               NaN   \n",
              "\n",
              "  MERCHANT_COUNTRY ENTRY_METHOD                               USER_ID  \\\n",
              "0              GBR         cont  8f99c254-7cf2-4e35-b7e4-53804d42445d   \n",
              "1              AUS         cont  ed773c34-2b83-4f70-a691-6a7aa1cb9f11   \n",
              "2              CZE         cont  eb349cc1-e986-4bf4-bb75-72280a7b8680   \n",
              "3              GBR         cont  dc78fbc4-c936-45d3-a813-e2477ac6d74b   \n",
              "4              FRA         cont  32958a5c-2532-42f7-94f9-127f2a812a55   \n",
              "\n",
              "           TYPE SOURCE                                    ID  \n",
              "0  CARD_PAYMENT   GAIA  b3332e6f-7865-4d6e-b6a5-370bc75568d8  \n",
              "1  CARD_PAYMENT   GAIA  853d9ff8-a007-40ef-91a2-7d81e29a309a  \n",
              "2  CARD_PAYMENT   GAIA  04de8238-7828-4e46-91f1-050a9aa7a9df  \n",
              "3  CARD_PAYMENT   GAIA  2b790b9b-c312-4098-a4b3-4830fc8cda53  \n",
              "4  CARD_PAYMENT   GAIA  6469fc3a-e535-41e9-91b9-acb46d1cc65d  "
            ]
          },
          "metadata": {
            "tags": []
          },
          "execution_count": 24
        }
      ]
    },
    {
      "cell_type": "code",
      "metadata": {
        "id": "I694KyDDqnZj",
        "outputId": "bf6788a8-0f41-44f1-ea90-7299ce131910"
      },
      "source": [
        "# посмотрим на мошенника\n",
        "trn_df[trn_df['USER_ID']=='fb23710b-609a-49bf-8a9a-be49c59ce6de'].sort_values('CREATED_DATE', ascending=True)"
      ],
      "execution_count": null,
      "outputs": [
        {
          "output_type": "execute_result",
          "data": {
            "text/html": [
              "<div>\n",
              "<style scoped>\n",
              "    .dataframe tbody tr th:only-of-type {\n",
              "        vertical-align: middle;\n",
              "    }\n",
              "\n",
              "    .dataframe tbody tr th {\n",
              "        vertical-align: top;\n",
              "    }\n",
              "\n",
              "    .dataframe thead th {\n",
              "        text-align: right;\n",
              "    }\n",
              "</style>\n",
              "<table border=\"1\" class=\"dataframe\">\n",
              "  <thead>\n",
              "    <tr style=\"text-align: right;\">\n",
              "      <th></th>\n",
              "      <th>CURRENCY</th>\n",
              "      <th>AMOUNT</th>\n",
              "      <th>STATE</th>\n",
              "      <th>CREATED_DATE</th>\n",
              "      <th>MERCHANT_CATEGORY</th>\n",
              "      <th>MERCHANT_COUNTRY</th>\n",
              "      <th>ENTRY_METHOD</th>\n",
              "      <th>USER_ID</th>\n",
              "      <th>TYPE</th>\n",
              "      <th>SOURCE</th>\n",
              "      <th>ID</th>\n",
              "    </tr>\n",
              "  </thead>\n",
              "  <tbody>\n",
              "    <tr>\n",
              "      <td>132324</td>\n",
              "      <td>GBP</td>\n",
              "      <td>5000</td>\n",
              "      <td>COMPLETED</td>\n",
              "      <td>2018-04-06 18:43:33.955</td>\n",
              "      <td>NaN</td>\n",
              "      <td>NaN</td>\n",
              "      <td>misc</td>\n",
              "      <td>fb23710b-609a-49bf-8a9a-be49c59ce6de</td>\n",
              "      <td>TOPUP</td>\n",
              "      <td>MINOS</td>\n",
              "      <td>961f9451-2d7d-4c62-8593-bf44d15d38b0</td>\n",
              "    </tr>\n",
              "    <tr>\n",
              "      <td>132344</td>\n",
              "      <td>GBP</td>\n",
              "      <td>4709</td>\n",
              "      <td>COMPLETED</td>\n",
              "      <td>2018-04-06 18:53:35.634</td>\n",
              "      <td>point_of_interest</td>\n",
              "      <td>LTU</td>\n",
              "      <td>manu</td>\n",
              "      <td>fb23710b-609a-49bf-8a9a-be49c59ce6de</td>\n",
              "      <td>CARD_PAYMENT</td>\n",
              "      <td>GAIA</td>\n",
              "      <td>953623dd-4d61-4f1a-b760-13fda4217b3b</td>\n",
              "    </tr>\n",
              "    <tr>\n",
              "      <td>142701</td>\n",
              "      <td>GBP</td>\n",
              "      <td>6500</td>\n",
              "      <td>COMPLETED</td>\n",
              "      <td>2018-04-09 14:53:30.372</td>\n",
              "      <td>NaN</td>\n",
              "      <td>NaN</td>\n",
              "      <td>misc</td>\n",
              "      <td>fb23710b-609a-49bf-8a9a-be49c59ce6de</td>\n",
              "      <td>TOPUP</td>\n",
              "      <td>MINOS</td>\n",
              "      <td>eb2c9e9d-bffc-4347-9d86-28b6f0dea32d</td>\n",
              "    </tr>\n",
              "    <tr>\n",
              "      <td>142924</td>\n",
              "      <td>GBP</td>\n",
              "      <td>6000</td>\n",
              "      <td>COMPLETED</td>\n",
              "      <td>2018-04-09 17:23:08.928</td>\n",
              "      <td>NaN</td>\n",
              "      <td>NaN</td>\n",
              "      <td>misc</td>\n",
              "      <td>fb23710b-609a-49bf-8a9a-be49c59ce6de</td>\n",
              "      <td>P2P</td>\n",
              "      <td>INTERNAL</td>\n",
              "      <td>823e2403-eee1-4c74-beae-c53fdffdaae0</td>\n",
              "    </tr>\n",
              "  </tbody>\n",
              "</table>\n",
              "</div>"
            ],
            "text/plain": [
              "       CURRENCY  AMOUNT      STATE             CREATED_DATE  \\\n",
              "132324      GBP    5000  COMPLETED  2018-04-06 18:43:33.955   \n",
              "132344      GBP    4709  COMPLETED  2018-04-06 18:53:35.634   \n",
              "142701      GBP    6500  COMPLETED  2018-04-09 14:53:30.372   \n",
              "142924      GBP    6000  COMPLETED  2018-04-09 17:23:08.928   \n",
              "\n",
              "        MERCHANT_CATEGORY MERCHANT_COUNTRY ENTRY_METHOD  \\\n",
              "132324                NaN              NaN         misc   \n",
              "132344  point_of_interest              LTU         manu   \n",
              "142701                NaN              NaN         misc   \n",
              "142924                NaN              NaN         misc   \n",
              "\n",
              "                                     USER_ID          TYPE    SOURCE  \\\n",
              "132324  fb23710b-609a-49bf-8a9a-be49c59ce6de         TOPUP     MINOS   \n",
              "132344  fb23710b-609a-49bf-8a9a-be49c59ce6de  CARD_PAYMENT      GAIA   \n",
              "142701  fb23710b-609a-49bf-8a9a-be49c59ce6de         TOPUP     MINOS   \n",
              "142924  fb23710b-609a-49bf-8a9a-be49c59ce6de           P2P  INTERNAL   \n",
              "\n",
              "                                          ID  \n",
              "132324  961f9451-2d7d-4c62-8593-bf44d15d38b0  \n",
              "132344  953623dd-4d61-4f1a-b760-13fda4217b3b  \n",
              "142701  eb2c9e9d-bffc-4347-9d86-28b6f0dea32d  \n",
              "142924  823e2403-eee1-4c74-beae-c53fdffdaae0  "
            ]
          },
          "metadata": {
            "tags": []
          },
          "execution_count": 25
        }
      ]
    },
    {
      "cell_type": "markdown",
      "metadata": {
        "id": "TsH0xgfPqnZk"
      },
      "source": [
        "Обучим модель только на пользователях с транзакциями:"
      ]
    },
    {
      "cell_type": "code",
      "metadata": {
        "id": "I7apbJduqnZk"
      },
      "source": [
        "trn_df = trn_df.rename({'ID': 'TRN_ID'}, axis=1)"
      ],
      "execution_count": null,
      "outputs": []
    },
    {
      "cell_type": "code",
      "metadata": {
        "id": "mh4HsRKxqnZk",
        "outputId": "f80f559d-e19e-4ccb-ebea-c4c2923162cb"
      },
      "source": [
        "df = trn_df.merge(user_df, left_on=\"USER_ID\", right_on=\"ID\").drop(['ID'],axis=1)\n",
        "print(df.shape)\n",
        "df.head()"
      ],
      "execution_count": null,
      "outputs": [
        {
          "output_type": "stream",
          "text": [
            "(638742, 21)\n"
          ],
          "name": "stdout"
        },
        {
          "output_type": "execute_result",
          "data": {
            "text/html": [
              "<div>\n",
              "<style scoped>\n",
              "    .dataframe tbody tr th:only-of-type {\n",
              "        vertical-align: middle;\n",
              "    }\n",
              "\n",
              "    .dataframe tbody tr th {\n",
              "        vertical-align: top;\n",
              "    }\n",
              "\n",
              "    .dataframe thead th {\n",
              "        text-align: right;\n",
              "    }\n",
              "</style>\n",
              "<table border=\"1\" class=\"dataframe\">\n",
              "  <thead>\n",
              "    <tr style=\"text-align: right;\">\n",
              "      <th></th>\n",
              "      <th>CURRENCY</th>\n",
              "      <th>AMOUNT</th>\n",
              "      <th>STATE</th>\n",
              "      <th>CREATED_DATE_x</th>\n",
              "      <th>MERCHANT_CATEGORY</th>\n",
              "      <th>MERCHANT_COUNTRY</th>\n",
              "      <th>ENTRY_METHOD</th>\n",
              "      <th>USER_ID</th>\n",
              "      <th>TYPE</th>\n",
              "      <th>SOURCE</th>\n",
              "      <th>...</th>\n",
              "      <th>HAS_EMAIL</th>\n",
              "      <th>PHONE_COUNTRY</th>\n",
              "      <th>IS_FRAUDSTER</th>\n",
              "      <th>TERMS_VERSION</th>\n",
              "      <th>CREATED_DATE_y</th>\n",
              "      <th>COUNTRY</th>\n",
              "      <th>KYC</th>\n",
              "      <th>FAILED_SIGN_IN_ATTEMPTS</th>\n",
              "      <th>AGE</th>\n",
              "      <th>HOMELAND_PHONE</th>\n",
              "    </tr>\n",
              "  </thead>\n",
              "  <tbody>\n",
              "    <tr>\n",
              "      <td>0</td>\n",
              "      <td>GBP</td>\n",
              "      <td>175</td>\n",
              "      <td>COMPLETED</td>\n",
              "      <td>2017-12-20 12:46:20.294</td>\n",
              "      <td>cafe</td>\n",
              "      <td>GBR</td>\n",
              "      <td>cont</td>\n",
              "      <td>8f99c254-7cf2-4e35-b7e4-53804d42445d</td>\n",
              "      <td>CARD_PAYMENT</td>\n",
              "      <td>GAIA</td>\n",
              "      <td>...</td>\n",
              "      <td>1</td>\n",
              "      <td>GB||JE||IM||GG</td>\n",
              "      <td>False</td>\n",
              "      <td>2018-05-25</td>\n",
              "      <td>2017-09-28 11:53:55.810000</td>\n",
              "      <td>GB</td>\n",
              "      <td>PASSED</td>\n",
              "      <td>0</td>\n",
              "      <td>55</td>\n",
              "      <td>1</td>\n",
              "    </tr>\n",
              "    <tr>\n",
              "      <td>1</td>\n",
              "      <td>GBP</td>\n",
              "      <td>175</td>\n",
              "      <td>COMPLETED</td>\n",
              "      <td>2017-12-19 12:40:55.325</td>\n",
              "      <td>cafe</td>\n",
              "      <td>GBR</td>\n",
              "      <td>cont</td>\n",
              "      <td>8f99c254-7cf2-4e35-b7e4-53804d42445d</td>\n",
              "      <td>CARD_PAYMENT</td>\n",
              "      <td>GAIA</td>\n",
              "      <td>...</td>\n",
              "      <td>1</td>\n",
              "      <td>GB||JE||IM||GG</td>\n",
              "      <td>False</td>\n",
              "      <td>2018-05-25</td>\n",
              "      <td>2017-09-28 11:53:55.810000</td>\n",
              "      <td>GB</td>\n",
              "      <td>PASSED</td>\n",
              "      <td>0</td>\n",
              "      <td>55</td>\n",
              "      <td>1</td>\n",
              "    </tr>\n",
              "    <tr>\n",
              "      <td>2</td>\n",
              "      <td>GBP</td>\n",
              "      <td>220</td>\n",
              "      <td>COMPLETED</td>\n",
              "      <td>2017-12-19 12:45:05.706</td>\n",
              "      <td>department_store</td>\n",
              "      <td>GBR</td>\n",
              "      <td>cont</td>\n",
              "      <td>8f99c254-7cf2-4e35-b7e4-53804d42445d</td>\n",
              "      <td>CARD_PAYMENT</td>\n",
              "      <td>GAIA</td>\n",
              "      <td>...</td>\n",
              "      <td>1</td>\n",
              "      <td>GB||JE||IM||GG</td>\n",
              "      <td>False</td>\n",
              "      <td>2018-05-25</td>\n",
              "      <td>2017-09-28 11:53:55.810000</td>\n",
              "      <td>GB</td>\n",
              "      <td>PASSED</td>\n",
              "      <td>0</td>\n",
              "      <td>55</td>\n",
              "      <td>1</td>\n",
              "    </tr>\n",
              "    <tr>\n",
              "      <td>3</td>\n",
              "      <td>GBP</td>\n",
              "      <td>210</td>\n",
              "      <td>COMPLETED</td>\n",
              "      <td>2017-12-21 07:42:25.629</td>\n",
              "      <td>NaN</td>\n",
              "      <td>GBR</td>\n",
              "      <td>cont</td>\n",
              "      <td>8f99c254-7cf2-4e35-b7e4-53804d42445d</td>\n",
              "      <td>CARD_PAYMENT</td>\n",
              "      <td>GAIA</td>\n",
              "      <td>...</td>\n",
              "      <td>1</td>\n",
              "      <td>GB||JE||IM||GG</td>\n",
              "      <td>False</td>\n",
              "      <td>2018-05-25</td>\n",
              "      <td>2017-09-28 11:53:55.810000</td>\n",
              "      <td>GB</td>\n",
              "      <td>PASSED</td>\n",
              "      <td>0</td>\n",
              "      <td>55</td>\n",
              "      <td>1</td>\n",
              "    </tr>\n",
              "    <tr>\n",
              "      <td>4</td>\n",
              "      <td>GBP</td>\n",
              "      <td>485</td>\n",
              "      <td>COMPLETED</td>\n",
              "      <td>2017-12-21 08:36:56.132</td>\n",
              "      <td>cafe</td>\n",
              "      <td>GBR</td>\n",
              "      <td>cont</td>\n",
              "      <td>8f99c254-7cf2-4e35-b7e4-53804d42445d</td>\n",
              "      <td>CARD_PAYMENT</td>\n",
              "      <td>GAIA</td>\n",
              "      <td>...</td>\n",
              "      <td>1</td>\n",
              "      <td>GB||JE||IM||GG</td>\n",
              "      <td>False</td>\n",
              "      <td>2018-05-25</td>\n",
              "      <td>2017-09-28 11:53:55.810000</td>\n",
              "      <td>GB</td>\n",
              "      <td>PASSED</td>\n",
              "      <td>0</td>\n",
              "      <td>55</td>\n",
              "      <td>1</td>\n",
              "    </tr>\n",
              "  </tbody>\n",
              "</table>\n",
              "<p>5 rows × 21 columns</p>\n",
              "</div>"
            ],
            "text/plain": [
              "  CURRENCY  AMOUNT      STATE           CREATED_DATE_x MERCHANT_CATEGORY  \\\n",
              "0      GBP     175  COMPLETED  2017-12-20 12:46:20.294              cafe   \n",
              "1      GBP     175  COMPLETED  2017-12-19 12:40:55.325              cafe   \n",
              "2      GBP     220  COMPLETED  2017-12-19 12:45:05.706  department_store   \n",
              "3      GBP     210  COMPLETED  2017-12-21 07:42:25.629               NaN   \n",
              "4      GBP     485  COMPLETED  2017-12-21 08:36:56.132              cafe   \n",
              "\n",
              "  MERCHANT_COUNTRY ENTRY_METHOD                               USER_ID  \\\n",
              "0              GBR         cont  8f99c254-7cf2-4e35-b7e4-53804d42445d   \n",
              "1              GBR         cont  8f99c254-7cf2-4e35-b7e4-53804d42445d   \n",
              "2              GBR         cont  8f99c254-7cf2-4e35-b7e4-53804d42445d   \n",
              "3              GBR         cont  8f99c254-7cf2-4e35-b7e4-53804d42445d   \n",
              "4              GBR         cont  8f99c254-7cf2-4e35-b7e4-53804d42445d   \n",
              "\n",
              "           TYPE SOURCE  ... HAS_EMAIL   PHONE_COUNTRY IS_FRAUDSTER  \\\n",
              "0  CARD_PAYMENT   GAIA  ...         1  GB||JE||IM||GG        False   \n",
              "1  CARD_PAYMENT   GAIA  ...         1  GB||JE||IM||GG        False   \n",
              "2  CARD_PAYMENT   GAIA  ...         1  GB||JE||IM||GG        False   \n",
              "3  CARD_PAYMENT   GAIA  ...         1  GB||JE||IM||GG        False   \n",
              "4  CARD_PAYMENT   GAIA  ...         1  GB||JE||IM||GG        False   \n",
              "\n",
              "   TERMS_VERSION              CREATED_DATE_y COUNTRY     KYC  \\\n",
              "0     2018-05-25  2017-09-28 11:53:55.810000      GB  PASSED   \n",
              "1     2018-05-25  2017-09-28 11:53:55.810000      GB  PASSED   \n",
              "2     2018-05-25  2017-09-28 11:53:55.810000      GB  PASSED   \n",
              "3     2018-05-25  2017-09-28 11:53:55.810000      GB  PASSED   \n",
              "4     2018-05-25  2017-09-28 11:53:55.810000      GB  PASSED   \n",
              "\n",
              "  FAILED_SIGN_IN_ATTEMPTS  AGE  HOMELAND_PHONE  \n",
              "0                       0   55               1  \n",
              "1                       0   55               1  \n",
              "2                       0   55               1  \n",
              "3                       0   55               1  \n",
              "4                       0   55               1  \n",
              "\n",
              "[5 rows x 21 columns]"
            ]
          },
          "metadata": {
            "tags": []
          },
          "execution_count": 27
        }
      ]
    },
    {
      "cell_type": "code",
      "metadata": {
        "id": "lhEweD4qqnZk",
        "outputId": "dcb406b2-a4d8-47ad-8522-924262f46d4d"
      },
      "source": [
        "df.info()"
      ],
      "execution_count": null,
      "outputs": [
        {
          "output_type": "stream",
          "text": [
            "<class 'pandas.core.frame.DataFrame'>\n",
            "Int64Index: 638742 entries, 0 to 638741\n",
            "Data columns (total 21 columns):\n",
            "CURRENCY                   638742 non-null object\n",
            "AMOUNT                     638742 non-null int64\n",
            "STATE                      638742 non-null object\n",
            "CREATED_DATE_x             638742 non-null object\n",
            "MERCHANT_CATEGORY          208677 non-null object\n",
            "MERCHANT_COUNTRY           447017 non-null object\n",
            "ENTRY_METHOD               638742 non-null object\n",
            "USER_ID                    638742 non-null object\n",
            "TYPE                       638742 non-null object\n",
            "SOURCE                     638742 non-null object\n",
            "TRN_ID                     638742 non-null object\n",
            "HAS_EMAIL                  638742 non-null int64\n",
            "PHONE_COUNTRY              638742 non-null object\n",
            "IS_FRAUDSTER               638742 non-null bool\n",
            "TERMS_VERSION              638742 non-null object\n",
            "CREATED_DATE_y             638742 non-null object\n",
            "COUNTRY                    638742 non-null object\n",
            "KYC                        638742 non-null object\n",
            "FAILED_SIGN_IN_ATTEMPTS    638742 non-null int64\n",
            "AGE                        638742 non-null int64\n",
            "HOMELAND_PHONE             638742 non-null int64\n",
            "dtypes: bool(1), int64(5), object(15)\n",
            "memory usage: 102.9+ MB\n"
          ],
          "name": "stdout"
        }
      ]
    },
    {
      "cell_type": "code",
      "metadata": {
        "id": "Jd51kniUqnZm"
      },
      "source": [
        "# Заменим NaN на 'Undefined' в MERCHANT_CATEGORY и MERCHANT_COUNTRY\n",
        "df = df.fillna('Undefined')"
      ],
      "execution_count": null,
      "outputs": []
    },
    {
      "cell_type": "code",
      "metadata": {
        "id": "uGL6ABs7qnZn"
      },
      "source": [
        "df['CREATED_DATE_x'] = df['CREATED_DATE_x'].apply(lambda x: datetime.strptime(x+('000' if '.' in x else '.000000'), '%Y-%m-%d %H:%M:%S.%f'))\n",
        "df['CREATED_DATE_y'] = df['CREATED_DATE_y'].apply(lambda x: datetime.strptime(x, '%Y-%m-%d %H:%M:%S.%f'))"
      ],
      "execution_count": null,
      "outputs": []
    },
    {
      "cell_type": "code",
      "metadata": {
        "id": "6x5zTMjWqnZn"
      },
      "source": [
        "df['DAY_OF_TRANSACTION'] = df['CREATED_DATE_x'].apply(lambda x: int(x.strftime('%w')))\n",
        "df['HOUR_OF_TRANSACTION'] = df['CREATED_DATE_x'].apply(lambda x: int(x.strftime('%H')))"
      ],
      "execution_count": null,
      "outputs": []
    },
    {
      "cell_type": "code",
      "metadata": {
        "id": "fFF32L_sqnZn"
      },
      "source": [
        "# Создадим переменную AGE как возраст на дату CREATED_DATE профиля в системе\n",
        "df['PROFILE_AGE'] = df.apply(lambda x: (x['CREATED_DATE_x'] - x['CREATED_DATE_y']).days, axis=1)"
      ],
      "execution_count": null,
      "outputs": []
    },
    {
      "cell_type": "code",
      "metadata": {
        "id": "B-5p2zC7qnZn",
        "outputId": "765e8e55-5fa9-4a9a-94e1-7fa40619d427"
      },
      "source": [
        "# calc период набора данных для раделения при train/test\n",
        "period = (df['CREATED_DATE_x'].max() - df['CREATED_DATE_x'].min()).days\n",
        "print(f'Period of data is {period} days.')\n",
        "#df['CREATED_DATE_x'] = df['CREATED_DATE_x'].apply(lambda x: x.strftime(\"%Y-%m-%d %H:%M:%S\"))"
      ],
      "execution_count": null,
      "outputs": [
        {
          "output_type": "stream",
          "text": [
            "Period of data is 940 days.\n"
          ],
          "name": "stdout"
        }
      ]
    },
    {
      "cell_type": "code",
      "metadata": {
        "id": "OJ4bnDJRqnZn",
        "outputId": "e5d32d99-b68d-47dd-c4f6-7161dc0c7ae5"
      },
      "source": [
        "fig, ax = plt.subplots(figsize=(10,6))\n",
        "df['CREATED_DATE_x'].hist();"
      ],
      "execution_count": null,
      "outputs": [
        {
          "output_type": "display_data",
          "data": {
            "image/png": "[encoded data removed]",
            "text/plain": [
              "<Figure size 720x432 with 1 Axes>"
            ]
          },
          "metadata": {
            "tags": [],
            "needs_background": "light"
          }
        }
      ]
    },
    {
      "cell_type": "code",
      "metadata": {
        "id": "yyz60DEDqnZo"
      },
      "source": [
        "df['CREATED_DATE_x_date'] = df['CREATED_DATE_x'].apply(lambda x: x.date())"
      ],
      "execution_count": null,
      "outputs": []
    },
    {
      "cell_type": "code",
      "metadata": {
        "id": "M0Carbc-qnZo",
        "outputId": "56113137-200c-4d2d-b632-b78d2bee337b"
      },
      "source": [
        "period_df = df.groupby(['CREATED_DATE_x_date']).agg('count')[['AMOUNT']].reset_index()\n",
        "period_df.head()"
      ],
      "execution_count": null,
      "outputs": [
        {
          "output_type": "execute_result",
          "data": {
            "text/html": [
              "<div>\n",
              "<style scoped>\n",
              "    .dataframe tbody tr th:only-of-type {\n",
              "        vertical-align: middle;\n",
              "    }\n",
              "\n",
              "    .dataframe tbody tr th {\n",
              "        vertical-align: top;\n",
              "    }\n",
              "\n",
              "    .dataframe thead th {\n",
              "        text-align: right;\n",
              "    }\n",
              "</style>\n",
              "<table border=\"1\" class=\"dataframe\">\n",
              "  <thead>\n",
              "    <tr style=\"text-align: right;\">\n",
              "      <th></th>\n",
              "      <th>CREATED_DATE_x_date</th>\n",
              "      <th>AMOUNT</th>\n",
              "    </tr>\n",
              "  </thead>\n",
              "  <tbody>\n",
              "    <tr>\n",
              "      <td>0</td>\n",
              "      <td>2016-01-03</td>\n",
              "      <td>1</td>\n",
              "    </tr>\n",
              "    <tr>\n",
              "      <td>1</td>\n",
              "      <td>2016-01-04</td>\n",
              "      <td>6</td>\n",
              "    </tr>\n",
              "    <tr>\n",
              "      <td>2</td>\n",
              "      <td>2016-01-05</td>\n",
              "      <td>2</td>\n",
              "    </tr>\n",
              "    <tr>\n",
              "      <td>3</td>\n",
              "      <td>2016-01-06</td>\n",
              "      <td>1</td>\n",
              "    </tr>\n",
              "    <tr>\n",
              "      <td>4</td>\n",
              "      <td>2016-01-07</td>\n",
              "      <td>3</td>\n",
              "    </tr>\n",
              "  </tbody>\n",
              "</table>\n",
              "</div>"
            ],
            "text/plain": [
              "  CREATED_DATE_x_date  AMOUNT\n",
              "0          2016-01-03       1\n",
              "1          2016-01-04       6\n",
              "2          2016-01-05       2\n",
              "3          2016-01-06       1\n",
              "4          2016-01-07       3"
            ]
          },
          "metadata": {
            "tags": []
          },
          "execution_count": 36
        }
      ]
    },
    {
      "cell_type": "code",
      "metadata": {
        "id": "qLpy_UEvqnZo",
        "outputId": "642a036f-2de7-43a6-d1d1-f8019127698d"
      },
      "source": [
        "period_df['cumsum'] = period_df['AMOUNT'].cumsum()/period_df['AMOUNT'].sum()\n",
        "print(period_df[period_df['cumsum']>=(1-parameters.test_size)].head(1)['CREATED_DATE_x_date'].values[0])\n",
        "period_df[period_df['cumsum']>=(1-parameters.test_size)].head()"
      ],
      "execution_count": null,
      "outputs": [
        {
          "output_type": "stream",
          "text": [
            "2018-05-24\n"
          ],
          "name": "stdout"
        },
        {
          "output_type": "execute_result",
          "data": {
            "text/html": [
              "<div>\n",
              "<style scoped>\n",
              "    .dataframe tbody tr th:only-of-type {\n",
              "        vertical-align: middle;\n",
              "    }\n",
              "\n",
              "    .dataframe tbody tr th {\n",
              "        vertical-align: top;\n",
              "    }\n",
              "\n",
              "    .dataframe thead th {\n",
              "        text-align: right;\n",
              "    }\n",
              "</style>\n",
              "<table border=\"1\" class=\"dataframe\">\n",
              "  <thead>\n",
              "    <tr style=\"text-align: right;\">\n",
              "      <th></th>\n",
              "      <th>CREATED_DATE_x_date</th>\n",
              "      <th>AMOUNT</th>\n",
              "      <th>cumsum</th>\n",
              "    </tr>\n",
              "  </thead>\n",
              "  <tbody>\n",
              "    <tr>\n",
              "      <td>869</td>\n",
              "      <td>2018-05-24</td>\n",
              "      <td>2382</td>\n",
              "      <td>0.702650</td>\n",
              "    </tr>\n",
              "    <tr>\n",
              "      <td>870</td>\n",
              "      <td>2018-05-25</td>\n",
              "      <td>2818</td>\n",
              "      <td>0.707062</td>\n",
              "    </tr>\n",
              "    <tr>\n",
              "      <td>871</td>\n",
              "      <td>2018-05-26</td>\n",
              "      <td>2650</td>\n",
              "      <td>0.711210</td>\n",
              "    </tr>\n",
              "    <tr>\n",
              "      <td>872</td>\n",
              "      <td>2018-05-27</td>\n",
              "      <td>2288</td>\n",
              "      <td>0.714793</td>\n",
              "    </tr>\n",
              "    <tr>\n",
              "      <td>873</td>\n",
              "      <td>2018-05-28</td>\n",
              "      <td>2502</td>\n",
              "      <td>0.718710</td>\n",
              "    </tr>\n",
              "  </tbody>\n",
              "</table>\n",
              "</div>"
            ],
            "text/plain": [
              "    CREATED_DATE_x_date  AMOUNT    cumsum\n",
              "869          2018-05-24    2382  0.702650\n",
              "870          2018-05-25    2818  0.707062\n",
              "871          2018-05-26    2650  0.711210\n",
              "872          2018-05-27    2288  0.714793\n",
              "873          2018-05-28    2502  0.718710"
            ]
          },
          "metadata": {
            "tags": []
          },
          "execution_count": 37
        }
      ]
    },
    {
      "cell_type": "code",
      "metadata": {
        "id": "CvBoH8e-qnZo"
      },
      "source": [
        "delta_from_max_date = (df['CREATED_DATE_x_date'].max() - period_df[period_df['cumsum']>=(1-parameters.test_size)].head(1)['CREATED_DATE_x_date'].values[0]).days"
      ],
      "execution_count": null,
      "outputs": []
    },
    {
      "cell_type": "code",
      "metadata": {
        "id": "j4BI2HrAqnZo",
        "outputId": "d93f259f-8fa2-4159-ea48-b9113d82a476"
      },
      "source": [
        "print(f'We need to get only {delta_from_max_date} days from max_date back to history to get test_size = {parameters.test_size}')"
      ],
      "execution_count": null,
      "outputs": [
        {
          "output_type": "stream",
          "text": [
            "We need to get only 68 days from max_date back to history to get test_size = 0.3\n"
          ],
          "name": "stdout"
        }
      ]
    },
    {
      "cell_type": "code",
      "metadata": {
        "id": "KOC298kAqnZo",
        "outputId": "46a27b7f-aecf-4f29-bb00-79378130a9e1"
      },
      "source": [
        "print(f\"Date to split TRAIN and TEST is {df['CREATED_DATE_x_date'].max() - timedelta(days = delta_from_max_date)}\")"
      ],
      "execution_count": null,
      "outputs": [
        {
          "output_type": "stream",
          "text": [
            "Date to split TRAIN and TEST is 2018-05-24\n"
          ],
          "name": "stdout"
        }
      ]
    },
    {
      "cell_type": "code",
      "metadata": {
        "id": "ZjtA60XVqnZp"
      },
      "source": [
        "parameters.days_from_max_to_split = delta_from_max_date"
      ],
      "execution_count": null,
      "outputs": []
    },
    {
      "cell_type": "markdown",
      "metadata": {
        "id": "Rxj5bnmLqnZp"
      },
      "source": [
        "### **Распределение транзакций по дате (created_date_x) смещено влево**"
      ]
    },
    {
      "cell_type": "code",
      "metadata": {
        "id": "7VIcaX77qnZp",
        "outputId": "20a28edf-7483-4f96-8a3f-e25af77d3e0b"
      },
      "source": [
        "fig, ax = plt.subplots(figsize=(10,6))\n",
        "df[df['IS_FRAUDSTER']==1]['CREATED_DATE_x'].hist();"
      ],
      "execution_count": null,
      "outputs": [
        {
          "output_type": "display_data",
          "data": {
            "image/png": "[encoded data removed]",
            "text/plain": [
              "<Figure size 720x432 with 1 Axes>"
            ]
          },
          "metadata": {
            "tags": [],
            "needs_background": "light"
          }
        }
      ]
    },
    {
      "cell_type": "markdown",
      "metadata": {
        "id": "Z3TcLHsuqnZp"
      },
      "source": [
        "### **Распределение транзакций мошенника по дате (created_date_x) смещено влево**"
      ]
    },
    {
      "cell_type": "code",
      "metadata": {
        "id": "ixP_zO_bqnZp"
      },
      "source": [
        "# CREATED_DATE_y больше не нужен, drop их\n",
        "df.drop(['CREATED_DATE_y'], axis=1, inplace=True)"
      ],
      "execution_count": null,
      "outputs": []
    },
    {
      "cell_type": "code",
      "metadata": {
        "id": "m83aiwImqnZq"
      },
      "source": [
        "# Преобразуем логическую переменную IS_FRAUDSTER в двоичную\n",
        "df['IS_FRAUDSTER'] = df['IS_FRAUDSTER'].astype(int)"
      ],
      "execution_count": null,
      "outputs": []
    },
    {
      "cell_type": "code",
      "metadata": {
        "id": "YG4CqncsqnZq",
        "outputId": "ab71f408-6322-4c5b-ec58-d2b34a788dff"
      },
      "source": [
        "print(df.info())\n",
        "print(df.describe().T)\n",
        "df.head()"
      ],
      "execution_count": null,
      "outputs": [
        {
          "output_type": "stream",
          "text": [
            "<class 'pandas.core.frame.DataFrame'>\n",
            "Int64Index: 638742 entries, 0 to 638741\n",
            "Data columns (total 24 columns):\n",
            "CURRENCY                   638742 non-null object\n",
            "AMOUNT                     638742 non-null int64\n",
            "STATE                      638742 non-null object\n",
            "CREATED_DATE_x             638742 non-null datetime64[ns]\n",
            "MERCHANT_CATEGORY          638742 non-null object\n",
            "MERCHANT_COUNTRY           638742 non-null object\n",
            "ENTRY_METHOD               638742 non-null object\n",
            "USER_ID                    638742 non-null object\n",
            "TYPE                       638742 non-null object\n",
            "SOURCE                     638742 non-null object\n",
            "TRN_ID                     638742 non-null object\n",
            "HAS_EMAIL                  638742 non-null int64\n",
            "PHONE_COUNTRY              638742 non-null object\n",
            "IS_FRAUDSTER               638742 non-null int64\n",
            "TERMS_VERSION              638742 non-null object\n",
            "COUNTRY                    638742 non-null object\n",
            "KYC                        638742 non-null object\n",
            "FAILED_SIGN_IN_ATTEMPTS    638742 non-null int64\n",
            "AGE                        638742 non-null int64\n",
            "HOMELAND_PHONE             638742 non-null int64\n",
            "DAY_OF_TRANSACTION         638742 non-null int64\n",
            "HOUR_OF_TRANSACTION        638742 non-null int64\n",
            "PROFILE_AGE                638742 non-null int64\n",
            "CREATED_DATE_x_date        638742 non-null object\n",
            "dtypes: datetime64[ns](1), int64(9), object(14)\n",
            "memory usage: 121.8+ MB\n",
            "None\n",
            "                            count          mean           std   min    25%  \\\n",
            "AMOUNT                   638742.0  32478.710146  2.380562e+06   0.0  467.0   \n",
            "HAS_EMAIL                638742.0      0.989255  1.030977e-01   0.0    1.0   \n",
            "IS_FRAUDSTER             638742.0      0.021783  1.459759e-01   0.0    0.0   \n",
            "FAILED_SIGN_IN_ATTEMPTS  638742.0      0.009552  1.411771e-01   0.0    0.0   \n",
            "AGE                      638742.0     31.985259  9.869479e+00  16.0   25.0   \n",
            "HOMELAND_PHONE           638742.0      0.926347  2.612049e-01   0.0    1.0   \n",
            "DAY_OF_TRANSACTION       638742.0      3.124114  1.987050e+00   0.0    1.0   \n",
            "HOUR_OF_TRANSACTION      638742.0     13.123067  5.540228e+00   0.0    9.0   \n",
            "PROFILE_AGE              638742.0    219.816344  1.970822e+02   0.0   63.0   \n",
            "\n",
            "                            50%     75%          max  \n",
            "AMOUNT                   1393.0  5000.0  900000000.0  \n",
            "HAS_EMAIL                   1.0     1.0          1.0  \n",
            "IS_FRAUDSTER                0.0     0.0          1.0  \n",
            "FAILED_SIGN_IN_ATTEMPTS     0.0     0.0          6.0  \n",
            "AGE                        29.0    37.0         91.0  \n",
            "HOMELAND_PHONE              1.0     1.0          1.0  \n",
            "DAY_OF_TRANSACTION          3.0     5.0          6.0  \n",
            "HOUR_OF_TRANSACTION        13.0    17.0         23.0  \n",
            "PROFILE_AGE               159.0   329.0        939.0  \n"
          ],
          "name": "stdout"
        },
        {
          "output_type": "execute_result",
          "data": {
            "text/html": [
              "<div>\n",
              "<style scoped>\n",
              "    .dataframe tbody tr th:only-of-type {\n",
              "        vertical-align: middle;\n",
              "    }\n",
              "\n",
              "    .dataframe tbody tr th {\n",
              "        vertical-align: top;\n",
              "    }\n",
              "\n",
              "    .dataframe thead th {\n",
              "        text-align: right;\n",
              "    }\n",
              "</style>\n",
              "<table border=\"1\" class=\"dataframe\">\n",
              "  <thead>\n",
              "    <tr style=\"text-align: right;\">\n",
              "      <th></th>\n",
              "      <th>CURRENCY</th>\n",
              "      <th>AMOUNT</th>\n",
              "      <th>STATE</th>\n",
              "      <th>CREATED_DATE_x</th>\n",
              "      <th>MERCHANT_CATEGORY</th>\n",
              "      <th>MERCHANT_COUNTRY</th>\n",
              "      <th>ENTRY_METHOD</th>\n",
              "      <th>USER_ID</th>\n",
              "      <th>TYPE</th>\n",
              "      <th>SOURCE</th>\n",
              "      <th>...</th>\n",
              "      <th>TERMS_VERSION</th>\n",
              "      <th>COUNTRY</th>\n",
              "      <th>KYC</th>\n",
              "      <th>FAILED_SIGN_IN_ATTEMPTS</th>\n",
              "      <th>AGE</th>\n",
              "      <th>HOMELAND_PHONE</th>\n",
              "      <th>DAY_OF_TRANSACTION</th>\n",
              "      <th>HOUR_OF_TRANSACTION</th>\n",
              "      <th>PROFILE_AGE</th>\n",
              "      <th>CREATED_DATE_x_date</th>\n",
              "    </tr>\n",
              "  </thead>\n",
              "  <tbody>\n",
              "    <tr>\n",
              "      <td>0</td>\n",
              "      <td>GBP</td>\n",
              "      <td>175</td>\n",
              "      <td>COMPLETED</td>\n",
              "      <td>2017-12-20 12:46:20.294</td>\n",
              "      <td>cafe</td>\n",
              "      <td>GBR</td>\n",
              "      <td>cont</td>\n",
              "      <td>8f99c254-7cf2-4e35-b7e4-53804d42445d</td>\n",
              "      <td>CARD_PAYMENT</td>\n",
              "      <td>GAIA</td>\n",
              "      <td>...</td>\n",
              "      <td>2018-05-25</td>\n",
              "      <td>GB</td>\n",
              "      <td>PASSED</td>\n",
              "      <td>0</td>\n",
              "      <td>55</td>\n",
              "      <td>1</td>\n",
              "      <td>3</td>\n",
              "      <td>12</td>\n",
              "      <td>83</td>\n",
              "      <td>2017-12-20</td>\n",
              "    </tr>\n",
              "    <tr>\n",
              "      <td>1</td>\n",
              "      <td>GBP</td>\n",
              "      <td>175</td>\n",
              "      <td>COMPLETED</td>\n",
              "      <td>2017-12-19 12:40:55.325</td>\n",
              "      <td>cafe</td>\n",
              "      <td>GBR</td>\n",
              "      <td>cont</td>\n",
              "      <td>8f99c254-7cf2-4e35-b7e4-53804d42445d</td>\n",
              "      <td>CARD_PAYMENT</td>\n",
              "      <td>GAIA</td>\n",
              "      <td>...</td>\n",
              "      <td>2018-05-25</td>\n",
              "      <td>GB</td>\n",
              "      <td>PASSED</td>\n",
              "      <td>0</td>\n",
              "      <td>55</td>\n",
              "      <td>1</td>\n",
              "      <td>2</td>\n",
              "      <td>12</td>\n",
              "      <td>82</td>\n",
              "      <td>2017-12-19</td>\n",
              "    </tr>\n",
              "    <tr>\n",
              "      <td>2</td>\n",
              "      <td>GBP</td>\n",
              "      <td>220</td>\n",
              "      <td>COMPLETED</td>\n",
              "      <td>2017-12-19 12:45:05.706</td>\n",
              "      <td>department_store</td>\n",
              "      <td>GBR</td>\n",
              "      <td>cont</td>\n",
              "      <td>8f99c254-7cf2-4e35-b7e4-53804d42445d</td>\n",
              "      <td>CARD_PAYMENT</td>\n",
              "      <td>GAIA</td>\n",
              "      <td>...</td>\n",
              "      <td>2018-05-25</td>\n",
              "      <td>GB</td>\n",
              "      <td>PASSED</td>\n",
              "      <td>0</td>\n",
              "      <td>55</td>\n",
              "      <td>1</td>\n",
              "      <td>2</td>\n",
              "      <td>12</td>\n",
              "      <td>82</td>\n",
              "      <td>2017-12-19</td>\n",
              "    </tr>\n",
              "    <tr>\n",
              "      <td>3</td>\n",
              "      <td>GBP</td>\n",
              "      <td>210</td>\n",
              "      <td>COMPLETED</td>\n",
              "      <td>2017-12-21 07:42:25.629</td>\n",
              "      <td>Undefined</td>\n",
              "      <td>GBR</td>\n",
              "      <td>cont</td>\n",
              "      <td>8f99c254-7cf2-4e35-b7e4-53804d42445d</td>\n",
              "      <td>CARD_PAYMENT</td>\n",
              "      <td>GAIA</td>\n",
              "      <td>...</td>\n",
              "      <td>2018-05-25</td>\n",
              "      <td>GB</td>\n",
              "      <td>PASSED</td>\n",
              "      <td>0</td>\n",
              "      <td>55</td>\n",
              "      <td>1</td>\n",
              "      <td>4</td>\n",
              "      <td>7</td>\n",
              "      <td>83</td>\n",
              "      <td>2017-12-21</td>\n",
              "    </tr>\n",
              "    <tr>\n",
              "      <td>4</td>\n",
              "      <td>GBP</td>\n",
              "      <td>485</td>\n",
              "      <td>COMPLETED</td>\n",
              "      <td>2017-12-21 08:36:56.132</td>\n",
              "      <td>cafe</td>\n",
              "      <td>GBR</td>\n",
              "      <td>cont</td>\n",
              "      <td>8f99c254-7cf2-4e35-b7e4-53804d42445d</td>\n",
              "      <td>CARD_PAYMENT</td>\n",
              "      <td>GAIA</td>\n",
              "      <td>...</td>\n",
              "      <td>2018-05-25</td>\n",
              "      <td>GB</td>\n",
              "      <td>PASSED</td>\n",
              "      <td>0</td>\n",
              "      <td>55</td>\n",
              "      <td>1</td>\n",
              "      <td>4</td>\n",
              "      <td>8</td>\n",
              "      <td>83</td>\n",
              "      <td>2017-12-21</td>\n",
              "    </tr>\n",
              "  </tbody>\n",
              "</table>\n",
              "<p>5 rows × 24 columns</p>\n",
              "</div>"
            ],
            "text/plain": [
              "  CURRENCY  AMOUNT      STATE          CREATED_DATE_x MERCHANT_CATEGORY  \\\n",
              "0      GBP     175  COMPLETED 2017-12-20 12:46:20.294              cafe   \n",
              "1      GBP     175  COMPLETED 2017-12-19 12:40:55.325              cafe   \n",
              "2      GBP     220  COMPLETED 2017-12-19 12:45:05.706  department_store   \n",
              "3      GBP     210  COMPLETED 2017-12-21 07:42:25.629         Undefined   \n",
              "4      GBP     485  COMPLETED 2017-12-21 08:36:56.132              cafe   \n",
              "\n",
              "  MERCHANT_COUNTRY ENTRY_METHOD                               USER_ID  \\\n",
              "0              GBR         cont  8f99c254-7cf2-4e35-b7e4-53804d42445d   \n",
              "1              GBR         cont  8f99c254-7cf2-4e35-b7e4-53804d42445d   \n",
              "2              GBR         cont  8f99c254-7cf2-4e35-b7e4-53804d42445d   \n",
              "3              GBR         cont  8f99c254-7cf2-4e35-b7e4-53804d42445d   \n",
              "4              GBR         cont  8f99c254-7cf2-4e35-b7e4-53804d42445d   \n",
              "\n",
              "           TYPE SOURCE  ... TERMS_VERSION  COUNTRY     KYC  \\\n",
              "0  CARD_PAYMENT   GAIA  ...    2018-05-25       GB  PASSED   \n",
              "1  CARD_PAYMENT   GAIA  ...    2018-05-25       GB  PASSED   \n",
              "2  CARD_PAYMENT   GAIA  ...    2018-05-25       GB  PASSED   \n",
              "3  CARD_PAYMENT   GAIA  ...    2018-05-25       GB  PASSED   \n",
              "4  CARD_PAYMENT   GAIA  ...    2018-05-25       GB  PASSED   \n",
              "\n",
              "   FAILED_SIGN_IN_ATTEMPTS AGE HOMELAND_PHONE DAY_OF_TRANSACTION  \\\n",
              "0                        0  55              1                  3   \n",
              "1                        0  55              1                  2   \n",
              "2                        0  55              1                  2   \n",
              "3                        0  55              1                  4   \n",
              "4                        0  55              1                  4   \n",
              "\n",
              "   HOUR_OF_TRANSACTION  PROFILE_AGE  CREATED_DATE_x_date  \n",
              "0                   12           83           2017-12-20  \n",
              "1                   12           82           2017-12-19  \n",
              "2                   12           82           2017-12-19  \n",
              "3                    7           83           2017-12-21  \n",
              "4                    8           83           2017-12-21  \n",
              "\n",
              "[5 rows x 24 columns]"
            ]
          },
          "metadata": {
            "tags": []
          },
          "execution_count": 45
        }
      ]
    },
    {
      "cell_type": "markdown",
      "metadata": {
        "id": "mudgTiIwqnZq"
      },
      "source": [
        "### **Преобразуем страны в формат CODE3**"
      ]
    },
    {
      "cell_type": "code",
      "metadata": {
        "id": "3Hbi_lHcqnZq"
      },
      "source": [
        "df['COUNTRY'] = df['COUNTRY'].map({c[0]: c[1] for c in cntr_df[['CODE','CODE3']].values})"
      ],
      "execution_count": null,
      "outputs": []
    },
    {
      "cell_type": "code",
      "metadata": {
        "scrolled": true,
        "id": "xfKOwWvYqnZq",
        "outputId": "923fd662-3361-4009-e158-c416c1b4afe0"
      },
      "source": [
        "# У нас есть числовые значения MERCHANT_COUNTRY!\n",
        "df['MERCHANT_COUNTRY'].value_counts()"
      ],
      "execution_count": null,
      "outputs": [
        {
          "output_type": "execute_result",
          "data": {
            "text/plain": [
              "Undefined    191725\n",
              "GBR          136448\n",
              "USA           42723\n",
              "FRA           27673\n",
              "LTU           25040\n",
              "              ...  \n",
              "415               1\n",
              "101               1\n",
              "112               1\n",
              "033               1\n",
              "311               1\n",
              "Name: MERCHANT_COUNTRY, Length: 304, dtype: int64"
            ]
          },
          "metadata": {
            "tags": []
          },
          "execution_count": 47
        }
      ]
    },
    {
      "cell_type": "code",
      "metadata": {
        "id": "OTg2eXNTqnZq",
        "outputId": "3dc0a46f-0f56-4508-e6e1-714f646dde79"
      },
      "source": [
        "# Проверим единичный пример числового кода страны\n",
        "cntr_df[cntr_df['PHONECODE']==386]"
      ],
      "execution_count": null,
      "outputs": [
        {
          "output_type": "execute_result",
          "data": {
            "text/html": [
              "<div>\n",
              "<style scoped>\n",
              "    .dataframe tbody tr th:only-of-type {\n",
              "        vertical-align: middle;\n",
              "    }\n",
              "\n",
              "    .dataframe tbody tr th {\n",
              "        vertical-align: top;\n",
              "    }\n",
              "\n",
              "    .dataframe thead th {\n",
              "        text-align: right;\n",
              "    }\n",
              "</style>\n",
              "<table border=\"1\" class=\"dataframe\">\n",
              "  <thead>\n",
              "    <tr style=\"text-align: right;\">\n",
              "      <th></th>\n",
              "      <th>CODE</th>\n",
              "      <th>NAME</th>\n",
              "      <th>CODE3</th>\n",
              "      <th>NUMCODE</th>\n",
              "      <th>PHONECODE</th>\n",
              "    </tr>\n",
              "  </thead>\n",
              "  <tbody>\n",
              "    <tr>\n",
              "      <td>182</td>\n",
              "      <td>SI</td>\n",
              "      <td>Slovenia</td>\n",
              "      <td>sVN</td>\n",
              "      <td>705</td>\n",
              "      <td>386</td>\n",
              "    </tr>\n",
              "  </tbody>\n",
              "</table>\n",
              "</div>"
            ],
            "text/plain": [
              "    CODE      NAME CODE3  NUMCODE  PHONECODE\n",
              "182   SI  Slovenia   sVN      705        386"
            ]
          },
          "metadata": {
            "tags": []
          },
          "execution_count": 48
        }
      ]
    },
    {
      "cell_type": "code",
      "metadata": {
        "id": "9gDKgBMpqnZr",
        "outputId": "1f755619-54d0-430d-ac37-395667d0e505"
      },
      "source": [
        "# Попытка заменить код страны на CODE3\n",
        "df['MERCHANT_COUNTRY'] = df['MERCHANT_COUNTRY'].apply(lambda x: (cntr_df[cntr_df['NUMCODE']==int(x)]['CODE3'].values[0] if len(cntr_df[cntr_df['NUMCODE']==int(x)]['CODE3'].values)>0 else x) if x.isdigit() else x)\n",
        "df[[x.isdigit() for x in df['MERCHANT_COUNTRY'].values]].head()"
      ],
      "execution_count": null,
      "outputs": [
        {
          "output_type": "execute_result",
          "data": {
            "text/html": [
              "<div>\n",
              "<style scoped>\n",
              "    .dataframe tbody tr th:only-of-type {\n",
              "        vertical-align: middle;\n",
              "    }\n",
              "\n",
              "    .dataframe tbody tr th {\n",
              "        vertical-align: top;\n",
              "    }\n",
              "\n",
              "    .dataframe thead th {\n",
              "        text-align: right;\n",
              "    }\n",
              "</style>\n",
              "<table border=\"1\" class=\"dataframe\">\n",
              "  <thead>\n",
              "    <tr style=\"text-align: right;\">\n",
              "      <th></th>\n",
              "      <th>CURRENCY</th>\n",
              "      <th>AMOUNT</th>\n",
              "      <th>STATE</th>\n",
              "      <th>CREATED_DATE_x</th>\n",
              "      <th>MERCHANT_CATEGORY</th>\n",
              "      <th>MERCHANT_COUNTRY</th>\n",
              "      <th>ENTRY_METHOD</th>\n",
              "      <th>USER_ID</th>\n",
              "      <th>TYPE</th>\n",
              "      <th>SOURCE</th>\n",
              "      <th>...</th>\n",
              "      <th>TERMS_VERSION</th>\n",
              "      <th>COUNTRY</th>\n",
              "      <th>KYC</th>\n",
              "      <th>FAILED_SIGN_IN_ATTEMPTS</th>\n",
              "      <th>AGE</th>\n",
              "      <th>HOMELAND_PHONE</th>\n",
              "      <th>DAY_OF_TRANSACTION</th>\n",
              "      <th>HOUR_OF_TRANSACTION</th>\n",
              "      <th>PROFILE_AGE</th>\n",
              "      <th>CREATED_DATE_x_date</th>\n",
              "    </tr>\n",
              "  </thead>\n",
              "  <tbody>\n",
              "    <tr>\n",
              "      <td>3463</td>\n",
              "      <td>EUR</td>\n",
              "      <td>10000</td>\n",
              "      <td>COMPLETED</td>\n",
              "      <td>2016-10-30 11:17:01.822</td>\n",
              "      <td>Undefined</td>\n",
              "      <td>386</td>\n",
              "      <td>chip</td>\n",
              "      <td>c069a845-b843-475e-af4f-a27e379f1c76</td>\n",
              "      <td>ATM</td>\n",
              "      <td>GAIA</td>\n",
              "      <td>...</td>\n",
              "      <td>2018-03-20</td>\n",
              "      <td>gBR</td>\n",
              "      <td>PASSED</td>\n",
              "      <td>0</td>\n",
              "      <td>49</td>\n",
              "      <td>1</td>\n",
              "      <td>0</td>\n",
              "      <td>11</td>\n",
              "      <td>234</td>\n",
              "      <td>2016-10-30</td>\n",
              "    </tr>\n",
              "    <tr>\n",
              "      <td>3464</td>\n",
              "      <td>EUR</td>\n",
              "      <td>9000</td>\n",
              "      <td>COMPLETED</td>\n",
              "      <td>2016-10-28 10:30:21.334</td>\n",
              "      <td>Undefined</td>\n",
              "      <td>386</td>\n",
              "      <td>chip</td>\n",
              "      <td>c069a845-b843-475e-af4f-a27e379f1c76</td>\n",
              "      <td>ATM</td>\n",
              "      <td>GAIA</td>\n",
              "      <td>...</td>\n",
              "      <td>2018-03-20</td>\n",
              "      <td>gBR</td>\n",
              "      <td>PASSED</td>\n",
              "      <td>0</td>\n",
              "      <td>49</td>\n",
              "      <td>1</td>\n",
              "      <td>5</td>\n",
              "      <td>10</td>\n",
              "      <td>232</td>\n",
              "      <td>2016-10-28</td>\n",
              "    </tr>\n",
              "    <tr>\n",
              "      <td>3480</td>\n",
              "      <td>EUR</td>\n",
              "      <td>6000</td>\n",
              "      <td>COMPLETED</td>\n",
              "      <td>2016-10-29 16:02:05.797</td>\n",
              "      <td>Undefined</td>\n",
              "      <td>386</td>\n",
              "      <td>chip</td>\n",
              "      <td>c069a845-b843-475e-af4f-a27e379f1c76</td>\n",
              "      <td>ATM</td>\n",
              "      <td>GAIA</td>\n",
              "      <td>...</td>\n",
              "      <td>2018-03-20</td>\n",
              "      <td>gBR</td>\n",
              "      <td>PASSED</td>\n",
              "      <td>0</td>\n",
              "      <td>49</td>\n",
              "      <td>1</td>\n",
              "      <td>6</td>\n",
              "      <td>16</td>\n",
              "      <td>234</td>\n",
              "      <td>2016-10-29</td>\n",
              "    </tr>\n",
              "    <tr>\n",
              "      <td>9134</td>\n",
              "      <td>GBP</td>\n",
              "      <td>996</td>\n",
              "      <td>COMPLETED</td>\n",
              "      <td>2016-09-29 14:40:00.517</td>\n",
              "      <td>Undefined</td>\n",
              "      <td>000</td>\n",
              "      <td>manu</td>\n",
              "      <td>714661e3-b09b-42ef-a7b8-14a90bd455f5</td>\n",
              "      <td>CARD_PAYMENT</td>\n",
              "      <td>GAIA</td>\n",
              "      <td>...</td>\n",
              "      <td>2018-05-25</td>\n",
              "      <td>gBR</td>\n",
              "      <td>PASSED</td>\n",
              "      <td>0</td>\n",
              "      <td>42</td>\n",
              "      <td>1</td>\n",
              "      <td>4</td>\n",
              "      <td>14</td>\n",
              "      <td>75</td>\n",
              "      <td>2016-09-29</td>\n",
              "    </tr>\n",
              "    <tr>\n",
              "      <td>9157</td>\n",
              "      <td>GBP</td>\n",
              "      <td>1068</td>\n",
              "      <td>COMPLETED</td>\n",
              "      <td>2016-10-29 16:15:53.544</td>\n",
              "      <td>Undefined</td>\n",
              "      <td>000</td>\n",
              "      <td>manu</td>\n",
              "      <td>714661e3-b09b-42ef-a7b8-14a90bd455f5</td>\n",
              "      <td>CARD_PAYMENT</td>\n",
              "      <td>GAIA</td>\n",
              "      <td>...</td>\n",
              "      <td>2018-05-25</td>\n",
              "      <td>gBR</td>\n",
              "      <td>PASSED</td>\n",
              "      <td>0</td>\n",
              "      <td>42</td>\n",
              "      <td>1</td>\n",
              "      <td>6</td>\n",
              "      <td>16</td>\n",
              "      <td>105</td>\n",
              "      <td>2016-10-29</td>\n",
              "    </tr>\n",
              "  </tbody>\n",
              "</table>\n",
              "<p>5 rows × 24 columns</p>\n",
              "</div>"
            ],
            "text/plain": [
              "     CURRENCY  AMOUNT      STATE          CREATED_DATE_x MERCHANT_CATEGORY  \\\n",
              "3463      EUR   10000  COMPLETED 2016-10-30 11:17:01.822         Undefined   \n",
              "3464      EUR    9000  COMPLETED 2016-10-28 10:30:21.334         Undefined   \n",
              "3480      EUR    6000  COMPLETED 2016-10-29 16:02:05.797         Undefined   \n",
              "9134      GBP     996  COMPLETED 2016-09-29 14:40:00.517         Undefined   \n",
              "9157      GBP    1068  COMPLETED 2016-10-29 16:15:53.544         Undefined   \n",
              "\n",
              "     MERCHANT_COUNTRY ENTRY_METHOD                               USER_ID  \\\n",
              "3463              386         chip  c069a845-b843-475e-af4f-a27e379f1c76   \n",
              "3464              386         chip  c069a845-b843-475e-af4f-a27e379f1c76   \n",
              "3480              386         chip  c069a845-b843-475e-af4f-a27e379f1c76   \n",
              "9134              000         manu  714661e3-b09b-42ef-a7b8-14a90bd455f5   \n",
              "9157              000         manu  714661e3-b09b-42ef-a7b8-14a90bd455f5   \n",
              "\n",
              "              TYPE SOURCE  ... TERMS_VERSION  COUNTRY     KYC  \\\n",
              "3463           ATM   GAIA  ...    2018-03-20      gBR  PASSED   \n",
              "3464           ATM   GAIA  ...    2018-03-20      gBR  PASSED   \n",
              "3480           ATM   GAIA  ...    2018-03-20      gBR  PASSED   \n",
              "9134  CARD_PAYMENT   GAIA  ...    2018-05-25      gBR  PASSED   \n",
              "9157  CARD_PAYMENT   GAIA  ...    2018-05-25      gBR  PASSED   \n",
              "\n",
              "      FAILED_SIGN_IN_ATTEMPTS AGE HOMELAND_PHONE DAY_OF_TRANSACTION  \\\n",
              "3463                        0  49              1                  0   \n",
              "3464                        0  49              1                  5   \n",
              "3480                        0  49              1                  6   \n",
              "9134                        0  42              1                  4   \n",
              "9157                        0  42              1                  6   \n",
              "\n",
              "      HOUR_OF_TRANSACTION  PROFILE_AGE  CREATED_DATE_x_date  \n",
              "3463                   11          234           2016-10-30  \n",
              "3464                   10          232           2016-10-28  \n",
              "3480                   16          234           2016-10-29  \n",
              "9134                   14           75           2016-09-29  \n",
              "9157                   16          105           2016-10-29  \n",
              "\n",
              "[5 rows x 24 columns]"
            ]
          },
          "metadata": {
            "tags": []
          },
          "execution_count": 49
        }
      ]
    },
    {
      "cell_type": "code",
      "metadata": {
        "id": "n9jOXhxrqnZr",
        "outputId": "3c7058c0-7120-4f00-90d4-523a0e54f998"
      },
      "source": [
        "# Попытка заменить код страны на CODE3\n",
        "# Добавить \"C\" к отсутствующим странам\n",
        "df['MERCHANT_COUNTRY'] = df['MERCHANT_COUNTRY'].apply(lambda x: (cntr_df[cntr_df['PHONECODE']==int(x)]['CODE3'].values[0] if len(cntr_df[cntr_df['PHONECODE']==int(x)]['CODE3'].values)>0 else 'C'+x) if x.isdigit() else x)\n",
        "# Проверить, что в стране нет цифр\n",
        "df[[x.isdigit() for x in df['MERCHANT_COUNTRY'].values]].head()"
      ],
      "execution_count": null,
      "outputs": [
        {
          "output_type": "execute_result",
          "data": {
            "text/html": [
              "<div>\n",
              "<style scoped>\n",
              "    .dataframe tbody tr th:only-of-type {\n",
              "        vertical-align: middle;\n",
              "    }\n",
              "\n",
              "    .dataframe tbody tr th {\n",
              "        vertical-align: top;\n",
              "    }\n",
              "\n",
              "    .dataframe thead th {\n",
              "        text-align: right;\n",
              "    }\n",
              "</style>\n",
              "<table border=\"1\" class=\"dataframe\">\n",
              "  <thead>\n",
              "    <tr style=\"text-align: right;\">\n",
              "      <th></th>\n",
              "      <th>CURRENCY</th>\n",
              "      <th>AMOUNT</th>\n",
              "      <th>STATE</th>\n",
              "      <th>CREATED_DATE_x</th>\n",
              "      <th>MERCHANT_CATEGORY</th>\n",
              "      <th>MERCHANT_COUNTRY</th>\n",
              "      <th>ENTRY_METHOD</th>\n",
              "      <th>USER_ID</th>\n",
              "      <th>TYPE</th>\n",
              "      <th>SOURCE</th>\n",
              "      <th>...</th>\n",
              "      <th>TERMS_VERSION</th>\n",
              "      <th>COUNTRY</th>\n",
              "      <th>KYC</th>\n",
              "      <th>FAILED_SIGN_IN_ATTEMPTS</th>\n",
              "      <th>AGE</th>\n",
              "      <th>HOMELAND_PHONE</th>\n",
              "      <th>DAY_OF_TRANSACTION</th>\n",
              "      <th>HOUR_OF_TRANSACTION</th>\n",
              "      <th>PROFILE_AGE</th>\n",
              "      <th>CREATED_DATE_x_date</th>\n",
              "    </tr>\n",
              "  </thead>\n",
              "  <tbody>\n",
              "  </tbody>\n",
              "</table>\n",
              "<p>0 rows × 24 columns</p>\n",
              "</div>"
            ],
            "text/plain": [
              "Empty DataFrame\n",
              "Columns: [CURRENCY, AMOUNT, STATE, CREATED_DATE_x, MERCHANT_CATEGORY, MERCHANT_COUNTRY, ENTRY_METHOD, USER_ID, TYPE, SOURCE, TRN_ID, HAS_EMAIL, PHONE_COUNTRY, IS_FRAUDSTER, TERMS_VERSION, COUNTRY, KYC, FAILED_SIGN_IN_ATTEMPTS, AGE, HOMELAND_PHONE, DAY_OF_TRANSACTION, HOUR_OF_TRANSACTION, PROFILE_AGE, CREATED_DATE_x_date]\n",
              "Index: []\n",
              "\n",
              "[0 rows x 24 columns]"
            ]
          },
          "metadata": {
            "tags": []
          },
          "execution_count": 50
        }
      ]
    },
    {
      "cell_type": "code",
      "metadata": {
        "id": "yVZXLK7OqnZr"
      },
      "source": [
        "# Заполним NaN до Undefined и создадим двоичную переменную HOMELAND, чтобы определить, чем транзакция соверщается в стране пользователя \n",
        "df['COUNTRY'] = df['COUNTRY'].fillna('Undefined')\n",
        "df['HOMELAND'] = df.apply(lambda x: 1 if x['COUNTRY'].upper() == x['MERCHANT_COUNTRY'].upper() else 0, axis=1)"
      ],
      "execution_count": null,
      "outputs": []
    },
    {
      "cell_type": "markdown",
      "metadata": {
        "id": "gIXc-p6OqnZr"
      },
      "source": [
        "#### **Преобразуем валюту**"
      ]
    },
    {
      "cell_type": "code",
      "metadata": {
        "id": "t4zpzD76qnZr"
      },
      "source": [
        "df = pd.merge(df, cur_df, left_on=\"CURRENCY\", right_on=\"CCY\")\n",
        "df['IS_CRYPTO'] = df['IS_CRYPTO'].astype(int)\n",
        "df['AMOUNT'] = df['AMOUNT'] / (10**df['EXPONENT'])"
      ],
      "execution_count": null,
      "outputs": []
    },
    {
      "cell_type": "code",
      "metadata": {
        "id": "THzAQdPHqnZs",
        "outputId": "2405e295-2ad8-4730-f523-3844b0ba7de7"
      },
      "source": [
        "df.columns"
      ],
      "execution_count": null,
      "outputs": [
        {
          "output_type": "execute_result",
          "data": {
            "text/plain": [
              "Index(['CURRENCY', 'AMOUNT', 'STATE', 'CREATED_DATE_x', 'MERCHANT_CATEGORY',\n",
              "       'MERCHANT_COUNTRY', 'ENTRY_METHOD', 'USER_ID', 'TYPE', 'SOURCE',\n",
              "       'TRN_ID', 'HAS_EMAIL', 'PHONE_COUNTRY', 'IS_FRAUDSTER', 'TERMS_VERSION',\n",
              "       'COUNTRY', 'KYC', 'FAILED_SIGN_IN_ATTEMPTS', 'AGE', 'HOMELAND_PHONE',\n",
              "       'DAY_OF_TRANSACTION', 'HOUR_OF_TRANSACTION', 'PROFILE_AGE',\n",
              "       'CREATED_DATE_x_date', 'HOMELAND', 'CCY', 'EXPONENT', 'IS_CRYPTO'],\n",
              "      dtype='object')"
            ]
          },
          "metadata": {
            "tags": []
          },
          "execution_count": 53
        }
      ]
    },
    {
      "cell_type": "code",
      "metadata": {
        "id": "YER7Y64pqnZs"
      },
      "source": [
        "df = df[parameters.cols_to_select]"
      ],
      "execution_count": null,
      "outputs": []
    },
    {
      "cell_type": "code",
      "metadata": {
        "id": "FSmH1I40qnZs",
        "outputId": "9324a11f-29ad-4483-dabc-2ca51d582918"
      },
      "source": [
        "df.head()"
      ],
      "execution_count": null,
      "outputs": [
        {
          "output_type": "execute_result",
          "data": {
            "text/html": [
              "<div>\n",
              "<style scoped>\n",
              "    .dataframe tbody tr th:only-of-type {\n",
              "        vertical-align: middle;\n",
              "    }\n",
              "\n",
              "    .dataframe tbody tr th {\n",
              "        vertical-align: top;\n",
              "    }\n",
              "\n",
              "    .dataframe thead th {\n",
              "        text-align: right;\n",
              "    }\n",
              "</style>\n",
              "<table border=\"1\" class=\"dataframe\">\n",
              "  <thead>\n",
              "    <tr style=\"text-align: right;\">\n",
              "      <th></th>\n",
              "      <th>TRN_ID</th>\n",
              "      <th>USER_ID</th>\n",
              "      <th>CREATED_DATE_x</th>\n",
              "      <th>CURRENCY</th>\n",
              "      <th>AMOUNT</th>\n",
              "      <th>STATE</th>\n",
              "      <th>MERCHANT_CATEGORY</th>\n",
              "      <th>ENTRY_METHOD</th>\n",
              "      <th>TYPE</th>\n",
              "      <th>SOURCE</th>\n",
              "      <th>...</th>\n",
              "      <th>TERMS_VERSION</th>\n",
              "      <th>KYC</th>\n",
              "      <th>FAILED_SIGN_IN_ATTEMPTS</th>\n",
              "      <th>AGE</th>\n",
              "      <th>PROFILE_AGE</th>\n",
              "      <th>HOMELAND</th>\n",
              "      <th>HOMELAND_PHONE</th>\n",
              "      <th>DAY_OF_TRANSACTION</th>\n",
              "      <th>HOUR_OF_TRANSACTION</th>\n",
              "      <th>IS_CRYPTO</th>\n",
              "    </tr>\n",
              "  </thead>\n",
              "  <tbody>\n",
              "    <tr>\n",
              "      <td>0</td>\n",
              "      <td>b3332e6f-7865-4d6e-b6a5-370bc75568d8</td>\n",
              "      <td>8f99c254-7cf2-4e35-b7e4-53804d42445d</td>\n",
              "      <td>2017-12-20 12:46:20.294</td>\n",
              "      <td>GBP</td>\n",
              "      <td>1.75</td>\n",
              "      <td>COMPLETED</td>\n",
              "      <td>cafe</td>\n",
              "      <td>cont</td>\n",
              "      <td>CARD_PAYMENT</td>\n",
              "      <td>GAIA</td>\n",
              "      <td>...</td>\n",
              "      <td>2018-05-25</td>\n",
              "      <td>PASSED</td>\n",
              "      <td>0</td>\n",
              "      <td>55</td>\n",
              "      <td>83</td>\n",
              "      <td>1</td>\n",
              "      <td>1</td>\n",
              "      <td>3</td>\n",
              "      <td>12</td>\n",
              "      <td>0</td>\n",
              "    </tr>\n",
              "    <tr>\n",
              "      <td>1</td>\n",
              "      <td>bf0e3adf-a932-4e3d-be9c-45d702febf03</td>\n",
              "      <td>8f99c254-7cf2-4e35-b7e4-53804d42445d</td>\n",
              "      <td>2017-12-19 12:40:55.325</td>\n",
              "      <td>GBP</td>\n",
              "      <td>1.75</td>\n",
              "      <td>COMPLETED</td>\n",
              "      <td>cafe</td>\n",
              "      <td>cont</td>\n",
              "      <td>CARD_PAYMENT</td>\n",
              "      <td>GAIA</td>\n",
              "      <td>...</td>\n",
              "      <td>2018-05-25</td>\n",
              "      <td>PASSED</td>\n",
              "      <td>0</td>\n",
              "      <td>55</td>\n",
              "      <td>82</td>\n",
              "      <td>1</td>\n",
              "      <td>1</td>\n",
              "      <td>2</td>\n",
              "      <td>12</td>\n",
              "      <td>0</td>\n",
              "    </tr>\n",
              "    <tr>\n",
              "      <td>2</td>\n",
              "      <td>f5e63142-4577-482a-884e-b5b8b8526872</td>\n",
              "      <td>8f99c254-7cf2-4e35-b7e4-53804d42445d</td>\n",
              "      <td>2017-12-19 12:45:05.706</td>\n",
              "      <td>GBP</td>\n",
              "      <td>2.20</td>\n",
              "      <td>COMPLETED</td>\n",
              "      <td>department_store</td>\n",
              "      <td>cont</td>\n",
              "      <td>CARD_PAYMENT</td>\n",
              "      <td>GAIA</td>\n",
              "      <td>...</td>\n",
              "      <td>2018-05-25</td>\n",
              "      <td>PASSED</td>\n",
              "      <td>0</td>\n",
              "      <td>55</td>\n",
              "      <td>82</td>\n",
              "      <td>1</td>\n",
              "      <td>1</td>\n",
              "      <td>2</td>\n",
              "      <td>12</td>\n",
              "      <td>0</td>\n",
              "    </tr>\n",
              "    <tr>\n",
              "      <td>3</td>\n",
              "      <td>839a3fbd-ea6c-4867-ae00-9048d636c261</td>\n",
              "      <td>8f99c254-7cf2-4e35-b7e4-53804d42445d</td>\n",
              "      <td>2017-12-21 07:42:25.629</td>\n",
              "      <td>GBP</td>\n",
              "      <td>2.10</td>\n",
              "      <td>COMPLETED</td>\n",
              "      <td>Undefined</td>\n",
              "      <td>cont</td>\n",
              "      <td>CARD_PAYMENT</td>\n",
              "      <td>GAIA</td>\n",
              "      <td>...</td>\n",
              "      <td>2018-05-25</td>\n",
              "      <td>PASSED</td>\n",
              "      <td>0</td>\n",
              "      <td>55</td>\n",
              "      <td>83</td>\n",
              "      <td>1</td>\n",
              "      <td>1</td>\n",
              "      <td>4</td>\n",
              "      <td>7</td>\n",
              "      <td>0</td>\n",
              "    </tr>\n",
              "    <tr>\n",
              "      <td>4</td>\n",
              "      <td>12974850-86c9-44e8-ac27-af0fca755dbf</td>\n",
              "      <td>8f99c254-7cf2-4e35-b7e4-53804d42445d</td>\n",
              "      <td>2017-12-21 08:36:56.132</td>\n",
              "      <td>GBP</td>\n",
              "      <td>4.85</td>\n",
              "      <td>COMPLETED</td>\n",
              "      <td>cafe</td>\n",
              "      <td>cont</td>\n",
              "      <td>CARD_PAYMENT</td>\n",
              "      <td>GAIA</td>\n",
              "      <td>...</td>\n",
              "      <td>2018-05-25</td>\n",
              "      <td>PASSED</td>\n",
              "      <td>0</td>\n",
              "      <td>55</td>\n",
              "      <td>83</td>\n",
              "      <td>1</td>\n",
              "      <td>1</td>\n",
              "      <td>4</td>\n",
              "      <td>8</td>\n",
              "      <td>0</td>\n",
              "    </tr>\n",
              "  </tbody>\n",
              "</table>\n",
              "<p>5 rows × 22 columns</p>\n",
              "</div>"
            ],
            "text/plain": [
              "                                 TRN_ID                               USER_ID  \\\n",
              "0  b3332e6f-7865-4d6e-b6a5-370bc75568d8  8f99c254-7cf2-4e35-b7e4-53804d42445d   \n",
              "1  bf0e3adf-a932-4e3d-be9c-45d702febf03  8f99c254-7cf2-4e35-b7e4-53804d42445d   \n",
              "2  f5e63142-4577-482a-884e-b5b8b8526872  8f99c254-7cf2-4e35-b7e4-53804d42445d   \n",
              "3  839a3fbd-ea6c-4867-ae00-9048d636c261  8f99c254-7cf2-4e35-b7e4-53804d42445d   \n",
              "4  12974850-86c9-44e8-ac27-af0fca755dbf  8f99c254-7cf2-4e35-b7e4-53804d42445d   \n",
              "\n",
              "           CREATED_DATE_x CURRENCY  AMOUNT      STATE MERCHANT_CATEGORY  \\\n",
              "0 2017-12-20 12:46:20.294      GBP    1.75  COMPLETED              cafe   \n",
              "1 2017-12-19 12:40:55.325      GBP    1.75  COMPLETED              cafe   \n",
              "2 2017-12-19 12:45:05.706      GBP    2.20  COMPLETED  department_store   \n",
              "3 2017-12-21 07:42:25.629      GBP    2.10  COMPLETED         Undefined   \n",
              "4 2017-12-21 08:36:56.132      GBP    4.85  COMPLETED              cafe   \n",
              "\n",
              "  ENTRY_METHOD          TYPE SOURCE  ...  TERMS_VERSION     KYC  \\\n",
              "0         cont  CARD_PAYMENT   GAIA  ...     2018-05-25  PASSED   \n",
              "1         cont  CARD_PAYMENT   GAIA  ...     2018-05-25  PASSED   \n",
              "2         cont  CARD_PAYMENT   GAIA  ...     2018-05-25  PASSED   \n",
              "3         cont  CARD_PAYMENT   GAIA  ...     2018-05-25  PASSED   \n",
              "4         cont  CARD_PAYMENT   GAIA  ...     2018-05-25  PASSED   \n",
              "\n",
              "  FAILED_SIGN_IN_ATTEMPTS AGE  PROFILE_AGE  HOMELAND  HOMELAND_PHONE  \\\n",
              "0                       0  55           83         1               1   \n",
              "1                       0  55           82         1               1   \n",
              "2                       0  55           82         1               1   \n",
              "3                       0  55           83         1               1   \n",
              "4                       0  55           83         1               1   \n",
              "\n",
              "   DAY_OF_TRANSACTION  HOUR_OF_TRANSACTION  IS_CRYPTO  \n",
              "0                   3                   12          0  \n",
              "1                   2                   12          0  \n",
              "2                   2                   12          0  \n",
              "3                   4                    7          0  \n",
              "4                   4                    8          0  \n",
              "\n",
              "[5 rows x 22 columns]"
            ]
          },
          "metadata": {
            "tags": []
          },
          "execution_count": 55
        }
      ]
    },
    {
      "cell_type": "code",
      "metadata": {
        "id": "ddNe3JMYqnZs",
        "outputId": "8256cb24-a440-46bd-d333-60698ed1b819"
      },
      "source": [
        "df.describe().T"
      ],
      "execution_count": null,
      "outputs": [
        {
          "output_type": "execute_result",
          "data": {
            "text/html": [
              "<div>\n",
              "<style scoped>\n",
              "    .dataframe tbody tr th:only-of-type {\n",
              "        vertical-align: middle;\n",
              "    }\n",
              "\n",
              "    .dataframe tbody tr th {\n",
              "        vertical-align: top;\n",
              "    }\n",
              "\n",
              "    .dataframe thead th {\n",
              "        text-align: right;\n",
              "    }\n",
              "</style>\n",
              "<table border=\"1\" class=\"dataframe\">\n",
              "  <thead>\n",
              "    <tr style=\"text-align: right;\">\n",
              "      <th></th>\n",
              "      <th>count</th>\n",
              "      <th>mean</th>\n",
              "      <th>std</th>\n",
              "      <th>min</th>\n",
              "      <th>25%</th>\n",
              "      <th>50%</th>\n",
              "      <th>75%</th>\n",
              "      <th>max</th>\n",
              "    </tr>\n",
              "  </thead>\n",
              "  <tbody>\n",
              "    <tr>\n",
              "      <td>AMOUNT</td>\n",
              "      <td>638742.0</td>\n",
              "      <td>185.288777</td>\n",
              "      <td>17035.825815</td>\n",
              "      <td>0.0</td>\n",
              "      <td>4.64</td>\n",
              "      <td>13.9</td>\n",
              "      <td>50.0</td>\n",
              "      <td>9000000.0</td>\n",
              "    </tr>\n",
              "    <tr>\n",
              "      <td>HAS_EMAIL</td>\n",
              "      <td>638742.0</td>\n",
              "      <td>0.989255</td>\n",
              "      <td>0.103098</td>\n",
              "      <td>0.0</td>\n",
              "      <td>1.00</td>\n",
              "      <td>1.0</td>\n",
              "      <td>1.0</td>\n",
              "      <td>1.0</td>\n",
              "    </tr>\n",
              "    <tr>\n",
              "      <td>IS_FRAUDSTER</td>\n",
              "      <td>638742.0</td>\n",
              "      <td>0.021783</td>\n",
              "      <td>0.145976</td>\n",
              "      <td>0.0</td>\n",
              "      <td>0.00</td>\n",
              "      <td>0.0</td>\n",
              "      <td>0.0</td>\n",
              "      <td>1.0</td>\n",
              "    </tr>\n",
              "    <tr>\n",
              "      <td>FAILED_SIGN_IN_ATTEMPTS</td>\n",
              "      <td>638742.0</td>\n",
              "      <td>0.009552</td>\n",
              "      <td>0.141177</td>\n",
              "      <td>0.0</td>\n",
              "      <td>0.00</td>\n",
              "      <td>0.0</td>\n",
              "      <td>0.0</td>\n",
              "      <td>6.0</td>\n",
              "    </tr>\n",
              "    <tr>\n",
              "      <td>AGE</td>\n",
              "      <td>638742.0</td>\n",
              "      <td>31.985259</td>\n",
              "      <td>9.869479</td>\n",
              "      <td>16.0</td>\n",
              "      <td>25.00</td>\n",
              "      <td>29.0</td>\n",
              "      <td>37.0</td>\n",
              "      <td>91.0</td>\n",
              "    </tr>\n",
              "    <tr>\n",
              "      <td>PROFILE_AGE</td>\n",
              "      <td>638742.0</td>\n",
              "      <td>219.816344</td>\n",
              "      <td>197.082166</td>\n",
              "      <td>0.0</td>\n",
              "      <td>63.00</td>\n",
              "      <td>159.0</td>\n",
              "      <td>329.0</td>\n",
              "      <td>939.0</td>\n",
              "    </tr>\n",
              "    <tr>\n",
              "      <td>HOMELAND</td>\n",
              "      <td>638742.0</td>\n",
              "      <td>0.293715</td>\n",
              "      <td>0.455463</td>\n",
              "      <td>0.0</td>\n",
              "      <td>0.00</td>\n",
              "      <td>0.0</td>\n",
              "      <td>1.0</td>\n",
              "      <td>1.0</td>\n",
              "    </tr>\n",
              "    <tr>\n",
              "      <td>HOMELAND_PHONE</td>\n",
              "      <td>638742.0</td>\n",
              "      <td>0.926347</td>\n",
              "      <td>0.261205</td>\n",
              "      <td>0.0</td>\n",
              "      <td>1.00</td>\n",
              "      <td>1.0</td>\n",
              "      <td>1.0</td>\n",
              "      <td>1.0</td>\n",
              "    </tr>\n",
              "    <tr>\n",
              "      <td>DAY_OF_TRANSACTION</td>\n",
              "      <td>638742.0</td>\n",
              "      <td>3.124114</td>\n",
              "      <td>1.987050</td>\n",
              "      <td>0.0</td>\n",
              "      <td>1.00</td>\n",
              "      <td>3.0</td>\n",
              "      <td>5.0</td>\n",
              "      <td>6.0</td>\n",
              "    </tr>\n",
              "    <tr>\n",
              "      <td>HOUR_OF_TRANSACTION</td>\n",
              "      <td>638742.0</td>\n",
              "      <td>13.123067</td>\n",
              "      <td>5.540228</td>\n",
              "      <td>0.0</td>\n",
              "      <td>9.00</td>\n",
              "      <td>13.0</td>\n",
              "      <td>17.0</td>\n",
              "      <td>23.0</td>\n",
              "    </tr>\n",
              "    <tr>\n",
              "      <td>IS_CRYPTO</td>\n",
              "      <td>638742.0</td>\n",
              "      <td>0.000894</td>\n",
              "      <td>0.029886</td>\n",
              "      <td>0.0</td>\n",
              "      <td>0.00</td>\n",
              "      <td>0.0</td>\n",
              "      <td>0.0</td>\n",
              "      <td>1.0</td>\n",
              "    </tr>\n",
              "  </tbody>\n",
              "</table>\n",
              "</div>"
            ],
            "text/plain": [
              "                            count        mean           std   min    25%  \\\n",
              "AMOUNT                   638742.0  185.288777  17035.825815   0.0   4.64   \n",
              "HAS_EMAIL                638742.0    0.989255      0.103098   0.0   1.00   \n",
              "IS_FRAUDSTER             638742.0    0.021783      0.145976   0.0   0.00   \n",
              "FAILED_SIGN_IN_ATTEMPTS  638742.0    0.009552      0.141177   0.0   0.00   \n",
              "AGE                      638742.0   31.985259      9.869479  16.0  25.00   \n",
              "PROFILE_AGE              638742.0  219.816344    197.082166   0.0  63.00   \n",
              "HOMELAND                 638742.0    0.293715      0.455463   0.0   0.00   \n",
              "HOMELAND_PHONE           638742.0    0.926347      0.261205   0.0   1.00   \n",
              "DAY_OF_TRANSACTION       638742.0    3.124114      1.987050   0.0   1.00   \n",
              "HOUR_OF_TRANSACTION      638742.0   13.123067      5.540228   0.0   9.00   \n",
              "IS_CRYPTO                638742.0    0.000894      0.029886   0.0   0.00   \n",
              "\n",
              "                           50%    75%        max  \n",
              "AMOUNT                    13.9   50.0  9000000.0  \n",
              "HAS_EMAIL                  1.0    1.0        1.0  \n",
              "IS_FRAUDSTER               0.0    0.0        1.0  \n",
              "FAILED_SIGN_IN_ATTEMPTS    0.0    0.0        6.0  \n",
              "AGE                       29.0   37.0       91.0  \n",
              "PROFILE_AGE              159.0  329.0      939.0  \n",
              "HOMELAND                   0.0    1.0        1.0  \n",
              "HOMELAND_PHONE             1.0    1.0        1.0  \n",
              "DAY_OF_TRANSACTION         3.0    5.0        6.0  \n",
              "HOUR_OF_TRANSACTION       13.0   17.0       23.0  \n",
              "IS_CRYPTO                  0.0    0.0        1.0  "
            ]
          },
          "metadata": {
            "tags": []
          },
          "execution_count": 56
        }
      ]
    },
    {
      "cell_type": "code",
      "metadata": {
        "id": "CHu4ZgKwqnZs",
        "outputId": "d4c569a9-83cc-4440-e1d1-d3bf5afcd203"
      },
      "source": [
        "fig, ax = plt.subplots(figsize=(18,12))\n",
        "sns.heatmap(df.corr(),annot=True,cmap=\"RdYlGn\",vmin=-1,vmax=1);"
      ],
      "execution_count": null,
      "outputs": [
        {
          "output_type": "display_data",
          "data": {
            "image/png": "[encoded data removed]",
            "text/plain": [
              "<Figure size 1296x864 with 2 Axes>"
            ]
          },
          "metadata": {
            "tags": [],
            "needs_background": "light"
          }
        }
      ]
    },
    {
      "cell_type": "code",
      "metadata": {
        "id": "ZXXOXxkXqnZt"
      },
      "source": [
        "df_f = df[df['IS_FRAUDSTER']==1]\n",
        "df_nof = df[df['IS_FRAUDSTER']==0]"
      ],
      "execution_count": null,
      "outputs": []
    },
    {
      "cell_type": "code",
      "metadata": {
        "id": "IGyu1T8aqnZt",
        "outputId": "6bd99e06-1bab-47a0-a71f-c8d84db0c470"
      },
      "source": [
        "cols = ['AMOUNT','FAILED_SIGN_IN_ATTEMPTS','AGE','PROFILE_AGE',\n",
        "        'DAY_OF_TRANSACTION','HOUR_OF_TRANSACTION'\n",
        "       ]\n",
        "fig, axs = plt.subplots(ncols=4, nrows=3, figsize=(12, 8))\n",
        "index = 0\n",
        "axs = axs.flatten()\n",
        "for k,v in df[cols].items():\n",
        "    sns.boxplot(y=k, data=df_nof[cols], ax=axs[index])\n",
        "    index += 1\n",
        "    sns.boxplot(y=k, data=df_f[cols], ax=axs[index], color='y')\n",
        "    index += 1\n",
        "plt.tight_layout(pad=0.4, w_pad=0.5, h_pad=5.0)"
      ],
      "execution_count": null,
      "outputs": [
        {
          "output_type": "display_data",
          "data": {
            "image/png": "[encoded data removed]",
            "text/plain": [
              "<Figure size 864x576 with 12 Axes>"
            ]
          },
          "metadata": {
            "tags": [],
            "needs_background": "light"
          }
        }
      ]
    },
    {
      "cell_type": "code",
      "metadata": {
        "id": "UigCqq3_qnZt",
        "outputId": "dfcb7faa-8215-4f19-82c6-c0969011492d"
      },
      "source": [
        "cols = ['AMOUNT','FAILED_SIGN_IN_ATTEMPTS','AGE','PROFILE_AGE',\n",
        "        'DAY_OF_TRANSACTION','HOUR_OF_TRANSACTION'\n",
        "       ]\n",
        "fig, axs = plt.subplots(ncols=3, nrows=2, figsize=(12, 6))\n",
        "index = 0\n",
        "axs = axs.flatten()\n",
        "for k,v in df_f[cols].items():\n",
        "    sns.boxplot(y=k, data=df_f[cols], ax=axs[index])\n",
        "    index += 1\n",
        "plt.tight_layout(pad=0.4, w_pad=0.5, h_pad=5.0)"
      ],
      "execution_count": null,
      "outputs": [
        {
          "output_type": "display_data",
          "data": {
            "image/png": "[encoded data removed]",
            "text/plain": [
              "<Figure size 864x432 with 6 Axes>"
            ]
          },
          "metadata": {
            "tags": [],
            "needs_background": "light"
          }
        }
      ]
    },
    {
      "cell_type": "code",
      "metadata": {
        "id": "bmfrbnC_qnZt",
        "outputId": "93efeb09-73af-4847-b6eb-1b08aea82929"
      },
      "source": [
        "df[df['IS_FRAUDSTER']==1]['AMOUNT'].hist()"
      ],
      "execution_count": null,
      "outputs": [
        {
          "output_type": "execute_result",
          "data": {
            "text/plain": [
              "<matplotlib.axes._subplots.AxesSubplot at 0x7f61bfd81a90>"
            ]
          },
          "metadata": {
            "tags": []
          },
          "execution_count": 61
        },
        {
          "output_type": "display_data",
          "data": {
            "image/png": "[encoded data removed]",
            "text/plain": [
              "<Figure size 432x288 with 1 Axes>"
            ]
          },
          "metadata": {
            "tags": [],
            "needs_background": "light"
          }
        }
      ]
    },
    {
      "cell_type": "code",
      "metadata": {
        "id": "kUcOIc3YqnZt",
        "outputId": "5a906446-3e8d-4745-87ea-5f1ed18088ba"
      },
      "source": [
        "cols = ['AMOUNT','FAILED_SIGN_IN_ATTEMPTS','AGE','PROFILE_AGE',\n",
        "        'DAY_OF_TRANSACTION','HOUR_OF_TRANSACTION'\n",
        "       ]\n",
        "fig, axs = plt.subplots(ncols=3, nrows=2, figsize=(12, 6))\n",
        "index = 0\n",
        "axs = axs.flatten()\n",
        "for k,v in df[cols].items():\n",
        "    sns.boxplot(y=k, data=df[cols], ax=axs[index])\n",
        "    index += 1\n",
        "plt.tight_layout(pad=0.4, w_pad=0.5, h_pad=5.0)"
      ],
      "execution_count": null,
      "outputs": [
        {
          "output_type": "display_data",
          "data": {
            "image/png": "[encoded data removed]",
            "text/plain": [
              "<Figure size 864x432 with 6 Axes>"
            ]
          },
          "metadata": {
            "tags": [],
            "needs_background": "light"
          }
        }
      ]
    },
    {
      "cell_type": "code",
      "metadata": {
        "id": "FGN01c_mqnZu"
      },
      "source": [
        "# сохраним основной набор данных на диск\n",
        "df.to_csv(parameters.dataset_file_name, index=False)"
      ],
      "execution_count": null,
      "outputs": []
    },
    {
      "cell_type": "markdown",
      "metadata": {
        "id": "Hy2eMNhMqnZu"
      },
      "source": [
        "Исключим из набора данных пользователей для финального теста и не тренировать на них"
      ]
    },
    {
      "cell_type": "code",
      "metadata": {
        "id": "pqU4u_3zqnZu"
      },
      "source": [
        "df = pd.read_csv(parameters.dataset_file_name)"
      ],
      "execution_count": null,
      "outputs": []
    },
    {
      "cell_type": "code",
      "metadata": {
        "id": "55NUiLWwqnZu"
      },
      "source": [
        "df = df[~df['USER_ID'].isin(test_users)]"
      ],
      "execution_count": null,
      "outputs": []
    },
    {
      "cell_type": "markdown",
      "metadata": {
        "id": "gJCBvK3WqnZv"
      },
      "source": [
        "#### **Присоединим к набору данных, чтобы получить полный набор данных**"
      ]
    },
    {
      "cell_type": "code",
      "metadata": {
        "id": "NTtSGmieqnZv"
      },
      "source": [
        "# Создадим фиктивные столбцы для категориальных переменных\n",
        "df = pd.get_dummies(df, columns=parameters.cat_features)"
      ],
      "execution_count": null,
      "outputs": []
    },
    {
      "cell_type": "markdown",
      "metadata": {
        "id": "agRIT-9ZqnZv"
      },
      "source": [
        "### **Теперь у нас есть окончательный набор данных. Посмотрим на них**"
      ]
    },
    {
      "cell_type": "code",
      "metadata": {
        "id": "UdkPonRjqnZv",
        "outputId": "64877886-9c01-4eef-a51c-1f4849cf5c41"
      },
      "source": [
        "print(df.shape)\n",
        "print(list(df.columns))\n",
        "df.head()"
      ],
      "execution_count": null,
      "outputs": [
        {
          "output_type": "stream",
          "text": [
            "(638634, 200)\n",
            "['TRN_ID', 'USER_ID', 'CREATED_DATE_x', 'AMOUNT', 'HAS_EMAIL', 'IS_FRAUDSTER', 'FAILED_SIGN_IN_ATTEMPTS', 'AGE', 'PROFILE_AGE', 'HOMELAND', 'HOMELAND_PHONE', 'DAY_OF_TRANSACTION', 'HOUR_OF_TRANSACTION', 'IS_CRYPTO', 'ENTRY_METHOD_chip', 'ENTRY_METHOD_cont', 'ENTRY_METHOD_mags', 'ENTRY_METHOD_manu', 'ENTRY_METHOD_mcon', 'ENTRY_METHOD_misc', 'TYPE_ATM', 'TYPE_BANK_TRANSFER', 'TYPE_CARD_PAYMENT', 'TYPE_P2P', 'TYPE_TOPUP', 'SOURCE_APOLLO', 'SOURCE_BRIZO', 'SOURCE_CRONUS', 'SOURCE_GAIA', 'SOURCE_HERA', 'SOURCE_INTERNAL', 'SOURCE_LETO', 'SOURCE_LIMOS', 'SOURCE_MINOS', 'SOURCE_NYX', 'SOURCE_OPHION', 'STATE_CANCELLED', 'STATE_COMPLETED', 'STATE_DECLINED', 'STATE_FAILED', 'STATE_PENDING', 'STATE_RECORDED', 'STATE_REVERTED', 'MERCHANT_CATEGORY_Undefined', 'MERCHANT_CATEGORY_accounting', 'MERCHANT_CATEGORY_administrative_area_level_1', 'MERCHANT_CATEGORY_administrative_area_level_2', 'MERCHANT_CATEGORY_administrative_area_level_3', 'MERCHANT_CATEGORY_administrative_area_level_4', 'MERCHANT_CATEGORY_airport', 'MERCHANT_CATEGORY_amusement_park', 'MERCHANT_CATEGORY_aquarium', 'MERCHANT_CATEGORY_archipelago', 'MERCHANT_CATEGORY_art_gallery', 'MERCHANT_CATEGORY_atm', 'MERCHANT_CATEGORY_bakery', 'MERCHANT_CATEGORY_bank', 'MERCHANT_CATEGORY_bar', 'MERCHANT_CATEGORY_beauty_salon', 'MERCHANT_CATEGORY_bicycle_store', 'MERCHANT_CATEGORY_book_store', 'MERCHANT_CATEGORY_bowling_alley', 'MERCHANT_CATEGORY_bus_station', 'MERCHANT_CATEGORY_cafe', 'MERCHANT_CATEGORY_campground', 'MERCHANT_CATEGORY_car_dealer', 'MERCHANT_CATEGORY_car_rental', 'MERCHANT_CATEGORY_car_repair', 'MERCHANT_CATEGORY_car_wash', 'MERCHANT_CATEGORY_casino', 'MERCHANT_CATEGORY_cemetery', 'MERCHANT_CATEGORY_church', 'MERCHANT_CATEGORY_city_hall', 'MERCHANT_CATEGORY_clothing_store', 'MERCHANT_CATEGORY_colloquial_area', 'MERCHANT_CATEGORY_convenience_store', 'MERCHANT_CATEGORY_courthouse', 'MERCHANT_CATEGORY_dentist', 'MERCHANT_CATEGORY_department_store', 'MERCHANT_CATEGORY_doctor', 'MERCHANT_CATEGORY_electrician', 'MERCHANT_CATEGORY_electronics_store', 'MERCHANT_CATEGORY_embassy', 'MERCHANT_CATEGORY_finance', 'MERCHANT_CATEGORY_fire_station', 'MERCHANT_CATEGORY_florist', 'MERCHANT_CATEGORY_food', 'MERCHANT_CATEGORY_funeral_home', 'MERCHANT_CATEGORY_furniture_store', 'MERCHANT_CATEGORY_gas_station', 'MERCHANT_CATEGORY_general_contractor', 'MERCHANT_CATEGORY_grocery_or_supermarket', 'MERCHANT_CATEGORY_gym', 'MERCHANT_CATEGORY_hair_care', 'MERCHANT_CATEGORY_hardware_store', 'MERCHANT_CATEGORY_health', 'MERCHANT_CATEGORY_hindu_temple', 'MERCHANT_CATEGORY_home_goods_store', 'MERCHANT_CATEGORY_hospital', 'MERCHANT_CATEGORY_insurance_agency', 'MERCHANT_CATEGORY_intersection', 'MERCHANT_CATEGORY_jewelry_store', 'MERCHANT_CATEGORY_laundry', 'MERCHANT_CATEGORY_lawyer', 'MERCHANT_CATEGORY_library', 'MERCHANT_CATEGORY_light_rail_station', 'MERCHANT_CATEGORY_liquor_store', 'MERCHANT_CATEGORY_local_government_office', 'MERCHANT_CATEGORY_locality', 'MERCHANT_CATEGORY_locksmith', 'MERCHANT_CATEGORY_lodging', 'MERCHANT_CATEGORY_meal_delivery', 'MERCHANT_CATEGORY_meal_takeaway', 'MERCHANT_CATEGORY_movie_rental', 'MERCHANT_CATEGORY_movie_theater', 'MERCHANT_CATEGORY_moving_company', 'MERCHANT_CATEGORY_museum', 'MERCHANT_CATEGORY_natural_feature', 'MERCHANT_CATEGORY_neighborhood', 'MERCHANT_CATEGORY_night_club', 'MERCHANT_CATEGORY_painter', 'MERCHANT_CATEGORY_park', 'MERCHANT_CATEGORY_parking', 'MERCHANT_CATEGORY_pet_store', 'MERCHANT_CATEGORY_pharmacy', 'MERCHANT_CATEGORY_physiotherapist', 'MERCHANT_CATEGORY_place_of_worship', 'MERCHANT_CATEGORY_plumber', 'MERCHANT_CATEGORY_point_of_interest', 'MERCHANT_CATEGORY_police', 'MERCHANT_CATEGORY_political', 'MERCHANT_CATEGORY_post_office', 'MERCHANT_CATEGORY_premise', 'MERCHANT_CATEGORY_real_estate_agency', 'MERCHANT_CATEGORY_restaurant', 'MERCHANT_CATEGORY_roofing_contractor', 'MERCHANT_CATEGORY_route', 'MERCHANT_CATEGORY_rv_park', 'MERCHANT_CATEGORY_school', 'MERCHANT_CATEGORY_shoe_store', 'MERCHANT_CATEGORY_shopping_mall', 'MERCHANT_CATEGORY_spa', 'MERCHANT_CATEGORY_stadium', 'MERCHANT_CATEGORY_storage', 'MERCHANT_CATEGORY_store', 'MERCHANT_CATEGORY_street_address', 'MERCHANT_CATEGORY_sublocality_level_1', 'MERCHANT_CATEGORY_sublocality_level_2', 'MERCHANT_CATEGORY_sublocality_level_3', 'MERCHANT_CATEGORY_subpremise', 'MERCHANT_CATEGORY_subway_station', 'MERCHANT_CATEGORY_supermarket', 'MERCHANT_CATEGORY_taxi_stand', 'MERCHANT_CATEGORY_train_station', 'MERCHANT_CATEGORY_transit_station', 'MERCHANT_CATEGORY_travel_agency', 'MERCHANT_CATEGORY_university', 'MERCHANT_CATEGORY_veterinary_care', 'MERCHANT_CATEGORY_zoo', 'TERMS_VERSION_2017-01-16', 'TERMS_VERSION_2017-02-02', 'TERMS_VERSION_2018-01-01', 'TERMS_VERSION_2018-01-13', 'TERMS_VERSION_2018-03-20', 'TERMS_VERSION_2018-05-25', 'TERMS_VERSION_2018-09-20', 'TERMS_VERSION_Undefined', 'KYC_FAILED', 'KYC_NONE', 'KYC_PASSED', 'KYC_PENDING', 'CURRENCY_AED', 'CURRENCY_AUD', 'CURRENCY_BTC', 'CURRENCY_CAD', 'CURRENCY_CHF', 'CURRENCY_CZK', 'CURRENCY_DKK', 'CURRENCY_ETH', 'CURRENCY_EUR', 'CURRENCY_GBP', 'CURRENCY_HKD', 'CURRENCY_HUF', 'CURRENCY_ILS', 'CURRENCY_INR', 'CURRENCY_JPY', 'CURRENCY_LTC', 'CURRENCY_MAD', 'CURRENCY_NOK', 'CURRENCY_NZD', 'CURRENCY_PLN', 'CURRENCY_QAR', 'CURRENCY_RON', 'CURRENCY_SEK', 'CURRENCY_SGD', 'CURRENCY_THB', 'CURRENCY_TRY', 'CURRENCY_USD', 'CURRENCY_XRP', 'CURRENCY_ZAR']\n"
          ],
          "name": "stdout"
        },
        {
          "output_type": "execute_result",
          "data": {
            "text/html": [
              "<div>\n",
              "<style scoped>\n",
              "    .dataframe tbody tr th:only-of-type {\n",
              "        vertical-align: middle;\n",
              "    }\n",
              "\n",
              "    .dataframe tbody tr th {\n",
              "        vertical-align: top;\n",
              "    }\n",
              "\n",
              "    .dataframe thead th {\n",
              "        text-align: right;\n",
              "    }\n",
              "</style>\n",
              "<table border=\"1\" class=\"dataframe\">\n",
              "  <thead>\n",
              "    <tr style=\"text-align: right;\">\n",
              "      <th></th>\n",
              "      <th>TRN_ID</th>\n",
              "      <th>USER_ID</th>\n",
              "      <th>CREATED_DATE_x</th>\n",
              "      <th>AMOUNT</th>\n",
              "      <th>HAS_EMAIL</th>\n",
              "      <th>IS_FRAUDSTER</th>\n",
              "      <th>FAILED_SIGN_IN_ATTEMPTS</th>\n",
              "      <th>AGE</th>\n",
              "      <th>PROFILE_AGE</th>\n",
              "      <th>HOMELAND</th>\n",
              "      <th>...</th>\n",
              "      <th>CURRENCY_PLN</th>\n",
              "      <th>CURRENCY_QAR</th>\n",
              "      <th>CURRENCY_RON</th>\n",
              "      <th>CURRENCY_SEK</th>\n",
              "      <th>CURRENCY_SGD</th>\n",
              "      <th>CURRENCY_THB</th>\n",
              "      <th>CURRENCY_TRY</th>\n",
              "      <th>CURRENCY_USD</th>\n",
              "      <th>CURRENCY_XRP</th>\n",
              "      <th>CURRENCY_ZAR</th>\n",
              "    </tr>\n",
              "  </thead>\n",
              "  <tbody>\n",
              "    <tr>\n",
              "      <td>0</td>\n",
              "      <td>b3332e6f-7865-4d6e-b6a5-370bc75568d8</td>\n",
              "      <td>8f99c254-7cf2-4e35-b7e4-53804d42445d</td>\n",
              "      <td>2017-12-20 12:46:20.294</td>\n",
              "      <td>1.75</td>\n",
              "      <td>1</td>\n",
              "      <td>0</td>\n",
              "      <td>0</td>\n",
              "      <td>55</td>\n",
              "      <td>83</td>\n",
              "      <td>1</td>\n",
              "      <td>...</td>\n",
              "      <td>0</td>\n",
              "      <td>0</td>\n",
              "      <td>0</td>\n",
              "      <td>0</td>\n",
              "      <td>0</td>\n",
              "      <td>0</td>\n",
              "      <td>0</td>\n",
              "      <td>0</td>\n",
              "      <td>0</td>\n",
              "      <td>0</td>\n",
              "    </tr>\n",
              "    <tr>\n",
              "      <td>1</td>\n",
              "      <td>bf0e3adf-a932-4e3d-be9c-45d702febf03</td>\n",
              "      <td>8f99c254-7cf2-4e35-b7e4-53804d42445d</td>\n",
              "      <td>2017-12-19 12:40:55.325</td>\n",
              "      <td>1.75</td>\n",
              "      <td>1</td>\n",
              "      <td>0</td>\n",
              "      <td>0</td>\n",
              "      <td>55</td>\n",
              "      <td>82</td>\n",
              "      <td>1</td>\n",
              "      <td>...</td>\n",
              "      <td>0</td>\n",
              "      <td>0</td>\n",
              "      <td>0</td>\n",
              "      <td>0</td>\n",
              "      <td>0</td>\n",
              "      <td>0</td>\n",
              "      <td>0</td>\n",
              "      <td>0</td>\n",
              "      <td>0</td>\n",
              "      <td>0</td>\n",
              "    </tr>\n",
              "    <tr>\n",
              "      <td>2</td>\n",
              "      <td>f5e63142-4577-482a-884e-b5b8b8526872</td>\n",
              "      <td>8f99c254-7cf2-4e35-b7e4-53804d42445d</td>\n",
              "      <td>2017-12-19 12:45:05.706</td>\n",
              "      <td>2.20</td>\n",
              "      <td>1</td>\n",
              "      <td>0</td>\n",
              "      <td>0</td>\n",
              "      <td>55</td>\n",
              "      <td>82</td>\n",
              "      <td>1</td>\n",
              "      <td>...</td>\n",
              "      <td>0</td>\n",
              "      <td>0</td>\n",
              "      <td>0</td>\n",
              "      <td>0</td>\n",
              "      <td>0</td>\n",
              "      <td>0</td>\n",
              "      <td>0</td>\n",
              "      <td>0</td>\n",
              "      <td>0</td>\n",
              "      <td>0</td>\n",
              "    </tr>\n",
              "    <tr>\n",
              "      <td>3</td>\n",
              "      <td>839a3fbd-ea6c-4867-ae00-9048d636c261</td>\n",
              "      <td>8f99c254-7cf2-4e35-b7e4-53804d42445d</td>\n",
              "      <td>2017-12-21 07:42:25.629</td>\n",
              "      <td>2.10</td>\n",
              "      <td>1</td>\n",
              "      <td>0</td>\n",
              "      <td>0</td>\n",
              "      <td>55</td>\n",
              "      <td>83</td>\n",
              "      <td>1</td>\n",
              "      <td>...</td>\n",
              "      <td>0</td>\n",
              "      <td>0</td>\n",
              "      <td>0</td>\n",
              "      <td>0</td>\n",
              "      <td>0</td>\n",
              "      <td>0</td>\n",
              "      <td>0</td>\n",
              "      <td>0</td>\n",
              "      <td>0</td>\n",
              "      <td>0</td>\n",
              "    </tr>\n",
              "    <tr>\n",
              "      <td>4</td>\n",
              "      <td>12974850-86c9-44e8-ac27-af0fca755dbf</td>\n",
              "      <td>8f99c254-7cf2-4e35-b7e4-53804d42445d</td>\n",
              "      <td>2017-12-21 08:36:56.132</td>\n",
              "      <td>4.85</td>\n",
              "      <td>1</td>\n",
              "      <td>0</td>\n",
              "      <td>0</td>\n",
              "      <td>55</td>\n",
              "      <td>83</td>\n",
              "      <td>1</td>\n",
              "      <td>...</td>\n",
              "      <td>0</td>\n",
              "      <td>0</td>\n",
              "      <td>0</td>\n",
              "      <td>0</td>\n",
              "      <td>0</td>\n",
              "      <td>0</td>\n",
              "      <td>0</td>\n",
              "      <td>0</td>\n",
              "      <td>0</td>\n",
              "      <td>0</td>\n",
              "    </tr>\n",
              "  </tbody>\n",
              "</table>\n",
              "<p>5 rows × 200 columns</p>\n",
              "</div>"
            ],
            "text/plain": [
              "                                 TRN_ID                               USER_ID  \\\n",
              "0  b3332e6f-7865-4d6e-b6a5-370bc75568d8  8f99c254-7cf2-4e35-b7e4-53804d42445d   \n",
              "1  bf0e3adf-a932-4e3d-be9c-45d702febf03  8f99c254-7cf2-4e35-b7e4-53804d42445d   \n",
              "2  f5e63142-4577-482a-884e-b5b8b8526872  8f99c254-7cf2-4e35-b7e4-53804d42445d   \n",
              "3  839a3fbd-ea6c-4867-ae00-9048d636c261  8f99c254-7cf2-4e35-b7e4-53804d42445d   \n",
              "4  12974850-86c9-44e8-ac27-af0fca755dbf  8f99c254-7cf2-4e35-b7e4-53804d42445d   \n",
              "\n",
              "            CREATED_DATE_x  AMOUNT  HAS_EMAIL  IS_FRAUDSTER  \\\n",
              "0  2017-12-20 12:46:20.294    1.75          1             0   \n",
              "1  2017-12-19 12:40:55.325    1.75          1             0   \n",
              "2  2017-12-19 12:45:05.706    2.20          1             0   \n",
              "3  2017-12-21 07:42:25.629    2.10          1             0   \n",
              "4  2017-12-21 08:36:56.132    4.85          1             0   \n",
              "\n",
              "   FAILED_SIGN_IN_ATTEMPTS  AGE  PROFILE_AGE  HOMELAND  ...  CURRENCY_PLN  \\\n",
              "0                        0   55           83         1  ...             0   \n",
              "1                        0   55           82         1  ...             0   \n",
              "2                        0   55           82         1  ...             0   \n",
              "3                        0   55           83         1  ...             0   \n",
              "4                        0   55           83         1  ...             0   \n",
              "\n",
              "   CURRENCY_QAR  CURRENCY_RON  CURRENCY_SEK  CURRENCY_SGD  CURRENCY_THB  \\\n",
              "0             0             0             0             0             0   \n",
              "1             0             0             0             0             0   \n",
              "2             0             0             0             0             0   \n",
              "3             0             0             0             0             0   \n",
              "4             0             0             0             0             0   \n",
              "\n",
              "   CURRENCY_TRY  CURRENCY_USD  CURRENCY_XRP  CURRENCY_ZAR  \n",
              "0             0             0             0             0  \n",
              "1             0             0             0             0  \n",
              "2             0             0             0             0  \n",
              "3             0             0             0             0  \n",
              "4             0             0             0             0  \n",
              "\n",
              "[5 rows x 200 columns]"
            ]
          },
          "metadata": {
            "tags": []
          },
          "execution_count": 67
        }
      ]
    },
    {
      "cell_type": "code",
      "metadata": {
        "id": "i1yBv9AkqnZv",
        "outputId": "90920eb7-c317-4b0a-ad2a-12760c4d8bb2"
      },
      "source": [
        "# разделить набор данных на функции и прогнозируемые значения\n",
        "X, y = df, df[parameters.target_feature]\n",
        "print(list(X.columns))"
      ],
      "execution_count": null,
      "outputs": [
        {
          "output_type": "stream",
          "text": [
            "['TRN_ID', 'USER_ID', 'CREATED_DATE_x', 'AMOUNT', 'HAS_EMAIL', 'IS_FRAUDSTER', 'FAILED_SIGN_IN_ATTEMPTS', 'AGE', 'PROFILE_AGE', 'HOMELAND', 'HOMELAND_PHONE', 'DAY_OF_TRANSACTION', 'HOUR_OF_TRANSACTION', 'IS_CRYPTO', 'ENTRY_METHOD_chip', 'ENTRY_METHOD_cont', 'ENTRY_METHOD_mags', 'ENTRY_METHOD_manu', 'ENTRY_METHOD_mcon', 'ENTRY_METHOD_misc', 'TYPE_ATM', 'TYPE_BANK_TRANSFER', 'TYPE_CARD_PAYMENT', 'TYPE_P2P', 'TYPE_TOPUP', 'SOURCE_APOLLO', 'SOURCE_BRIZO', 'SOURCE_CRONUS', 'SOURCE_GAIA', 'SOURCE_HERA', 'SOURCE_INTERNAL', 'SOURCE_LETO', 'SOURCE_LIMOS', 'SOURCE_MINOS', 'SOURCE_NYX', 'SOURCE_OPHION', 'STATE_CANCELLED', 'STATE_COMPLETED', 'STATE_DECLINED', 'STATE_FAILED', 'STATE_PENDING', 'STATE_RECORDED', 'STATE_REVERTED', 'MERCHANT_CATEGORY_Undefined', 'MERCHANT_CATEGORY_accounting', 'MERCHANT_CATEGORY_administrative_area_level_1', 'MERCHANT_CATEGORY_administrative_area_level_2', 'MERCHANT_CATEGORY_administrative_area_level_3', 'MERCHANT_CATEGORY_administrative_area_level_4', 'MERCHANT_CATEGORY_airport', 'MERCHANT_CATEGORY_amusement_park', 'MERCHANT_CATEGORY_aquarium', 'MERCHANT_CATEGORY_archipelago', 'MERCHANT_CATEGORY_art_gallery', 'MERCHANT_CATEGORY_atm', 'MERCHANT_CATEGORY_bakery', 'MERCHANT_CATEGORY_bank', 'MERCHANT_CATEGORY_bar', 'MERCHANT_CATEGORY_beauty_salon', 'MERCHANT_CATEGORY_bicycle_store', 'MERCHANT_CATEGORY_book_store', 'MERCHANT_CATEGORY_bowling_alley', 'MERCHANT_CATEGORY_bus_station', 'MERCHANT_CATEGORY_cafe', 'MERCHANT_CATEGORY_campground', 'MERCHANT_CATEGORY_car_dealer', 'MERCHANT_CATEGORY_car_rental', 'MERCHANT_CATEGORY_car_repair', 'MERCHANT_CATEGORY_car_wash', 'MERCHANT_CATEGORY_casino', 'MERCHANT_CATEGORY_cemetery', 'MERCHANT_CATEGORY_church', 'MERCHANT_CATEGORY_city_hall', 'MERCHANT_CATEGORY_clothing_store', 'MERCHANT_CATEGORY_colloquial_area', 'MERCHANT_CATEGORY_convenience_store', 'MERCHANT_CATEGORY_courthouse', 'MERCHANT_CATEGORY_dentist', 'MERCHANT_CATEGORY_department_store', 'MERCHANT_CATEGORY_doctor', 'MERCHANT_CATEGORY_electrician', 'MERCHANT_CATEGORY_electronics_store', 'MERCHANT_CATEGORY_embassy', 'MERCHANT_CATEGORY_finance', 'MERCHANT_CATEGORY_fire_station', 'MERCHANT_CATEGORY_florist', 'MERCHANT_CATEGORY_food', 'MERCHANT_CATEGORY_funeral_home', 'MERCHANT_CATEGORY_furniture_store', 'MERCHANT_CATEGORY_gas_station', 'MERCHANT_CATEGORY_general_contractor', 'MERCHANT_CATEGORY_grocery_or_supermarket', 'MERCHANT_CATEGORY_gym', 'MERCHANT_CATEGORY_hair_care', 'MERCHANT_CATEGORY_hardware_store', 'MERCHANT_CATEGORY_health', 'MERCHANT_CATEGORY_hindu_temple', 'MERCHANT_CATEGORY_home_goods_store', 'MERCHANT_CATEGORY_hospital', 'MERCHANT_CATEGORY_insurance_agency', 'MERCHANT_CATEGORY_intersection', 'MERCHANT_CATEGORY_jewelry_store', 'MERCHANT_CATEGORY_laundry', 'MERCHANT_CATEGORY_lawyer', 'MERCHANT_CATEGORY_library', 'MERCHANT_CATEGORY_light_rail_station', 'MERCHANT_CATEGORY_liquor_store', 'MERCHANT_CATEGORY_local_government_office', 'MERCHANT_CATEGORY_locality', 'MERCHANT_CATEGORY_locksmith', 'MERCHANT_CATEGORY_lodging', 'MERCHANT_CATEGORY_meal_delivery', 'MERCHANT_CATEGORY_meal_takeaway', 'MERCHANT_CATEGORY_movie_rental', 'MERCHANT_CATEGORY_movie_theater', 'MERCHANT_CATEGORY_moving_company', 'MERCHANT_CATEGORY_museum', 'MERCHANT_CATEGORY_natural_feature', 'MERCHANT_CATEGORY_neighborhood', 'MERCHANT_CATEGORY_night_club', 'MERCHANT_CATEGORY_painter', 'MERCHANT_CATEGORY_park', 'MERCHANT_CATEGORY_parking', 'MERCHANT_CATEGORY_pet_store', 'MERCHANT_CATEGORY_pharmacy', 'MERCHANT_CATEGORY_physiotherapist', 'MERCHANT_CATEGORY_place_of_worship', 'MERCHANT_CATEGORY_plumber', 'MERCHANT_CATEGORY_point_of_interest', 'MERCHANT_CATEGORY_police', 'MERCHANT_CATEGORY_political', 'MERCHANT_CATEGORY_post_office', 'MERCHANT_CATEGORY_premise', 'MERCHANT_CATEGORY_real_estate_agency', 'MERCHANT_CATEGORY_restaurant', 'MERCHANT_CATEGORY_roofing_contractor', 'MERCHANT_CATEGORY_route', 'MERCHANT_CATEGORY_rv_park', 'MERCHANT_CATEGORY_school', 'MERCHANT_CATEGORY_shoe_store', 'MERCHANT_CATEGORY_shopping_mall', 'MERCHANT_CATEGORY_spa', 'MERCHANT_CATEGORY_stadium', 'MERCHANT_CATEGORY_storage', 'MERCHANT_CATEGORY_store', 'MERCHANT_CATEGORY_street_address', 'MERCHANT_CATEGORY_sublocality_level_1', 'MERCHANT_CATEGORY_sublocality_level_2', 'MERCHANT_CATEGORY_sublocality_level_3', 'MERCHANT_CATEGORY_subpremise', 'MERCHANT_CATEGORY_subway_station', 'MERCHANT_CATEGORY_supermarket', 'MERCHANT_CATEGORY_taxi_stand', 'MERCHANT_CATEGORY_train_station', 'MERCHANT_CATEGORY_transit_station', 'MERCHANT_CATEGORY_travel_agency', 'MERCHANT_CATEGORY_university', 'MERCHANT_CATEGORY_veterinary_care', 'MERCHANT_CATEGORY_zoo', 'TERMS_VERSION_2017-01-16', 'TERMS_VERSION_2017-02-02', 'TERMS_VERSION_2018-01-01', 'TERMS_VERSION_2018-01-13', 'TERMS_VERSION_2018-03-20', 'TERMS_VERSION_2018-05-25', 'TERMS_VERSION_2018-09-20', 'TERMS_VERSION_Undefined', 'KYC_FAILED', 'KYC_NONE', 'KYC_PASSED', 'KYC_PENDING', 'CURRENCY_AED', 'CURRENCY_AUD', 'CURRENCY_BTC', 'CURRENCY_CAD', 'CURRENCY_CHF', 'CURRENCY_CZK', 'CURRENCY_DKK', 'CURRENCY_ETH', 'CURRENCY_EUR', 'CURRENCY_GBP', 'CURRENCY_HKD', 'CURRENCY_HUF', 'CURRENCY_ILS', 'CURRENCY_INR', 'CURRENCY_JPY', 'CURRENCY_LTC', 'CURRENCY_MAD', 'CURRENCY_NOK', 'CURRENCY_NZD', 'CURRENCY_PLN', 'CURRENCY_QAR', 'CURRENCY_RON', 'CURRENCY_SEK', 'CURRENCY_SGD', 'CURRENCY_THB', 'CURRENCY_TRY', 'CURRENCY_USD', 'CURRENCY_XRP', 'CURRENCY_ZAR']\n"
          ],
          "name": "stdout"
        }
      ]
    },
    {
      "cell_type": "markdown",
      "metadata": {
        "id": "93ZjCSruqnZv"
      },
      "source": [
        "#### **Классы очень несбалансированые**"
      ]
    },
    {
      "cell_type": "code",
      "metadata": {
        "id": "92bn4pbWqnZw",
        "outputId": "fe7abd28-62b9-4df6-eee8-b4dfce3d67dc"
      },
      "source": [
        "df['IS_FRAUDSTER'].value_counts()"
      ],
      "execution_count": null,
      "outputs": [
        {
          "output_type": "execute_result",
          "data": {
            "text/plain": [
              "0    624720\n",
              "1     13914\n",
              "Name: IS_FRAUDSTER, dtype: int64"
            ]
          },
          "metadata": {
            "tags": []
          },
          "execution_count": 69
        }
      ]
    },
    {
      "cell_type": "code",
      "metadata": {
        "id": "axPhhL99qnZw",
        "outputId": "e24b4f8a-74d4-4cd3-ce3b-b0440411b914"
      },
      "source": [
        "sns.barplot(x=df['IS_FRAUDSTER'].value_counts().index, y=df['IS_FRAUDSTER'].value_counts())\n",
        "plt.title('Transactions count FRAUDSTERS vs Non-FRAUDSTERS')\n",
        "plt.ylabel('Transactions count')\n",
        "plt.xlabel('0 = Non-FRAUDSTERS              1 = FRAUDSTERS');"
      ],
      "execution_count": null,
      "outputs": [
        {
          "output_type": "display_data",
          "data": {
            "image/png": "[encoded data removed]",
            "text/plain": [
              "<Figure size 432x288 with 1 Axes>"
            ]
          },
          "metadata": {
            "tags": [],
            "needs_background": "light"
          }
        }
      ]
    },
    {
      "cell_type": "markdown",
      "metadata": {
        "id": "_gTar5pkqnZw"
      },
      "source": [
        "#### **Давайте разделим набор данных по времени для обучения и тестирования набора данных перед изменением весов классов**"
      ]
    },
    {
      "cell_type": "code",
      "metadata": {
        "id": "-3KjCW3FqnZw"
      },
      "source": [
        "def split_dataset(X, y, days=parameters.days_from_max_to_split, random_state=parameters.random_state):\n",
        "    # Разделим набор данных для обучения и тесторования по min/max date и test_size\n",
        "    X['CREATED_DATE_x'] = X['CREATED_DATE_x'].apply(lambda x: datetime.strptime(x, '%Y-%m-%d %H:%M:%S.%f').date())\n",
        "    max_date = max(X['CREATED_DATE_x'])\n",
        "    date_test = max_date - timedelta(days = days)\n",
        "    test_indexes = np.array([t > date_test for t in X['CREATED_DATE_x']])\n",
        "    X.drop('CREATED_DATE_x', axis=1, inplace=True)\n",
        "    X_train, y_train, X_test, y_test = X[~test_indexes], y[~test_indexes], X[test_indexes], y[test_indexes]\n",
        "    return X_train, X_test, y_train, y_test\n",
        "   \n",
        "X_train, X_test_over, y_train, y_test_over = split_dataset(X, y, days=parameters.days_from_max_to_split, random_state=parameters.random_state)"
      ],
      "execution_count": null,
      "outputs": []
    },
    {
      "cell_type": "code",
      "metadata": {
        "id": "3g5sUvwBqnZw",
        "outputId": "50620511-ca44-4ecd-9f71-91670e8d4753"
      },
      "source": [
        "print(X_train.shape, X_test_over.shape, len(y_train), len(y_test_over))"
      ],
      "execution_count": null,
      "outputs": [
        {
          "output_type": "stream",
          "text": [
            "(448752, 199) (189882, 199) 448752 189882\n"
          ],
          "name": "stdout"
        }
      ]
    },
    {
      "cell_type": "code",
      "metadata": {
        "id": "2muHDjZkqnZx",
        "outputId": "4a77405c-96ee-4c6c-a4dc-d71103c2354b"
      },
      "source": [
        "sns.barplot(x=['Train','Test'], y=[X_train.shape[0]/(X_train.shape[0]+X_test_over.shape[0]),X_test_over.shape[0]/(X_train.shape[0]+X_test_over.shape[0])])\n",
        "plt.title(\"Train vs Test\")\n",
        "plt.ylabel('Rows');"
      ],
      "execution_count": null,
      "outputs": [
        {
          "output_type": "display_data",
          "data": {
            "image/png": "[encoded data removed]",
            "text/plain": [
              "<Figure size 432x288 with 1 Axes>"
            ]
          },
          "metadata": {
            "tags": [],
            "needs_background": "light"
          }
        }
      ]
    },
    {
      "cell_type": "code",
      "metadata": {
        "id": "TJEMyCFSqnZx",
        "outputId": "0c0aff14-3284-4c8d-ff0d-c08948945f6d"
      },
      "source": [
        "len_train_1 = len(X_train[X_train['IS_FRAUDSTER']==1]['USER_ID'].unique())\n",
        "len_train_0 = len(X_train[X_train['IS_FRAUDSTER']==0]['USER_ID'].unique())\n",
        "print(f'There are {len_train_1} fraudsters and {len_train_0} non-fraudsters in TRAIN dataset and proportion is: {len_train_1/(len_train_1+len_train_0)}')"
      ],
      "execution_count": null,
      "outputs": [
        {
          "output_type": "stream",
          "text": [
            "There are 267 fraudsters and 5873 non-fraudsters in TRAIN dataset and proportion is: 0.043485342019543974\n"
          ],
          "name": "stdout"
        }
      ]
    },
    {
      "cell_type": "code",
      "metadata": {
        "id": "JqI3p8vGqnZx",
        "outputId": "5cfb50f4-3585-47a0-eee1-f14611937449"
      },
      "source": [
        "len_test_1 = len(X_test_over[X_test_over['IS_FRAUDSTER']==1]['USER_ID'].unique())\n",
        "len_test_0 = len(X_test_over[X_test_over['IS_FRAUDSTER']==0]['USER_ID'].unique())\n",
        "print(f'There are {len_test_1} fraudsters and {len_test_0} non-fraudsters in TEST dataset and proportion is: {len_test_1/(len_test_1+len_test_0)}')"
      ],
      "execution_count": null,
      "outputs": [
        {
          "output_type": "stream",
          "text": [
            "There are 95 fraudsters and 5153 non-fraudsters in TEST dataset and proportion is: 0.018102134146341462\n"
          ],
          "name": "stdout"
        }
      ]
    },
    {
      "cell_type": "code",
      "metadata": {
        "id": "FoJPKTMBqnZx",
        "outputId": "0f7650ac-e3f0-4b7f-915a-c0fbff19381e"
      },
      "source": [
        "sns.barplot(x=['Non-FRAUDSTERS','FRAUDSTERS'], y=[len_train_0/(len_train_0+len_train_1),len_train_1/(len_train_0+len_train_1)])\n",
        "plt.title(\"User' counts FRAUDSTERS vs Non-FRAUDSTERS in TRAIN\")\n",
        "plt.ylabel('Users');"
      ],
      "execution_count": null,
      "outputs": [
        {
          "output_type": "display_data",
          "data": {
            "image/png": "[encoded data removed]",
            "text/plain": [
              "<Figure size 432x288 with 1 Axes>"
            ]
          },
          "metadata": {
            "tags": [],
            "needs_background": "light"
          }
        }
      ]
    },
    {
      "cell_type": "code",
      "metadata": {
        "id": "1_4pJOf7qnZx",
        "outputId": "31b6b1b9-3af4-42bd-b319-bdb9f88afbbf"
      },
      "source": [
        "sns.barplot(x=['Non-FRAUDSTERS','FRAUDSTERS'], y=[len_test_0/(len_test_0+len_test_1),len_test_1/(len_test_0+len_test_1)])\n",
        "plt.title(\"User' counts FRAUDSTERS vs Non-FRAUDSTERS in TEST\")\n",
        "plt.ylabel('Users');"
      ],
      "execution_count": null,
      "outputs": [
        {
          "output_type": "display_data",
          "data": {
            "image/png": "[encoded data removed]",
            "text/plain": [
              "<Figure size 432x288 with 1 Axes>"
            ]
          },
          "metadata": {
            "tags": [],
            "needs_background": "light"
          }
        }
      ]
    },
    {
      "cell_type": "code",
      "metadata": {
        "id": "kybStNYlqnZy",
        "outputId": "5f344a1c-e0a2-47a6-f6e2-496f79bf574f"
      },
      "source": [
        "len(X_train[X_train['IS_FRAUDSTER']==1]['TRN_ID'].unique()), len(X_train[X_train['IS_FRAUDSTER']==0]['TRN_ID'].unique())"
      ],
      "execution_count": null,
      "outputs": [
        {
          "output_type": "execute_result",
          "data": {
            "text/plain": [
              "(11408, 437344)"
            ]
          },
          "metadata": {
            "tags": []
          },
          "execution_count": 78
        }
      ]
    },
    {
      "cell_type": "code",
      "metadata": {
        "id": "nErqYNl3qnZy",
        "outputId": "32770f3b-e356-47ad-c5bf-f5d32c27d44a"
      },
      "source": [
        "y_train.value_counts()"
      ],
      "execution_count": null,
      "outputs": [
        {
          "output_type": "execute_result",
          "data": {
            "text/plain": [
              "0    437344\n",
              "1     11408\n",
              "Name: IS_FRAUDSTER, dtype: int64"
            ]
          },
          "metadata": {
            "tags": []
          },
          "execution_count": 79
        }
      ]
    },
    {
      "cell_type": "code",
      "metadata": {
        "id": "0GyHSXaBqnZy",
        "outputId": "88019ab6-4c13-4273-a236-f47db3b7337f"
      },
      "source": [
        "y_test_over.value_counts()"
      ],
      "execution_count": null,
      "outputs": [
        {
          "output_type": "execute_result",
          "data": {
            "text/plain": [
              "0    187376\n",
              "1      2506\n",
              "Name: IS_FRAUDSTER, dtype: int64"
            ]
          },
          "metadata": {
            "tags": []
          },
          "execution_count": 80
        }
      ]
    },
    {
      "cell_type": "code",
      "metadata": {
        "id": "zSKT19A8qnZy"
      },
      "source": [
        "X_train, X_test_over = X_train.drop(parameters.id_features + [parameters.target_feature], axis=1), X_test_over.drop(parameters.id_features + [parameters.target_feature], axis=1)"
      ],
      "execution_count": null,
      "outputs": []
    },
    {
      "cell_type": "code",
      "metadata": {
        "id": "tC10ib8jqnZy",
        "outputId": "45ee689d-f829-4ec3-a7fe-d2a39dcfe88e"
      },
      "source": [
        "X_train.columns"
      ],
      "execution_count": null,
      "outputs": [
        {
          "output_type": "execute_result",
          "data": {
            "text/plain": [
              "Index(['AMOUNT', 'HAS_EMAIL', 'FAILED_SIGN_IN_ATTEMPTS', 'AGE', 'PROFILE_AGE',\n",
              "       'HOMELAND', 'HOMELAND_PHONE', 'DAY_OF_TRANSACTION',\n",
              "       'HOUR_OF_TRANSACTION', 'IS_CRYPTO',\n",
              "       ...\n",
              "       'CURRENCY_PLN', 'CURRENCY_QAR', 'CURRENCY_RON', 'CURRENCY_SEK',\n",
              "       'CURRENCY_SGD', 'CURRENCY_THB', 'CURRENCY_TRY', 'CURRENCY_USD',\n",
              "       'CURRENCY_XRP', 'CURRENCY_ZAR'],\n",
              "      dtype='object', length=196)"
            ]
          },
          "metadata": {
            "tags": []
          },
          "execution_count": 82
        }
      ]
    },
    {
      "cell_type": "markdown",
      "metadata": {
        "id": "4qz5zrKVqnZz"
      },
      "source": [
        "### **Проверим работоспособность на несбалансированных классах**"
      ]
    },
    {
      "cell_type": "markdown",
      "metadata": {
        "id": "3pyi12d9qnZz"
      },
      "source": [
        "### **Логическая регрессия**"
      ]
    },
    {
      "cell_type": "code",
      "metadata": {
        "id": "-rldCEOxqnZz",
        "outputId": "3b1c6ebc-bfd0-466b-c326-ae2fc2e0aec4"
      },
      "source": [
        "lm = LogisticRegression().fit(X_train,y_train)\n",
        "y_train_predict = lm.predict(X_train)\n",
        "roc_auc_train = roc_auc_score(y_train, y_train_predict)\n",
        "print(f\"ROC_AUC on train: {roc_auc_train}\")\n",
        "\n",
        "y_test_predict = lm.predict(X_test_over)\n",
        "\n",
        "print(f\"Test ROC_AUC    : {roc_auc_score(y_test_over, y_test_predict):.5f}\")\n",
        "print(f'Test Accuracy   : {accuracy_score(y_test_over, y_test_predict)}')\n",
        "print(f'Test F1-score   : {f1_score(y_test_over, y_test_predict, average=\"macro\")}')\n",
        "print(f'Test Precision  : {precision_score(y_test_over, y_test_predict, average=\"macro\")}')\n",
        "print(f'Test Recall     : {recall_score(y_test_over, y_test_predict, average=\"macro\")}')"
      ],
      "execution_count": null,
      "outputs": [
        {
          "output_type": "stream",
          "text": [
            "ROC_AUC on train: 0.6969702203283243\n",
            "Test ROC_AUC    : 0.55351\n",
            "Test Accuracy   : 0.9875185641608999\n",
            "Test F1-score   : 0.5896390513343268\n",
            "Test Precision  : 0.8282579946845106\n",
            "Test Recall     : 0.5535131404891261\n"
          ],
          "name": "stdout"
        }
      ]
    },
    {
      "cell_type": "markdown",
      "metadata": {
        "id": "G-RPqQm8qnZz"
      },
      "source": [
        "### **Классы балансировки в наборе данных**"
      ]
    },
    {
      "cell_type": "code",
      "metadata": {
        "id": "qzolxjAMqnZ0"
      },
      "source": [
        "# Используем образец из основного класса с количеством наблюдений во второстепенном классе \n",
        "classes_count = y_train.value_counts()\n",
        "min_class_count = classes_count.min()\n",
        "\n",
        "X_train_over = []\n",
        "y_train_over = []\n",
        "\n",
        "for cls in zip(classes_count,classes_count.index):\n",
        "    if cls[0] == min_class_count:\n",
        "        X_minor_class = X_train[y_train==cls[1]]\n",
        "        y_minor_class = y_train[y_train==cls[1]]\n",
        "    else:\n",
        "        X_major_class = X_train[y_train==cls[1]].sample(min_class_count).reset_index(drop=True)\n",
        "        y_major_class = y_train[y_train==cls[1]].sample(min_class_count).reset_index(drop=True)\n",
        "\n",
        "del X,y\n",
        "X_train_over = pd.concat([X_minor_class,X_major_class])\n",
        "y_train_over = pd.concat([y_minor_class,y_major_class])\n",
        "df = pd.concat([X_train_over, y_train_over], axis=1)"
      ],
      "execution_count": null,
      "outputs": []
    },
    {
      "cell_type": "code",
      "metadata": {
        "id": "Ti9thGP2qnZ0"
      },
      "source": [
        "df.to_csv(parameters.balanced_dataset_file_name, index=False)"
      ],
      "execution_count": null,
      "outputs": []
    },
    {
      "cell_type": "code",
      "metadata": {
        "id": "tWJv-hf0qnZ0",
        "outputId": "819c0d16-b314-4952-e95f-54d47a21ee21"
      },
      "source": [
        "df['IS_FRAUDSTER'].value_counts()"
      ],
      "execution_count": null,
      "outputs": [
        {
          "output_type": "execute_result",
          "data": {
            "text/plain": [
              "1    11408\n",
              "0    11408\n",
              "Name: IS_FRAUDSTER, dtype: int64"
            ]
          },
          "metadata": {
            "tags": []
          },
          "execution_count": 86
        }
      ]
    },
    {
      "cell_type": "code",
      "metadata": {
        "id": "_BWaDhilqnZ0",
        "outputId": "8af26850-aff6-4134-f151-259858da8088"
      },
      "source": [
        "sns.barplot(x=df['IS_FRAUDSTER'].value_counts().index, y=df['IS_FRAUDSTER'].value_counts())\n",
        "plt.title('Balanced transactions count FRAUDSTERS vs Non-FRAUDSTERS in TRAIN')\n",
        "plt.ylabel('Transactions count')\n",
        "plt.xlabel('0 = Non-FRAUDSTERS              1 = FRAUDSTERS');"
      ],
      "execution_count": null,
      "outputs": [
        {
          "output_type": "display_data",
          "data": {
            "image/png": "[encoded data removed]",
            "text/plain": [
              "<Figure size 432x288 with 1 Axes>"
            ]
          },
          "metadata": {
            "tags": [],
            "needs_background": "light"
          }
        }
      ]
    },
    {
      "cell_type": "markdown",
      "metadata": {
        "id": "67YVfe9VqnZ0"
      },
      "source": [
        "### **Проведем статические тесты на сбалансированных классах с очевидными функциями**"
      ]
    },
    {
      "cell_type": "markdown",
      "metadata": {
        "id": "lIm1_U47qnZ0"
      },
      "source": [
        "#### **Проверим средние значения между группами FRAUDSTERS и NON_FRAUDSTERS**"
      ]
    },
    {
      "cell_type": "code",
      "metadata": {
        "id": "Raf8tPFqqnZ1",
        "outputId": "8a5108de-13e7-4afc-c019-12aa88891c13"
      },
      "source": [
        "# Применим масштабирование для нормализации набора данных\n",
        "min_max_scaler = preprocessing.MinMaxScaler(feature_range=(-1,1))\n",
        "#cols = ['AGE','PROFILE_AGE','AMOUNT','STANDART_PERIOD_HOUR']\n",
        "cols = ['AGE','PROFILE_AGE','AMOUNT','DAY_OF_TRANSACTION','HOUR_OF_TRANSACTION']\n",
        "np_scaled = min_max_scaler.fit_transform(X_train_over[cols])\n",
        "df_norm = pd.DataFrame(np_scaled, columns=cols)\n",
        "df_norm = pd.concat([df_norm.reset_index(drop=True),y_train_over.reset_index(drop=True)], axis=1)\n",
        "df_norm.head()"
      ],
      "execution_count": null,
      "outputs": [
        {
          "output_type": "execute_result",
          "data": {
            "text/html": [
              "<div>\n",
              "<style scoped>\n",
              "    .dataframe tbody tr th:only-of-type {\n",
              "        vertical-align: middle;\n",
              "    }\n",
              "\n",
              "    .dataframe tbody tr th {\n",
              "        vertical-align: top;\n",
              "    }\n",
              "\n",
              "    .dataframe thead th {\n",
              "        text-align: right;\n",
              "    }\n",
              "</style>\n",
              "<table border=\"1\" class=\"dataframe\">\n",
              "  <thead>\n",
              "    <tr style=\"text-align: right;\">\n",
              "      <th></th>\n",
              "      <th>AGE</th>\n",
              "      <th>PROFILE_AGE</th>\n",
              "      <th>AMOUNT</th>\n",
              "      <th>DAY_OF_TRANSACTION</th>\n",
              "      <th>HOUR_OF_TRANSACTION</th>\n",
              "      <th>IS_FRAUDSTER</th>\n",
              "    </tr>\n",
              "  </thead>\n",
              "  <tbody>\n",
              "    <tr>\n",
              "      <td>0</td>\n",
              "      <td>-0.459459</td>\n",
              "      <td>-0.944509</td>\n",
              "      <td>-0.998000</td>\n",
              "      <td>0.000000</td>\n",
              "      <td>0.304348</td>\n",
              "      <td>1</td>\n",
              "    </tr>\n",
              "    <tr>\n",
              "      <td>1</td>\n",
              "      <td>-0.459459</td>\n",
              "      <td>-0.944509</td>\n",
              "      <td>-0.999981</td>\n",
              "      <td>0.000000</td>\n",
              "      <td>0.391304</td>\n",
              "      <td>1</td>\n",
              "    </tr>\n",
              "    <tr>\n",
              "      <td>2</td>\n",
              "      <td>-0.459459</td>\n",
              "      <td>-0.946821</td>\n",
              "      <td>-0.993000</td>\n",
              "      <td>-0.333333</td>\n",
              "      <td>0.826087</td>\n",
              "      <td>1</td>\n",
              "    </tr>\n",
              "    <tr>\n",
              "      <td>3</td>\n",
              "      <td>-0.459459</td>\n",
              "      <td>-0.942197</td>\n",
              "      <td>-0.999800</td>\n",
              "      <td>0.333333</td>\n",
              "      <td>0.130435</td>\n",
              "      <td>1</td>\n",
              "    </tr>\n",
              "    <tr>\n",
              "      <td>4</td>\n",
              "      <td>-0.459459</td>\n",
              "      <td>-0.942197</td>\n",
              "      <td>-0.998000</td>\n",
              "      <td>0.333333</td>\n",
              "      <td>0.826087</td>\n",
              "      <td>1</td>\n",
              "    </tr>\n",
              "  </tbody>\n",
              "</table>\n",
              "</div>"
            ],
            "text/plain": [
              "        AGE  PROFILE_AGE    AMOUNT  DAY_OF_TRANSACTION  HOUR_OF_TRANSACTION  \\\n",
              "0 -0.459459    -0.944509 -0.998000            0.000000             0.304348   \n",
              "1 -0.459459    -0.944509 -0.999981            0.000000             0.391304   \n",
              "2 -0.459459    -0.946821 -0.993000           -0.333333             0.826087   \n",
              "3 -0.459459    -0.942197 -0.999800            0.333333             0.130435   \n",
              "4 -0.459459    -0.942197 -0.998000            0.333333             0.826087   \n",
              "\n",
              "   IS_FRAUDSTER  \n",
              "0             1  \n",
              "1             1  \n",
              "2             1  \n",
              "3             1  \n",
              "4             1  "
            ]
          },
          "metadata": {
            "tags": []
          },
          "execution_count": 88
        }
      ]
    },
    {
      "cell_type": "code",
      "metadata": {
        "id": "0WJvKoy9qnZ1"
      },
      "source": [
        "# Разделим набор данных на набор данных мошенников и набор без мошенников\n",
        "df_fraud = df_norm[df_norm['IS_FRAUDSTER'] == 1]\n",
        "df_nonfraud = df_norm[df_norm['IS_FRAUDSTER'] == 0]"
      ],
      "execution_count": null,
      "outputs": []
    },
    {
      "cell_type": "code",
      "metadata": {
        "id": "Z9hD4x3nqnZ1"
      },
      "source": [
        "def test_avg_diff(df1, df2, field_name, p_value_significance = .05):\n",
        "    print(f'Check that average {field_name} differ between datasets...')\n",
        "    p_val = sts.ttest_ind(df1[field_name], df2[field_name])[1]\n",
        "    if p_val < p_value_significance:\n",
        "        print(f'p-value ({p_val}) less than the level of significance ({p_value_significance}), \\\n",
        "which means that we can reject the null hypothesis about the same average, \\\n",
        "which means that the average {field_name} in datasets is different.')\n",
        "    else:\n",
        "        print(f'p-value ({p_val}) greater than the level of significance ({p_value_significance}), \\\n",
        "which means that we can''t reject the null hypothesis about the same average, \\\n",
        "which means that the average {field_name} in datasets is not different.')\n",
        "    print('*'*80)"
      ],
      "execution_count": null,
      "outputs": []
    },
    {
      "cell_type": "code",
      "metadata": {
        "id": "K46yDOHVqnZ1",
        "outputId": "12b9713b-a05b-4db7-ef73-3f88eb98b5fc"
      },
      "source": [
        "for c in cols:\n",
        "    test_avg_diff(df_fraud, df_nonfraud, c)"
      ],
      "execution_count": null,
      "outputs": [
        {
          "output_type": "stream",
          "text": [
            "Check that average AGE differ between datasets...\n",
            "p-value (5.5210213965886706e-123) less than the level of significance (0.05), which means that we can reject the null hypothesis about the same average, which means that the average AGE in datasets is different.\n",
            "********************************************************************************\n",
            "Check that average PROFILE_AGE differ between datasets...\n",
            "p-value (0.0) less than the level of significance (0.05), which means that we can reject the null hypothesis about the same average, which means that the average PROFILE_AGE in datasets is different.\n",
            "********************************************************************************\n",
            "Check that average AMOUNT differ between datasets...\n",
            "p-value (2.7314103968439252e-05) less than the level of significance (0.05), which means that we can reject the null hypothesis about the same average, which means that the average AMOUNT in datasets is different.\n",
            "********************************************************************************\n",
            "Check that average DAY_OF_TRANSACTION differ between datasets...\n",
            "p-value (0.7848045055404823) greater than the level of significance (0.05), which means that we cant reject the null hypothesis about the same average, which means that the average {field_name} in datasets is not different.\n",
            "********************************************************************************\n",
            "Check that average HOUR_OF_TRANSACTION differ between datasets...\n",
            "p-value (2.120503582338477e-30) less than the level of significance (0.05), which means that we can reject the null hypothesis about the same average, which means that the average HOUR_OF_TRANSACTION in datasets is different.\n",
            "********************************************************************************\n"
          ],
          "name": "stdout"
        }
      ]
    },
    {
      "cell_type": "code",
      "metadata": {
        "id": "vh-4_fcDqnZ1"
      },
      "source": [
        "g=sns.pairplot(data=df_norm,plot_kws={'alpha':0.2},hue='IS_FRAUDSTER');\n",
        "g.fig.set_size_inches(12,10)\n",
        "del df_norm"
      ],
      "execution_count": null,
      "outputs": []
    },
    {
      "cell_type": "markdown",
      "metadata": {
        "id": "YIVmy-ANqnZ2"
      },
      "source": [
        "### **Выбор / проверка модели**\n",
        "#### Давайте создадим модель машинного обучения, которая идентифицирует мошенников. "
      ]
    },
    {
      "cell_type": "markdown",
      "metadata": {
        "id": "k54BocsXqnZ2"
      },
      "source": [
        "Мы можем разделить задачу на две:\n",
        "\n",
        "* Решите бинарную классификацию: мошенник или нет\n",
        "* Используйте вероятности двоичного классификатора или решите задачу мультиклассовой классификации с классами: 'PASS', 'LOCK_USER', 'ALERT_AGENT', 'LOCK_USER + ALERT_AGENT'"
      ]
    },
    {
      "cell_type": "code",
      "metadata": {
        "id": "NeTJUcGxqnZ2"
      },
      "source": [
        "y_train_over.value_counts()"
      ],
      "execution_count": null,
      "outputs": []
    },
    {
      "cell_type": "code",
      "metadata": {
        "id": "g6JogcY5qnZ2"
      },
      "source": [
        "X_train_over.shape"
      ],
      "execution_count": null,
      "outputs": []
    },
    {
      "cell_type": "markdown",
      "metadata": {
        "id": "Y8pITEUxqnZ2"
      },
      "source": [
        "### **Базовая модель - логистическая регрессия**"
      ]
    },
    {
      "cell_type": "code",
      "metadata": {
        "id": "3757tIKzqnZ2"
      },
      "source": [
        "lm = LogisticRegression().fit(X_train_over,y_train_over)\n",
        "y_train_predict = lm.predict(X_train_over)\n",
        "roc_auc_train = roc_auc_score(y_train_over, y_train_predict)\n",
        "print(f\"ROC_AUC on train: {roc_auc_train}\")\n",
        "\n",
        "y_test_predict = lm.predict(X_test_over)\n",
        "\n",
        "print(f\"Test ROC_AUC    : {roc_auc_score(y_test_over, y_test_predict):.5f}\")\n",
        "print(f'Test Accuracy   : {accuracy_score(y_test_over, y_test_predict)}')\n",
        "print(f'Test F1-score   : {f1_score(y_test_over, y_test_predict, average=\"macro\")}')\n",
        "print(f'Test Precision  : {precision_score(y_test_over, y_test_predict, average=\"macro\")}')\n",
        "print(f'Test Recall     : {recall_score(y_test_over, y_test_predict, average=\"macro\")}')"
      ],
      "execution_count": null,
      "outputs": []
    },
    {
      "cell_type": "markdown",
      "metadata": {
        "id": "LF8wfvtKqnZ3"
      },
      "source": [
        "### **С базовой моделью мы можем увидеть улучшения, если у нас есть сбалансированные классы!**"
      ]
    },
    {
      "cell_type": "markdown",
      "metadata": {
        "id": "DiMkkzn8qnZ3"
      },
      "source": [
        "### **Random Forest**"
      ]
    },
    {
      "cell_type": "code",
      "metadata": {
        "id": "WJe07UmvqnZ3"
      },
      "source": [
        "# обучим с KFold\n",
        "rf = RandomForestClassifier(n_jobs=-1,random_state=parameters.random_state)\n",
        "print(rf)\n",
        "\n",
        "score_on_train = 0\n",
        "for trn_idx,tst_idx in KFold(n_splits=parameters.n_folds,random_state=parameters.random_state).split(X_train_over,y_train_over):\n",
        "    X_train_fold,y_train_fold = X_train_over.iloc[trn_idx],y_train_over.iloc[trn_idx]\n",
        "    X_test_fold,y_test_fold = X_train_over.iloc[tst_idx],y_train_over.iloc[tst_idx]\n",
        "    rf.fit(X_train_fold,y_train_fold)\n",
        "    score_on_train += rf.score(X_test_fold,y_test_fold)\n",
        "\n",
        "rf.fit(X_train_over,y_train_over)\n",
        "print(f'Score on train by {parameters.n_folds} folds : {score_on_train/parameters.n_folds}')\n",
        "print(f'Score on test : {rf.score(X_test_over,y_test_over)}')\n",
        "\n",
        "rf_pred = rf.predict(X_test_over)\n",
        "print (f\"Test ROC_AUC   : {roc_auc_score(y_test_over, rf_pred):.5f}\")\n",
        "print (f\"Test Accuracy  : {accuracy_score(y_test_over,rf_pred):.5f}\")\n",
        "print (f\"Test F1-score  : {f1_score(y_test_over,rf_pred,average='macro'):.5f}\")\n",
        "print (f\"Test Precision : {precision_score(y_test_over,rf_pred,average='macro'):.5f}\")\n",
        "print (f\"Test Recall    : {recall_score(y_test_over,rf_pred,average='macro'):.5f}\")"
      ],
      "execution_count": null,
      "outputs": []
    },
    {
      "cell_type": "code",
      "metadata": {
        "id": "kdQtELzMqnZ3",
        "outputId": "7306cb2c-6fdc-47e8-c732-0401d51af006"
      },
      "source": [
        "%%time\n",
        "params = {'n_estimators':[10,20,50,100],\n",
        "          'max_depth':[5,10,15,20,25,30],\n",
        "          'min_samples_leaf':[1,5,10],\n",
        "          'min_samples_split' : [2,10,100],\n",
        "          'random_state':[parameters.random_state],\n",
        "          'n_jobs':[-1]\n",
        "         }\n",
        "\n",
        "rf_grid = GridSearchCV(RandomForestClassifier(),param_grid=params,verbose=0,n_jobs=-1,cv=parameters.n_folds)\n",
        "rf_grid.fit(X_train_over,y_train_over)\n",
        "print(rf_grid.best_params_)\n",
        "rf = rf_grid.best_estimator_\n",
        "\n",
        "rf_pred = rf.predict(X_test_over)\n",
        "print (f\"Test ROC_AUC   : {roc_auc_score(y_test_over, rf_pred):.5f}\")\n",
        "print (f\"Test Accuracy  : {accuracy_score(y_test_over,rf_pred):.5f}\")\n",
        "print (f\"Test F1-score  : {f1_score(y_test_over,rf_pred,average='macro'):.5f}\")\n",
        "print (f\"Test Precision : {precision_score(y_test_over,rf_pred,average='macro'):.5f}\")\n",
        "print (f\"Test Recall    : {recall_score(y_test_over,rf_pred,average='macro'):.5f}\")"
      ],
      "execution_count": null,
      "outputs": [
        {
          "output_type": "stream",
          "text": [
            "{'max_depth': 20, 'min_samples_leaf': 5, 'min_samples_split': 2, 'n_estimators': 10, 'n_jobs': -1, 'random_state': 7}\n",
            "Test ROC_AUC   : 0.88081\n",
            "Test Accuracy  : 0.94271\n",
            "Test F1-score  : 0.62185\n",
            "Test Precision : 0.58083\n",
            "Test Recall    : 0.88081\n",
            "CPU times: user 8.91 s, sys: 1.42 s, total: 10.3 s\n",
            "Wall time: 2min 35s\n"
          ],
          "name": "stdout"
        }
      ]
    },
    {
      "cell_type": "code",
      "metadata": {
        "id": "iNIfTnJoqnZ3"
      },
      "source": [
        "# сохранить список функций в параметре модели\n",
        "rf.feature_names = list(X_train_over.columns.values)\n",
        "# сохранить модель в артефакт\n",
        "#joblib.dump(rf, parameters.model_pkl)\n",
        "pickle.dump(rf, open(parameters.model_pkl, 'wb'))\n",
        "#rf = joblib.load(model_pkl)"
      ],
      "execution_count": null,
      "outputs": []
    },
    {
      "cell_type": "code",
      "metadata": {
        "id": "Cm20FOgLqnZ3",
        "outputId": "b4b853a8-8141-44d3-cc9d-b538e9d101e3"
      },
      "source": [
        "# Посмотрим на важность функций\n",
        "features = X_train_over.columns\n",
        "importances = rf.feature_importances_[0:20]\n",
        "indices = np.argsort(importances)\n",
        "\n",
        "plt.title('Feature Importances for RandomForest')\n",
        "plt.barh(range(len(indices)), importances[indices], color='b', align='center')\n",
        "plt.yticks(range(len(indices)), [features[i] for i in indices])\n",
        "plt.xlabel('Relative Importance')\n",
        "plt.show()\n",
        "del rf"
      ],
      "execution_count": null,
      "outputs": [
        {
          "output_type": "display_data",
          "data": {
            "image/png": "[encoded data removed]",
            "text/plain": [
              "<Figure size 432x288 with 1 Axes>"
            ]
          },
          "metadata": {
            "tags": [],
            "needs_background": "light"
          }
        }
      ]
    },
    {
      "cell_type": "code",
      "metadata": {
        "id": "pmdu2xF5qnZ4",
        "outputId": "466f7efe-3df1-4a82-ed68-6e08cc9335fe"
      },
      "source": [
        "df_conf = pd.DataFrame({'y_Actual': y_test_over, 'y_Predicted': rf_pred}, columns=['y_Actual','y_Predicted'])\n",
        "confusion_matrix = pd.crosstab(df_conf['y_Actual'], df_conf['y_Predicted'], rownames=['Actual'], colnames=['Predicted'])\n",
        "confusion_matrix_gr = confusion_matrix/sum(sum(confusion_matrix.values))\n",
        "class_names = ['FRAUDSTER','NON_FRAUDSTER']\n",
        "ax=sns.heatmap(confusion_matrix_gr, annot=True);\n",
        "ax.set_title('Confusion matrix')\n",
        "ax.set_yticklabels(class_names, rotation=0);\n",
        "ax.set_xticklabels(class_names, rotation=30);"
      ],
      "execution_count": null,
      "outputs": [
        {
          "output_type": "display_data",
          "data": {
            "image/png": "[encoded data removed]",
            "text/plain": [
              "<Figure size 432x288 with 2 Axes>"
            ]
          },
          "metadata": {
            "tags": [],
            "needs_background": "light"
          }
        }
      ]
    },
    {
      "cell_type": "code",
      "metadata": {
        "id": "yB8hKWMwqnZ4",
        "outputId": "f43df38c-b441-4b22-9f25-ebb5114c27d9"
      },
      "source": [
        "confusion_matrix"
      ],
      "execution_count": null,
      "outputs": [
        {
          "output_type": "execute_result",
          "data": {
            "text/html": [
              "<div>\n",
              "<style scoped>\n",
              "    .dataframe tbody tr th:only-of-type {\n",
              "        vertical-align: middle;\n",
              "    }\n",
              "\n",
              "    .dataframe tbody tr th {\n",
              "        vertical-align: top;\n",
              "    }\n",
              "\n",
              "    .dataframe thead th {\n",
              "        text-align: right;\n",
              "    }\n",
              "</style>\n",
              "<table border=\"1\" class=\"dataframe\">\n",
              "  <thead>\n",
              "    <tr style=\"text-align: right;\">\n",
              "      <th>Predicted</th>\n",
              "      <th>0</th>\n",
              "      <th>1</th>\n",
              "    </tr>\n",
              "    <tr>\n",
              "      <th>Actual</th>\n",
              "      <th></th>\n",
              "      <th></th>\n",
              "    </tr>\n",
              "  </thead>\n",
              "  <tbody>\n",
              "    <tr>\n",
              "      <td>0</td>\n",
              "      <td>176955</td>\n",
              "      <td>10421</td>\n",
              "    </tr>\n",
              "    <tr>\n",
              "      <td>1</td>\n",
              "      <td>458</td>\n",
              "      <td>2048</td>\n",
              "    </tr>\n",
              "  </tbody>\n",
              "</table>\n",
              "</div>"
            ],
            "text/plain": [
              "Predicted       0      1\n",
              "Actual                  \n",
              "0          176955  10421\n",
              "1             458   2048"
            ]
          },
          "metadata": {
            "tags": []
          },
          "execution_count": 101
        }
      ]
    },
    {
      "cell_type": "markdown",
      "metadata": {
        "id": "sNcKq9_iqnZ4"
      },
      "source": [
        "Из-за min_samples_leaf = 1 мы можем подумать, что классификатор переоснащен в наборе данных. Но точность TEST и оценка F1 очень хороши для RandomForest только с 10 деревьями."
      ]
    },
    {
      "cell_type": "markdown",
      "metadata": {
        "id": "yfrIxAr0qnZ4"
      },
      "source": [
        "Сделаем поиск по сетке параметров для randomforest"
      ]
    },
    {
      "cell_type": "code",
      "metadata": {
        "id": "VljYGk0IqnZ4",
        "outputId": "e625f4b5-c3e3-4f48-b3c6-de37d5fec927"
      },
      "source": [
        "%%time\n",
        "params = {'n_estimators':[10,20],\n",
        "          'max_depth':[5,10,20],\n",
        "          'min_samples_leaf':[1,5,10],\n",
        "          'random_state':[parameters.random_state],\n",
        "          'n_jobs':[-1]}\n",
        "\n",
        "rf_grid = GridSearchCV(RandomForestClassifier(),param_grid=params,verbose=0,n_jobs=-1,cv=parameters.n_folds)\n",
        "rf_grid.fit(X_train_over,y_train_over)\n",
        "print(rf_grid.best_params_)"
      ],
      "execution_count": null,
      "outputs": [
        {
          "output_type": "stream",
          "text": [
            "{'max_depth': 20, 'min_samples_leaf': 5, 'n_estimators': 10, 'n_jobs': -1, 'random_state': 7}\n",
            "CPU times: user 1.2 s, sys: 116 ms, total: 1.32 s\n",
            "Wall time: 5.2 s\n"
          ],
          "name": "stdout"
        }
      ]
    },
    {
      "cell_type": "code",
      "metadata": {
        "id": "tISqeHfHqnZ5",
        "outputId": "30521070-03c8-40f7-e037-951d74740c08"
      },
      "source": [
        "rf_pred = rf_grid.predict(X_test_over)\n",
        "print (f\"Test ROC_AUC   : {roc_auc_score(y_test_over, rf_pred):.5f}\")\n",
        "print (f\"Test Accuracy  : {accuracy_score(y_test_over,rf_pred):.5f}\")\n",
        "print (f\"Test F1-score  : {f1_score(y_test_over,rf_pred,average='macro'):.5f}\")\n",
        "print (f\"Test Precision : {precision_score(y_test_over,rf_pred,average='macro'):.5f}\")\n",
        "print (f\"Test Recall    : {recall_score(y_test_over,rf_pred,average='macro'):.5f}\")"
      ],
      "execution_count": null,
      "outputs": [
        {
          "output_type": "stream",
          "text": [
            "Test ROC_AUC   : 0.88081\n",
            "Test Accuracy  : 0.94271\n",
            "Test F1-score  : 0.62185\n",
            "Test Precision : 0.58083\n",
            "Test Recall    : 0.88081\n"
          ],
          "name": "stdout"
        }
      ]
    },
    {
      "cell_type": "markdown",
      "metadata": {
        "id": "YyuZksx2qnZ5"
      },
      "source": [
        "У нас нет улучшений TEST после gridsearch на RF."
      ]
    },
    {
      "cell_type": "markdown",
      "metadata": {
        "id": "p2nBAh3CqnZ5"
      },
      "source": [
        "### XGBoost"
      ]
    },
    {
      "cell_type": "code",
      "metadata": {
        "id": "h6mC9fHSqnZ5",
        "outputId": "84f0b6cf-7b00-42b3-8248-f4ad453828fd"
      },
      "source": [
        "%%time\n",
        "params = {'n_estimators':[50,100,200],\n",
        "          'max_depth':range(5,13),\n",
        "          'random_state':[parameters.random_state],\n",
        "          'n_jobs':[-1]}\n",
        "\n",
        "rf_grid = GridSearchCV(XGBClassifier(), param_grid=params, verbose=0, n_jobs=-1, cv=parameters.n_folds)\n",
        "rf_grid.fit(X_train_over,y_train_over)\n",
        "print(rf_grid.best_params_)\n",
        "\n",
        "rf_pred = rf_grid.predict(X_test_over)\n",
        "print (f\"Test ROC_AUC   : {roc_auc_score(y_test_over, rf_pred):.5f}\")\n",
        "print (f\"Test Accuracy  : {accuracy_score(y_test_over,rf_pred):.5f}\")\n",
        "print (f\"Test F1-score  : {f1_score(y_test_over,rf_pred,average='macro'):.5f}\")\n",
        "print (f\"Test Precision : {precision_score(y_test_over,rf_pred,average='macro'):.5f}\")\n",
        "print (f\"Test Recall    : {recall_score(y_test_over,rf_pred,average='macro'):.5f}\")"
      ],
      "execution_count": null,
      "outputs": [
        {
          "output_type": "stream",
          "text": [
            "{'max_depth': 7, 'n_estimators': 50, 'n_jobs': -1, 'random_state': 7}\n",
            "Test ROC_AUC   : 0.88361\n",
            "Test Accuracy  : 0.96143\n",
            "Test F1-score  : 0.66749\n",
            "Test Precision : 0.61249\n",
            "Test Recall    : 0.88361\n",
            "CPU times: user 23.7 s, sys: 696 ms, total: 24.4 s\n",
            "Wall time: 10min 47s\n"
          ],
          "name": "stdout"
        }
      ]
    },
    {
      "cell_type": "code",
      "metadata": {
        "id": "BSsfgICxqnZ5",
        "outputId": "23817b60-6fbb-4b91-f3f8-56750a4b1c63"
      },
      "source": [
        "# Посмотрим на важность функций\n",
        "features = X_train_over.columns\n",
        "rf = rf_grid.best_estimator_\n",
        "importances = rf.feature_importances_[0:20]\n",
        "indices = np.argsort(importances)\n",
        "\n",
        "plt.title('Feature Importances for XGBoost')\n",
        "plt.barh(range(len(indices)), importances[indices], color='b', align='center')\n",
        "plt.yticks(range(len(indices)), [features[i] for i in indices])\n",
        "plt.xlabel('Relative Importance')\n",
        "plt.show()\n",
        "del rf"
      ],
      "execution_count": null,
      "outputs": [
        {
          "output_type": "display_data",
          "data": {
            "image/png": "[encoded data removed]",
            "text/plain": [
              "<Figure size 432x288 with 1 Axes>"
            ]
          },
          "metadata": {
            "tags": [],
            "needs_background": "light"
          }
        }
      ]
    },
    {
      "cell_type": "code",
      "metadata": {
        "id": "klZBc6OBqnZ6",
        "outputId": "dc501beb-b319-40d8-eead-7ba021799342"
      },
      "source": [
        "df_conf = pd.DataFrame({'y_Actual': y_test_over, 'y_Predicted': rf_pred}, columns=['y_Actual','y_Predicted'])\n",
        "confusion_matrix = pd.crosstab(df_conf['y_Actual'], df_conf['y_Predicted'], rownames=['Actual'], colnames=['Predicted'])\n",
        "confusion_matrix_gr = confusion_matrix/sum(sum(confusion_matrix.values))\n",
        "class_names = ['FRAUDSTER','NON_FRAUDSTER']\n",
        "ax=sns.heatmap(confusion_matrix_gr, annot=True);\n",
        "ax.set_title('Confusion matrix')\n",
        "ax.set_yticklabels(class_names, rotation=0);\n",
        "ax.set_xticklabels(class_names, rotation=30);"
      ],
      "execution_count": null,
      "outputs": [
        {
          "output_type": "display_data",
          "data": {
            "image/png": "[encoded data removed]",
            "text/plain": [
              "<Figure size 432x288 with 2 Axes>"
            ]
          },
          "metadata": {
            "tags": [],
            "needs_background": "light"
          }
        }
      ]
    },
    {
      "cell_type": "code",
      "metadata": {
        "id": "1t0TdmypqnZ6",
        "outputId": "714786c1-6a1d-4fb5-e86f-e256d83cc29e"
      },
      "source": [
        "confusion_matrix"
      ],
      "execution_count": null,
      "outputs": [
        {
          "output_type": "execute_result",
          "data": {
            "text/html": [
              "<div>\n",
              "<style scoped>\n",
              "    .dataframe tbody tr th:only-of-type {\n",
              "        vertical-align: middle;\n",
              "    }\n",
              "\n",
              "    .dataframe tbody tr th {\n",
              "        vertical-align: top;\n",
              "    }\n",
              "\n",
              "    .dataframe thead th {\n",
              "        text-align: right;\n",
              "    }\n",
              "</style>\n",
              "<table border=\"1\" class=\"dataframe\">\n",
              "  <thead>\n",
              "    <tr style=\"text-align: right;\">\n",
              "      <th>Predicted</th>\n",
              "      <th>0</th>\n",
              "      <th>1</th>\n",
              "    </tr>\n",
              "    <tr>\n",
              "      <th>Actual</th>\n",
              "      <th></th>\n",
              "      <th></th>\n",
              "    </tr>\n",
              "  </thead>\n",
              "  <tbody>\n",
              "    <tr>\n",
              "      <td>0</td>\n",
              "      <td>180545</td>\n",
              "      <td>6831</td>\n",
              "    </tr>\n",
              "    <tr>\n",
              "      <td>1</td>\n",
              "      <td>492</td>\n",
              "      <td>2014</td>\n",
              "    </tr>\n",
              "  </tbody>\n",
              "</table>\n",
              "</div>"
            ],
            "text/plain": [
              "Predicted       0     1\n",
              "Actual                 \n",
              "0          180545  6831\n",
              "1             492  2014"
            ]
          },
          "metadata": {
            "tags": []
          },
          "execution_count": 107
        }
      ]
    },
    {
      "cell_type": "markdown",
      "metadata": {
        "id": "pPBahOIhqnZ6"
      },
      "source": [
        "## **Давайте попробуем PCA, чтобы минимизировать количество функций для модели.**"
      ]
    },
    {
      "cell_type": "code",
      "metadata": {
        "id": "gzo_MkRxqnZ6",
        "outputId": "69eff11b-f1e2-4d02-f36c-f708b82bb258"
      },
      "source": [
        "print(f'Current shape of the dataset: {X_train_over.shape}')"
      ],
      "execution_count": null,
      "outputs": [
        {
          "output_type": "stream",
          "text": [
            "Current shape of the dataset: (22816, 196)\n"
          ],
          "name": "stdout"
        }
      ]
    },
    {
      "cell_type": "markdown",
      "metadata": {
        "id": "NiuHVA1cqnZ6"
      },
      "source": [
        "### **Проверим RF с помощью PCA**"
      ]
    },
    {
      "cell_type": "code",
      "metadata": {
        "scrolled": true,
        "id": "QfiEF_2CqnZ7",
        "outputId": "e8e174af-6591-4539-8f53-a5c429196408"
      },
      "source": [
        "l_result = []\n",
        "for n in range(1,df.shape[1]//4):\n",
        "    pca = PCA(n_components=n, random_state=parameters.random_state)\n",
        "    pc = pca.fit_transform(X_train_over)\n",
        "    df_pc = pd.DataFrame(data = pc, columns = ['pc'+str(i) for i in range(n)])\n",
        "    X_train_pca, X_test_pca, y_train_pca, y_test_pca = train_test_split(df_pc, y_train_over, stratify=y_train_over, test_size=parameters.test_size, random_state=parameters.random_state)\n",
        "    \n",
        "    rf_pca = RandomForestClassifier(n_jobs=-1, random_state=parameters.random_state)\n",
        "    score_on_train = 0\n",
        "    for trn_idx,tst_idx in KFold(n_splits=parameters.n_folds,random_state=parameters.random_state).split(X_train_pca,y_train_pca):\n",
        "        X_train_fold,y_train_fold = X_train_pca.iloc[trn_idx],y_train_pca.iloc[trn_idx]\n",
        "        X_test_fold,y_test_fold = X_train_pca.iloc[tst_idx],y_train_pca.iloc[tst_idx]\n",
        "        rf_pca.fit(X_train_fold, y_train_fold)\n",
        "        score_on_train += rf_pca.score(X_test_fold, y_test_fold)\n",
        "\n",
        "    rf_pca.fit(X_train_pca,y_train_pca)\n",
        "    print(f'Components={n}; Accuracy on train by {parameters.n_folds} folds : {score_on_train/parameters.n_folds}')\n",
        "    print(f'Components={n}; Accuracy on test : {rf_pca.score(X_test_pca,y_test_pca)}')\n",
        "    y_test_predict_proba = rf_pca.predict_proba(X_test_pca)[:, 1]\n",
        "    y_test_predict = rf_pca.predict(X_test_pca)\n",
        "    l_result.append((n,\n",
        "                     roc_auc_score(y_test_pca, y_test_predict_proba),\n",
        "                     accuracy_score(y_test_pca, y_test_predict),\n",
        "                     f1_score(y_test_pca, y_test_predict, average=\"macro\")\n",
        "                    ))"
      ],
      "execution_count": null,
      "outputs": [
        {
          "output_type": "stream",
          "text": [
            "Components=1; Accuracy on train by 3 folds : 0.6312693842065057\n",
            "Components=1; Accuracy on test : 0.6362308254200146\n",
            "Components=2; Accuracy on train by 3 folds : 0.6982654785833878\n",
            "Components=2; Accuracy on test : 0.7095690284879475\n",
            "Components=3; Accuracy on train by 3 folds : 0.8053967164687367\n",
            "Components=3; Accuracy on test : 0.8154857560262966\n",
            "Components=4; Accuracy on train by 3 folds : 0.8107194706084137\n",
            "Components=4; Accuracy on test : 0.8179693206720233\n",
            "Components=5; Accuracy on train by 3 folds : 0.8066493782868847\n",
            "Components=5; Accuracy on test : 0.8189919649379109\n",
            "Components=6; Accuracy on train by 3 folds : 0.8360782153100068\n",
            "Components=6; Accuracy on test : 0.8582907231555881\n",
            "Components=7; Accuracy on train by 3 folds : 0.9128420137269151\n",
            "Components=7; Accuracy on test : 0.9161431701972242\n",
            "Components=8; Accuracy on train by 3 folds : 0.9172250362613251\n",
            "Components=8; Accuracy on test : 0.9215485756026297\n",
            "Components=9; Accuracy on train by 3 folds : 0.9244882988212653\n",
            "Components=9; Accuracy on test : 0.933382030679328\n",
            "Components=10; Accuracy on train by 3 folds : 0.9328781807200738\n",
            "Components=10; Accuracy on test : 0.9425858290723156\n",
            "Components=11; Accuracy on train by 3 folds : 0.931062715002052\n",
            "Components=11; Accuracy on test : 0.9409788166544923\n",
            "Components=12; Accuracy on train by 3 folds : 0.9348194889619675\n",
            "Components=12; Accuracy on test : 0.9360116873630387\n",
            "Components=13; Accuracy on train by 3 folds : 0.9338802278400125\n",
            "Components=13; Accuracy on test : 0.9358655953250548\n",
            "Components=14; Accuracy on train by 3 folds : 0.933316812311833\n",
            "Components=14; Accuracy on test : 0.9355734112490869\n",
            "Components=15; Accuracy on train by 3 folds : 0.92987301561313\n",
            "Components=15; Accuracy on test : 0.9345507669831994\n",
            "Components=16; Accuracy on train by 3 folds : 0.9333792924956642\n",
            "Components=16; Accuracy on test : 0.9383491599707816\n",
            "Components=17; Accuracy on train by 3 folds : 0.9353205066408954\n",
            "Components=17; Accuracy on test : 0.9405405405405406\n",
            "Components=18; Accuracy on train by 3 folds : 0.9351950757899216\n",
            "Components=18; Accuracy on test : 0.9392257121986852\n",
            "Components=19; Accuracy on train by 3 folds : 0.9328158534433192\n",
            "Components=19; Accuracy on test : 0.9411249086924762\n",
            "Components=20; Accuracy on train by 3 folds : 0.9327532321144947\n",
            "Components=20; Accuracy on test : 0.9379108838568299\n",
            "Components=21; Accuracy on train by 3 folds : 0.934381104373947\n",
            "Components=21; Accuracy on test : 0.9349890430971513\n",
            "Components=22; Accuracy on train by 3 folds : 0.9361343133877108\n",
            "Components=22; Accuracy on test : 0.937618699780862\n",
            "Components=23; Accuracy on train by 3 folds : 0.9338800866950189\n",
            "Components=23; Accuracy on test : 0.9368882395909423\n",
            "Components=24; Accuracy on train by 3 folds : 0.9370108826083444\n",
            "Components=24; Accuracy on test : 0.9389335281227174\n",
            "Components=25; Accuracy on train by 3 folds : 0.9357584442697696\n",
            "Components=25; Accuracy on test : 0.9373265157048941\n",
            "Components=26; Accuracy on train by 3 folds : 0.9371986172119074\n",
            "Components=26; Accuracy on test : 0.9379108838568299\n",
            "Components=27; Accuracy on train by 3 folds : 0.9348820632424609\n",
            "Components=27; Accuracy on test : 0.9398100803506209\n",
            "Components=28; Accuracy on train by 3 folds : 0.9358837810240811\n",
            "Components=28; Accuracy on test : 0.9384952520087655\n",
            "Components=29; Accuracy on train by 3 folds : 0.9376369900378453\n",
            "Components=29; Accuracy on test : 0.9363038714390066\n",
            "Components=30; Accuracy on train by 3 folds : 0.9348194419136363\n",
            "Components=30; Accuracy on test : 0.9415631848064281\n",
            "Components=31; Accuracy on train by 3 folds : 0.9377621385988321\n",
            "Components=31; Accuracy on test : 0.939517896274653\n",
            "Components=32; Accuracy on train by 3 folds : 0.9350699037047692\n",
            "Components=32; Accuracy on test : 0.9365960555149744\n",
            "Components=33; Accuracy on train by 3 folds : 0.9326279659326797\n",
            "Components=33; Accuracy on test : 0.9360116873630387\n",
            "Components=34; Accuracy on train by 3 folds : 0.9350072353276132\n",
            "Components=34; Accuracy on test : 0.9368882395909423\n",
            "Components=35; Accuracy on train by 3 folds : 0.9358839221690749\n",
            "Components=35; Accuracy on test : 0.9393718042366691\n",
            "Components=36; Accuracy on train by 3 folds : 0.9370107885116821\n",
            "Components=36; Accuracy on test : 0.9360116873630387\n",
            "Components=37; Accuracy on train by 3 folds : 0.9363221068016879\n",
            "Components=37; Accuracy on test : 0.9402483564645727\n",
            "Components=38; Accuracy on train by 3 folds : 0.936196722999045\n",
            "Components=38; Accuracy on test : 0.9389335281227174\n",
            "Components=39; Accuracy on train by 3 folds : 0.937574345184855\n",
            "Components=39; Accuracy on test : 0.9346968590211834\n",
            "Components=40; Accuracy on train by 3 folds : 0.9345063235074305\n",
            "Components=40; Accuracy on test : 0.9412710007304602\n",
            "Components=41; Accuracy on train by 3 folds : 0.9356331192775409\n",
            "Components=41; Accuracy on test : 0.9371804236669101\n",
            "Components=42; Accuracy on train by 3 folds : 0.9354457492985447\n",
            "Components=42; Accuracy on test : 0.9392257121986852\n",
            "Components=43; Accuracy on train by 3 folds : 0.9378248422622363\n",
            "Components=43; Accuracy on test : 0.935427319211103\n",
            "Components=44; Accuracy on train by 3 folds : 0.9338176300353536\n",
            "Components=44; Accuracy on test : 0.9414170927684441\n",
            "Components=45; Accuracy on train by 3 folds : 0.9371361958384904\n",
            "Components=45; Accuracy on test : 0.9382030679327976\n",
            "Components=46; Accuracy on train by 3 folds : 0.9356332016121205\n",
            "Components=46; Accuracy on test : 0.9344046749452155\n",
            "Components=47; Accuracy on train by 3 folds : 0.9341932168633075\n",
            "Components=47; Accuracy on test : 0.9377647918188459\n",
            "Components=48; Accuracy on train by 3 folds : 0.9332540498380149\n",
            "Components=48; Accuracy on test : 0.9363038714390066\n"
          ],
          "name": "stdout"
        }
      ]
    },
    {
      "cell_type": "code",
      "metadata": {
        "scrolled": true,
        "id": "_22H4XbSqnZ7",
        "outputId": "00864339-c60d-4ec3-dbed-e6300b74368b"
      },
      "source": [
        "# Сортируем по ROC_AUC и F1-score в Test\n",
        "#l_result.sort(key=lambda x:x[1]*10+x[3],reverse=True)\n",
        "l_result.sort(key=lambda x:x[3],reverse=True)\n",
        "l_result"
      ],
      "execution_count": null,
      "outputs": [
        {
          "output_type": "execute_result",
          "data": {
            "text/plain": [
              "[(10, 0.9817445775842006, 0.9425858290723156, 0.942583868391017),\n",
              " (30, 0.9798153942978303, 0.9415631848064281, 0.941561826563014),\n",
              " (44, 0.9794708774640146, 0.9414170927684441, 0.9414146720330869),\n",
              " (40, 0.9782906586635973, 0.9412710007304602, 0.9412697961439618),\n",
              " (19, 0.9815155257529214, 0.9411249086924762, 0.9411224758836261),\n",
              " (11, 0.9805932143629755, 0.9409788166544923, 0.9409755400390819),\n",
              " (17, 0.9815602604378227, 0.9405405405405406, 0.9405388958239764),\n",
              " (37, 0.9806408516801034, 0.9402483564645727, 0.9402463159590992),\n",
              " (27, 0.9810420125281022, 0.9398100803506209, 0.9398081263703644),\n",
              " (31, 0.9796008983134512, 0.939517896274653, 0.9395169552212507),\n",
              " (35, 0.9781364776694527, 0.9393718042366691, 0.9393692989868605),\n",
              " (42, 0.9788323410599696, 0.9392257121986852, 0.9392237392477465),\n",
              " (18, 0.9798917591368459, 0.9392257121986852, 0.9392233137688206),\n",
              " (38, 0.980530124797819, 0.9389335281227174, 0.9389317438055167),\n",
              " (24, 0.9801873580804927, 0.9389335281227174, 0.9389261959853485),\n",
              " (28, 0.9780484596157633, 0.9384952520087655, 0.9384917022937305),\n",
              " (16, 0.9794483820642599, 0.9383491599707816, 0.9383462532167376),\n",
              " (45, 0.9798869783308259, 0.9382030679327976, 0.9382026405982314),\n",
              " (26, 0.9806431567115772, 0.9379108838568299, 0.9379099880352203),\n",
              " (20, 0.9806140450177769, 0.9379108838568299, 0.9379089702656936),\n",
              " (47, 0.9806517792367204, 0.9377647918188459, 0.937764312306504),\n",
              " (22, 0.9791232872549004, 0.937618699780862, 0.9376150994760639),\n",
              " (25, 0.9797256261276512, 0.9373265157048941, 0.9373234336471866),\n",
              " (41, 0.9782922807227827, 0.9371804236669101, 0.9371769361802109),\n",
              " (34, 0.9785196678091086, 0.9368882395909423, 0.9368876455641045),\n",
              " (23, 0.9796711164018698, 0.9368882395909423, 0.9368855118244686),\n",
              " (32, 0.9792672236647166, 0.9365960555149744, 0.9365949174339998),\n",
              " (48, 0.978641279562242, 0.9363038714390066, 0.9363022060581225),\n",
              " (29, 0.9798218398488036, 0.9363038714390066, 0.9362991388104267),\n",
              " (12, 0.9815010552775575, 0.9360116873630387, 0.9360110850858282),\n",
              " (33, 0.9791576492981692, 0.9360116873630387, 0.9360091620931331),\n",
              " (36, 0.9791535087786697, 0.9360116873630387, 0.9360091620931331),\n",
              " (13, 0.9792668394928045, 0.9358655953250548, 0.9358651518265333),\n",
              " (14, 0.9779493005766164, 0.9355734112490869, 0.9355707490438687),\n",
              " (43, 0.9797723243578822, 0.935427319211103, 0.9354259947652517),\n",
              " (21, 0.9796119966131404, 0.9349890430971513, 0.9349855741088471),\n",
              " (39, 0.9772866467136312, 0.9346968590211834, 0.9346948463735648),\n",
              " (15, 0.9798837768982234, 0.9345507669831994, 0.9345468429250587),\n",
              " (46, 0.9778739175102654, 0.9344046749452155, 0.934401449201834),\n",
              " (9, 0.9767337806460337, 0.933382030679328, 0.9333818586387166),\n",
              " (8, 0.9746461904744831, 0.9215485756026297, 0.9215485756026297),\n",
              " (7, 0.9691259815805788, 0.9161431701972242, 0.9161431254535366),\n",
              " (6, 0.9299956392219375, 0.8582907231555881, 0.8582902120158478),\n",
              " (5, 0.8985460032205559, 0.8189919649379109, 0.8189708073989656),\n",
              " (4, 0.9005808764685824, 0.8179693206720233, 0.8179650897437889),\n",
              " (3, 0.8927945655212026, 0.8154857560262966, 0.8154817233585528),\n",
              " (2, 0.773135216731865, 0.7095690284879475, 0.7094870284025891),\n",
              " (1, 0.6782495778804398, 0.6362308254200146, 0.6362213144145067)]"
            ]
          },
          "metadata": {
            "tags": []
          },
          "execution_count": 110
        }
      ]
    },
    {
      "cell_type": "code",
      "metadata": {
        "scrolled": true,
        "id": "8lwrXuESqnZ7",
        "outputId": "cb535d99-c91f-4b2f-cfdf-1c636b458f22"
      },
      "source": [
        "print(f'Best n_components by PCA: {l_result[0][0]}')"
      ],
      "execution_count": null,
      "outputs": [
        {
          "output_type": "stream",
          "text": [
            "Best n_components by PCA: 10\n"
          ],
          "name": "stdout"
        }
      ]
    },
    {
      "cell_type": "code",
      "metadata": {
        "id": "Fu-7WDLnqnZ7"
      },
      "source": [
        "parameters.best_pca_components_number = l_result[0][0]\n",
        "parameters.best_pca = PCA(n_components=parameters.best_pca_components_number, random_state=parameters.random_state)\n",
        "parameters.best_pca.fit(X_train_over);"
      ],
      "execution_count": null,
      "outputs": []
    },
    {
      "cell_type": "code",
      "metadata": {
        "id": "9HUFu1vhqnZ8"
      },
      "source": [
        "ds_pc = parameters.best_pca.transform(X_train_over)\n",
        "df_pc = pd.DataFrame(data = ds_pc, columns = ['pc'+str(i) for i in range(parameters.best_pca_components_number)])\n",
        "X_train_pca, X_test_pca, y_train_pca, y_test_pca = train_test_split(df_pc, y_train_over, stratify=y_train_over, test_size=parameters.test_size, random_state=parameters.random_state)"
      ],
      "execution_count": null,
      "outputs": []
    },
    {
      "cell_type": "code",
      "metadata": {
        "id": "GkEg3l5pqnZ8",
        "outputId": "7c14c11a-55df-4c3e-878d-77f0ee1aaea6"
      },
      "source": [
        "%%time\n",
        "params = {'n_estimators':[10,20],\n",
        "          'max_depth':[5,10,20],\n",
        "          'min_samples_leaf':[1,5,10],\n",
        "          'random_state':[parameters.random_state],\n",
        "          'n_jobs':[-1]}\n",
        "\n",
        "rf_grid = GridSearchCV(RandomForestClassifier(),param_grid=params,verbose=0,n_jobs=-1,cv=parameters.n_folds)\n",
        "rf_grid.fit(X_train_pca,y_train_pca)\n",
        "print(rf_grid.best_params_)"
      ],
      "execution_count": null,
      "outputs": [
        {
          "output_type": "stream",
          "text": [
            "{'max_depth': 20, 'min_samples_leaf': 1, 'n_estimators': 20, 'n_jobs': -1, 'random_state': 7}\n",
            "CPU times: user 2.12 s, sys: 257 ms, total: 2.37 s\n",
            "Wall time: 5.75 s\n"
          ],
          "name": "stdout"
        }
      ]
    },
    {
      "cell_type": "code",
      "metadata": {
        "id": "tPm0TqOeqnZ8",
        "outputId": "8c53fc50-34c1-402e-8d9a-c909b3570010"
      },
      "source": [
        "rf_pca = rf_grid.best_estimator_\n",
        "rf_pca.fit(X_train_pca,y_train_pca)\n",
        "rf_pred = rf_pca.predict(X_test_pca)\n",
        "y_pred_proba = rf_pca.predict_proba(X_test_pca)[::,1]\n",
        "\n",
        "print (f\"Test ROC_AUC   : {roc_auc_score(y_test_pca, y_pred_proba):.5f}\")\n",
        "print (f\"Test Accuracy  : {accuracy_score(y_test_pca,rf_pred):.5f}\")\n",
        "print (f\"Test F1-score  : {f1_score(y_test_pca,rf_pred,average='macro'):.5f}\")\n",
        "print (f\"Test Precision : {precision_score(y_test_pca,rf_pred,average='macro'):.5f}\")\n",
        "print (f\"Test Recall    : {recall_score(y_test_pca,rf_pred,average='macro'):.5f}\")"
      ],
      "execution_count": null,
      "outputs": [
        {
          "output_type": "stream",
          "text": [
            "Test ROC_AUC   : 0.98374\n",
            "Test Accuracy  : 0.94463\n",
            "Test F1-score  : 0.94463\n",
            "Test Precision : 0.94481\n",
            "Test Recall    : 0.94463\n"
          ],
          "name": "stdout"
        }
      ]
    },
    {
      "cell_type": "markdown",
      "metadata": {
        "id": "M3TAgbXoqnZ8"
      },
      "source": [
        "### **Проверим XGBoost с помощью PCA**"
      ]
    },
    {
      "cell_type": "code",
      "metadata": {
        "scrolled": true,
        "id": "K8DhsEi3qnZ8",
        "outputId": "abf2b2eb-0e77-4a65-8a67-cbf5e767d9dd"
      },
      "source": [
        "l_result = []\n",
        "for n in range(1,df.shape[1]//4):\n",
        "    pca = PCA(n_components=n, random_state=parameters.random_state)\n",
        "    pc = pca.fit_transform(X_train_over)\n",
        "    df_pc = pd.DataFrame(data = pc, columns = ['pc'+str(i) for i in range(n)])\n",
        "    X_train_pca, X_test_pca, y_train_pca, y_test_pca = train_test_split(df_pc, y_train_over, stratify=y_train_over, test_size=parameters.test_size, random_state=parameters.random_state)\n",
        "    \n",
        "    rf_pca = XGBClassifier(n_jobs=-1, random_state=parameters.random_state)\n",
        "    score_on_train = 0\n",
        "    for trn_idx,tst_idx in KFold(n_splits=parameters.n_folds,random_state=parameters.random_state).split(X_train_pca,y_train_pca):\n",
        "        X_train_fold,y_train_fold = X_train_pca.iloc[trn_idx],y_train_pca.iloc[trn_idx]\n",
        "        X_test_fold,y_test_fold = X_train_pca.iloc[tst_idx],y_train_pca.iloc[tst_idx]\n",
        "        rf_pca.fit(X_train_fold, y_train_fold)\n",
        "        score_on_train += rf_pca.score(X_test_fold, y_test_fold)\n",
        "\n",
        "    rf_pca.fit(X_train_pca,y_train_pca)\n",
        "    print(f'Components={n}; Accuracy on train by {parameters.n_folds} folds : {score_on_train/parameters.n_folds}')\n",
        "    print(f'Components={n}; Accuracy on test : {rf_pca.score(X_test_pca,y_test_pca)}')\n",
        "    y_test_predict_proba = rf_pca.predict_proba(X_test_pca)[:, 1]\n",
        "    y_test_predict = rf_pca.predict(X_test_pca)\n",
        "    l_result.append((n,\n",
        "                     roc_auc_score(y_test_pca, y_test_predict_proba),\n",
        "                     accuracy_score(y_test_pca, y_test_predict),\n",
        "                     f1_score(y_test_pca, y_test_predict, average=\"macro\")))"
      ],
      "execution_count": null,
      "outputs": [
        {
          "output_type": "stream",
          "text": [
            "Components=1; Accuracy on train by 3 folds : 0.6543107163066081\n",
            "Components=1; Accuracy on test : 0.6420745069393718\n",
            "Components=2; Accuracy on train by 3 folds : 0.7105378122968248\n",
            "Components=2; Accuracy on test : 0.706208911614317\n",
            "Components=3; Accuracy on train by 3 folds : 0.7812912569756797\n",
            "Components=3; Accuracy on test : 0.775018261504748\n",
            "Components=4; Accuracy on train by 3 folds : 0.7821678732446444\n",
            "Components=4; Accuracy on test : 0.7739956172388605\n",
            "Components=5; Accuracy on train by 3 folds : 0.7790369479484082\n",
            "Components=5; Accuracy on test : 0.7739956172388605\n",
            "Components=6; Accuracy on train by 3 folds : 0.7908082404587513\n",
            "Components=6; Accuracy on test : 0.7899196493791089\n",
            "Components=7; Accuracy on train by 3 folds : 0.8860436724252412\n",
            "Components=7; Accuracy on test : 0.8772826880934989\n",
            "Components=8; Accuracy on train by 3 folds : 0.8921795981592623\n",
            "Components=8; Accuracy on test : 0.8819576333089847\n",
            "Components=9; Accuracy on train by 3 folds : 0.8918040113313083\n",
            "Components=9; Accuracy on test : 0.8844411979547114\n",
            "Components=10; Accuracy on train by 3 folds : 0.8975644560961206\n",
            "Components=10; Accuracy on test : 0.8927684441197955\n",
            "Components=11; Accuracy on train by 3 folds : 0.8996306894194278\n",
            "Components=11; Accuracy on test : 0.8967129291453616\n",
            "Components=12; Accuracy on train by 3 folds : 0.897689628181273\n",
            "Components=12; Accuracy on test : 0.8967129291453616\n",
            "Components=13; Accuracy on train by 3 folds : 0.903199575868704\n",
            "Components=13; Accuracy on test : 0.8970051132213295\n",
            "Components=14; Accuracy on train by 3 folds : 0.9109012465408303\n",
            "Components=14; Accuracy on test : 0.8983199415631848\n",
            "Components=15; Accuracy on train by 3 folds : 0.9167868281045464\n",
            "Components=15; Accuracy on test : 0.9072315558802045\n",
            "Components=16; Accuracy on train by 3 folds : 0.9152840338335841\n",
            "Components=16; Accuracy on test : 0.9048940832724617\n",
            "Components=17; Accuracy on train by 3 folds : 0.9165362722167513\n",
            "Components=17; Accuracy on test : 0.9081081081081082\n",
            "Components=18; Accuracy on train by 3 folds : 0.9159101883114161\n",
            "Components=18; Accuracy on test : 0.9079620160701242\n",
            "Components=19; Accuracy on train by 3 folds : 0.9172876811143152\n",
            "Components=19; Accuracy on test : 0.9105916727538349\n",
            "Components=20; Accuracy on train by 3 folds : 0.9169745038976954\n",
            "Components=20; Accuracy on test : 0.9081081081081082\n",
            "Components=21; Accuracy on train by 3 folds : 0.917287516445156\n",
            "Components=21; Accuracy on test : 0.9075237399561724\n",
            "Components=22; Accuracy on train by 3 folds : 0.9200425020509545\n",
            "Components=22; Accuracy on test : 0.9113221329437545\n",
            "Components=23; Accuracy on train by 3 folds : 0.9206685741942068\n",
            "Components=23; Accuracy on test : 0.9119065010956903\n",
            "Components=24; Accuracy on train by 3 folds : 0.924613329761424\n",
            "Components=24; Accuracy on test : 0.91672753834916\n",
            "Components=25; Accuracy on train by 3 folds : 0.9256152122122036\n",
            "Components=25; Accuracy on test : 0.9142439737034331\n",
            "Components=26; Accuracy on train by 3 folds : 0.9248012878445602\n",
            "Components=26; Accuracy on test : 0.9155588020452885\n",
            "Components=27; Accuracy on train by 3 folds : 0.9236740804015519\n",
            "Components=27; Accuracy on test : 0.91672753834916\n",
            "Components=28; Accuracy on train by 3 folds : 0.9246134591443348\n",
            "Components=28; Accuracy on test : 0.9164353542731921\n",
            "Components=29; Accuracy on train by 3 folds : 0.925051573204451\n",
            "Components=29; Accuracy on test : 0.9193571950328707\n",
            "Components=30; Accuracy on train by 3 folds : 0.9253020702818322\n",
            "Components=30; Accuracy on test : 0.9162892622352082\n",
            "Components=31; Accuracy on train by 3 folds : 0.9264290660073501\n",
            "Components=31; Accuracy on test : 0.9184806428049671\n",
            "Components=32; Accuracy on train by 3 folds : 0.9253647268969051\n",
            "Components=32; Accuracy on test : 0.9176040905770636\n",
            "Components=33; Accuracy on train by 3 folds : 0.9259281306630017\n",
            "Components=33; Accuracy on test : 0.9184806428049671\n",
            "Components=34; Accuracy on train by 3 folds : 0.927556179353696\n",
            "Components=34; Accuracy on test : 0.9193571950328707\n",
            "Components=35; Accuracy on train by 3 folds : 0.9268673800228738\n",
            "Components=35; Accuracy on test : 0.9202337472607743\n",
            "Components=36; Accuracy on train by 3 folds : 0.9259281541871673\n",
            "Components=36; Accuracy on test : 0.9190650109569029\n",
            "Components=37; Accuracy on train by 3 folds : 0.9264290542452674\n",
            "Components=37; Accuracy on test : 0.9193571950328707\n",
            "Components=38; Accuracy on train by 3 folds : 0.9264289836727705\n",
            "Components=38; Accuracy on test : 0.920964207450694\n",
            "Components=39; Accuracy on train by 3 folds : 0.9276814102492624\n",
            "Components=39; Accuracy on test : 0.9202337472607743\n",
            "Components=40; Accuracy on train by 3 folds : 0.9291839692785689\n",
            "Components=40; Accuracy on test : 0.918918918918919\n",
            "Components=41; Accuracy on train by 3 folds : 0.9287456670251278\n",
            "Components=41; Accuracy on test : 0.9221329437545653\n",
            "Components=42; Accuracy on train by 3 folds : 0.9286832221275453\n",
            "Components=42; Accuracy on test : 0.9212563915266618\n",
            "Components=43; Accuracy on train by 3 folds : 0.9293093177949632\n",
            "Components=43; Accuracy on test : 0.9193571950328707\n",
            "Components=44; Accuracy on train by 3 folds : 0.928745772883873\n",
            "Components=44; Accuracy on test : 0.9219868517165815\n",
            "Components=45; Accuracy on train by 3 folds : 0.9291214890947379\n",
            "Components=45; Accuracy on test : 0.9206720233747261\n",
            "Components=46; Accuracy on train by 3 folds : 0.928495381665237\n",
            "Components=46; Accuracy on test : 0.9212563915266618\n",
            "Components=47; Accuracy on train by 3 folds : 0.9288711802106815\n",
            "Components=47; Accuracy on test : 0.9206720233747261\n",
            "Components=48; Accuracy on train by 3 folds : 0.9283701742938363\n",
            "Components=48; Accuracy on test : 0.9216946676406136\n"
          ],
          "name": "stdout"
        }
      ]
    },
    {
      "cell_type": "code",
      "metadata": {
        "scrolled": true,
        "id": "vnBl32OUqnZ9",
        "outputId": "cd657120-265f-4b30-f19b-d38b82ae362a"
      },
      "source": [
        "# Сортируем по ROC_AUC и F1-score в Test\n",
        "#l_result.sort(key=lambda x:x[1]*10+x[3],reverse=True)\n",
        "# Сортировать по F1-score\n",
        "l_result.sort(key=lambda x:x[3],reverse=True)\n",
        "l_result"
      ],
      "execution_count": null,
      "outputs": [
        {
          "output_type": "execute_result",
          "data": {
            "text/plain": [
              "[(41, 0.9764652871650896, 0.9221329437545653, 0.9220882194165694),\n",
              " (44, 0.9770412889189625, 0.9219868517165815, 0.9219358269583157),\n",
              " (48, 0.9765078021900532, 0.9216946676406136, 0.9216491410901448),\n",
              " (46, 0.9767587091345665, 0.9212563915266618, 0.921213344245509),\n",
              " (42, 0.9762328204723674, 0.9212563915266618, 0.9212042983360609),\n",
              " (38, 0.9761018605360343, 0.920964207450694, 0.9209045423556466),\n",
              " (45, 0.977015464029301, 0.9206720233747261, 0.9206253411932469),\n",
              " (47, 0.9767164502242113, 0.9206720233747261, 0.9206195435927294),\n",
              " (35, 0.9752408885947556, 0.9202337472607743, 0.9201815758787273),\n",
              " (39, 0.975627194795478, 0.9202337472607743, 0.9201702825499988),\n",
              " (43, 0.9766985648874043, 0.9193571950328707, 0.9193168844928283),\n",
              " (29, 0.9753236136132085, 0.9193571950328707, 0.9193056498090215),\n",
              " (37, 0.9760318131906878, 0.9193571950328707, 0.9193032370455558),\n",
              " (34, 0.9745009308058579, 0.9193571950328707, 0.9192930329076912),\n",
              " (36, 0.9756995044865303, 0.9190650109569029, 0.9190032599215896),\n",
              " (40, 0.9758594480593599, 0.918918918918919, 0.9188640525256949),\n",
              " (33, 0.9743455546102082, 0.9184806428049671, 0.918414430963773),\n",
              " (31, 0.974417266700508, 0.9184806428049671, 0.9184102901326332),\n",
              " (32, 0.9747009990006409, 0.9176040905770636, 0.9175412249021238),\n",
              " (27, 0.9733777401915361, 0.91672753834916, 0.916661283980768),\n",
              " (24, 0.9740279298102548, 0.91672753834916, 0.9166570969665246),\n",
              " (28, 0.9733745387589335, 0.9164353542731921, 0.9163729401122482),\n",
              " (30, 0.9741137282040067, 0.9162892622352082, 0.9162247152132437),\n",
              " (26, 0.9727891888218609, 0.9155588020452885, 0.915487372011669),\n",
              " (25, 0.9731331080549239, 0.9142439737034331, 0.9141736039362427),\n",
              " (23, 0.9723034247816152, 0.9119065010956903, 0.911859539528243),\n",
              " (22, 0.9711580375679151, 0.9113221329437545, 0.9112699486267051),\n",
              " (19, 0.9697304547417317, 0.9105916727538349, 0.9105331949409912),\n",
              " (20, 0.9695483572552914, 0.9081081081081082, 0.9080566085332977),\n",
              " (17, 0.9690750147735442, 0.9081081081081082, 0.9080387377850307),\n",
              " (18, 0.9689202788644151, 0.9079620160701242, 0.9079018183216083),\n",
              " (21, 0.9690165779571036, 0.9075237399561724, 0.9074680003872225),\n",
              " (15, 0.9677415113801111, 0.9072315558802045, 0.9071585096755439),\n",
              " (16, 0.9680732651692839, 0.9048940832724617, 0.9048222866423768),\n",
              " (14, 0.9663866224168921, 0.8983199415631848, 0.8982608249976509),\n",
              " (13, 0.963789321489228, 0.8970051132213295, 0.896960769474035),\n",
              " (11, 0.9626145664671192, 0.8967129291453616, 0.8966684596002025),\n",
              " (12, 0.963691229594282, 0.8967129291453616, 0.8966536043668191),\n",
              " (10, 0.9610603776529419, 0.8927684441197955, 0.8927503128114986),\n",
              " (9, 0.9559363780579444, 0.8844411979547114, 0.8844276905993396),\n",
              " (8, 0.9550428795614225, 0.8819576333089847, 0.8819476331042165),\n",
              " (7, 0.9523066364588023, 0.8772826880934989, 0.8772722918410172),\n",
              " (6, 0.8732460631342999, 0.7899196493791089, 0.7897310518670426),\n",
              " (3, 0.8618567318785683, 0.775018261504748, 0.7747249290364185),\n",
              " (5, 0.8573060875198253, 0.7739956172388605, 0.7736113742827528),\n",
              " (4, 0.8595938312576952, 0.7739956172388605, 0.773566450161756),\n",
              " (2, 0.7803648625782922, 0.706208911614317, 0.7058038159793469),\n",
              " (1, 0.6816625184637289, 0.6420745069393718, 0.6353283813535852)]"
            ]
          },
          "metadata": {
            "tags": []
          },
          "execution_count": 117
        }
      ]
    },
    {
      "cell_type": "code",
      "metadata": {
        "scrolled": true,
        "id": "kvP0QFfGqnZ9",
        "outputId": "ae636762-e77c-4376-e02f-aae132f1dd9f"
      },
      "source": [
        "print(f'Best n_components by PCA: {l_result[0][0]}')"
      ],
      "execution_count": null,
      "outputs": [
        {
          "output_type": "stream",
          "text": [
            "Best n_components by PCA: 41\n"
          ],
          "name": "stdout"
        }
      ]
    },
    {
      "cell_type": "code",
      "metadata": {
        "id": "xwx4Ftr1qnZ9"
      },
      "source": [
        "parameters.best_pca_components_number = l_result[0][0]\n",
        "parameters.best_pca = PCA(n_components=parameters.best_pca_components_number, random_state=parameters.random_state)\n",
        "parameters.best_pca.fit(X_train_over);"
      ],
      "execution_count": null,
      "outputs": []
    },
    {
      "cell_type": "markdown",
      "metadata": {
        "id": "QCNH8s4gqnZ9"
      },
      "source": [
        "Видим улучшения в TEST с PCA."
      ]
    },
    {
      "cell_type": "code",
      "metadata": {
        "id": "max5DUMxqnZ9",
        "outputId": "ceeca455-e345-43ab-ba8d-cb1c2c0a86c7"
      },
      "source": [
        "plt.plot(np.cumsum(parameters.best_pca.explained_variance_ratio_))\n",
        "plt.title('Variance explanation by the components')\n",
        "plt.grid()\n",
        "plt.xlabel('number of components')\n",
        "plt.ylabel('cumulative explained variance');"
      ],
      "execution_count": null,
      "outputs": [
        {
          "output_type": "display_data",
          "data": {
            "image/png": "[encoded data removed]",
            "text/plain": [
              "<Figure size 432x288 with 1 Axes>"
            ]
          },
          "metadata": {
            "tags": [],
            "needs_background": "light"
          }
        }
      ]
    },
    {
      "cell_type": "markdown",
      "metadata": {
        "id": "GphTCNl9qnZ-"
      },
      "source": [
        "Похоже, для хорошего качества можно использовать даже 4 компонента.\n",
        "\n",
        "Проверим это:"
      ]
    },
    {
      "cell_type": "code",
      "metadata": {
        "id": "--4sT_LPqnZ-"
      },
      "source": [
        "test_pca = PCA(n_components=4, random_state=parameters.random_state)\n",
        "test_ds_pc = test_pca.fit_transform(X_train_over)\n",
        "test_df_pc = pd.DataFrame(data = test_ds_pc, columns = ['pc'+str(i) for i in range(4)])\n",
        "X_comp_train_pca, X_comp_test_pca, y_comp_train_pca, y_comp_test_pca = train_test_split(test_df_pc, y_train_over, stratify=y_train_over, test_size=parameters.test_size, random_state=parameters.random_state)"
      ],
      "execution_count": null,
      "outputs": []
    },
    {
      "cell_type": "code",
      "metadata": {
        "id": "aIWHA2M1qnZ-",
        "outputId": "d7e69115-e777-413c-8786-aeaf0c6a6645"
      },
      "source": [
        "%%time\n",
        "params = {'n_estimators':[50,100,200],\n",
        "          'max_depth':range(5,13),\n",
        "          'random_state':[parameters.random_state],\n",
        "          'n_jobs':[-1]}\n",
        "\n",
        "rf_comp_grid = GridSearchCV(XGBClassifier(), param_grid=params, verbose=0, n_jobs=-1, cv=parameters.n_folds)\n",
        "rf_comp_grid.fit(X_comp_train_pca,y_comp_train_pca)\n",
        "print(rf_comp_grid.best_params_)\n",
        "\n",
        "rf_comp_pred = rf_comp_grid.predict(X_comp_test_pca)\n",
        "rf_comp_pred_proba = rf_comp_grid.predict_proba(X_comp_test_pca)[::,1]\n",
        "print (f\"Test ROC_AUC   : {roc_auc_score(y_comp_test_pca, rf_comp_pred_proba):.5f}\")\n",
        "print (f\"Test Accuracy  : {accuracy_score(y_comp_test_pca,rf_comp_pred):.5f}\")\n",
        "print (f\"Test F1-score  : {f1_score(y_comp_test_pca,rf_comp_pred,average='macro'):.5f}\")\n",
        "print (f\"Test Precision : {precision_score(y_comp_test_pca,rf_comp_pred,average='macro'):.5f}\")\n",
        "print (f\"Test Recall    : {recall_score(y_comp_test_pca,rf_comp_pred,average='macro'):.5f}\")"
      ],
      "execution_count": null,
      "outputs": [
        {
          "output_type": "stream",
          "text": [
            "{'max_depth': 11, 'n_estimators': 200, 'n_jobs': -1, 'random_state': 7}\n",
            "Test ROC_AUC   : 0.91842\n",
            "Test Accuracy  : 0.83974\n",
            "Test F1-score  : 0.83947\n",
            "Test Precision : 0.84201\n",
            "Test Recall    : 0.83973\n",
            "CPU times: user 34.7 s, sys: 162 ms, total: 34.9 s\n",
            "Wall time: 59.2 s\n"
          ],
          "name": "stdout"
        }
      ]
    },
    {
      "cell_type": "markdown",
      "metadata": {
        "id": "6P5OYqbdqnZ-"
      },
      "source": [
        "Не все так хорошо.\n",
        "\n",
        "Вернемся к лучшему номеру компонента:"
      ]
    },
    {
      "cell_type": "code",
      "metadata": {
        "id": "owIXW0kUqnZ_"
      },
      "source": [
        "ds_pc = parameters.best_pca.transform(X_train_over)\n",
        "df_pc = pd.DataFrame(data = ds_pc, columns = ['pc'+str(i) for i in range(parameters.best_pca_components_number)])\n",
        "X_train_pca, X_test_pca, y_train_pca, y_test_pca = train_test_split(df_pc, y_train_over, stratify=y_train_over, test_size=parameters.test_size, random_state=parameters.random_state)"
      ],
      "execution_count": null,
      "outputs": []
    },
    {
      "cell_type": "code",
      "metadata": {
        "id": "1IA8uPfKqnZ_",
        "outputId": "310c295d-9923-4d2a-efdc-a421de2fc196"
      },
      "source": [
        "%%time\n",
        "params = {'n_estimators':[50,100,200],\n",
        "          'max_depth':range(5,13),\n",
        "          'random_state':[parameters.random_state],\n",
        "          'n_jobs':[-1]}\n",
        "\n",
        "rf_grid = GridSearchCV(XGBClassifier(), param_grid=params, verbose=0, n_jobs=-1, cv=parameters.n_folds)\n",
        "rf_grid.fit(X_train_pca,y_train_pca)\n",
        "print(rf_grid.best_params_)"
      ],
      "execution_count": null,
      "outputs": [
        {
          "output_type": "stream",
          "text": [
            "{'max_depth': 9, 'n_estimators': 200, 'n_jobs': -1, 'random_state': 7}\n",
            "CPU times: user 2min 12s, sys: 418 ms, total: 2min 12s\n",
            "Wall time: 6min 29s\n"
          ],
          "name": "stdout"
        }
      ]
    },
    {
      "cell_type": "code",
      "metadata": {
        "id": "0VCp1CD0qnZ_",
        "outputId": "006efade-50e3-48f7-9709-e8aaee402c82"
      },
      "source": [
        "rf_pca = rf_grid.best_estimator_\n",
        "rf_pca.fit(X_train_pca,y_train_pca)\n",
        "rf_pred = rf_pca.predict(X_test_pca)\n",
        "y_pred_proba = rf_pca.predict_proba(X_test_pca)[::,1]\n",
        "\n",
        "print (f\"Test ROC_AUC   : {roc_auc_score(y_test_pca, y_pred_proba):.5f}\")\n",
        "print (f\"Test Accuracy  : {accuracy_score(y_test_pca,rf_pred):.5f}\")\n",
        "print (f\"Test F1-score  : {f1_score(y_test_pca,rf_pred,average='macro'):.5f}\")\n",
        "print (f\"Test Precision : {precision_score(y_test_pca,rf_pred,average='macro'):.5f}\")\n",
        "print (f\"Test Recall    : {recall_score(y_test_pca,rf_pred,average='macro'):.5f}\")"
      ],
      "execution_count": null,
      "outputs": [
        {
          "output_type": "stream",
          "text": [
            "Test ROC_AUC   : 0.99180\n",
            "Test Accuracy  : 0.95690\n",
            "Test F1-score  : 0.95689\n",
            "Test Precision : 0.95746\n",
            "Test Recall    : 0.95690\n"
          ],
          "name": "stdout"
        }
      ]
    },
    {
      "cell_type": "code",
      "metadata": {
        "id": "GXqvHyB4qnZ_",
        "outputId": "bb666c79-8c8a-4a93-a9ba-d17a29d1699c"
      },
      "source": [
        "fpr, tpr, _ = roc_curve(y_test_pca,  y_pred_proba)\n",
        "auc = roc_auc_score(y_test_pca, y_pred_proba)\n",
        "plt.plot(fpr,tpr,label=\"auc=\"+str(auc))\n",
        "plt.title('ROC curve')\n",
        "plt.legend(loc=4)\n",
        "plt.grid()\n",
        "plt.xlabel('False positive rate')\n",
        "plt.ylabel('True positive rate');"
      ],
      "execution_count": null,
      "outputs": [
        {
          "output_type": "display_data",
          "data": {
            "image/png": "[encoded data removed]",
            "text/plain": [
              "<Figure size 432x288 with 1 Axes>"
            ]
          },
          "metadata": {
            "tags": [],
            "needs_background": "light"
          }
        }
      ]
    },
    {
      "cell_type": "code",
      "metadata": {
        "id": "ZZLAhjAAqnaA",
        "outputId": "3aedf5e9-b986-431a-89b8-4c53541e2700"
      },
      "source": [
        "# Посмотрим на важность функций\n",
        "features = list(X_train_pca.columns.values)\n",
        "importances = rf_pca.feature_importances_[0:20]\n",
        "indices = np.argsort(importances)\n",
        "\n",
        "plt.title('Feature Importances for XGBoost and PCA')\n",
        "plt.barh(range(len(indices)), importances[indices], color='b', align='center')\n",
        "plt.yticks(range(len(indices)), [features[i] for i in indices])\n",
        "plt.xlabel('Relative Importance')\n",
        "plt.show()"
      ],
      "execution_count": null,
      "outputs": [
        {
          "output_type": "display_data",
          "data": {
            "image/png": "[encoded data removed]",
            "text/plain": [
              "<Figure size 432x288 with 1 Axes>"
            ]
          },
          "metadata": {
            "tags": [],
            "needs_background": "light"
          }
        }
      ]
    },
    {
      "cell_type": "code",
      "metadata": {
        "id": "ZlVdn3khqnaA",
        "outputId": "89513027-5de3-4bdf-8126-198a5f0445ce"
      },
      "source": [
        "fig, ax = plt.subplots(figsize=(28,8))\n",
        "sns.heatmap(pd.DataFrame(parameters.best_pca.components_,columns=X_train_over.columns,index = features).loc[[features[i] for i in indices[::-1]]],cmap=\"RdYlGn\",vmin=-1,vmax=1);"
      ],
      "execution_count": null,
      "outputs": [
        {
          "output_type": "display_data",
          "data": {
            "image/png": "[encoded data removed]",
            "text/plain": [
              "<Figure size 2016x576 with 2 Axes>"
            ]
          },
          "metadata": {
            "tags": [],
            "needs_background": "light"
          }
        }
      ]
    },
    {
      "cell_type": "markdown",
      "metadata": {
        "id": "SfEoqprfqnaA"
      },
      "source": [
        "Проверим самую важную функцию PC6"
      ]
    },
    {
      "cell_type": "code",
      "metadata": {
        "id": "Ldsy__4rqnaA"
      },
      "source": [
        "pcs = pd.DataFrame(parameters.best_pca.components_,columns=X_train_over.columns,index = features).loc['pc6']"
      ],
      "execution_count": null,
      "outputs": []
    },
    {
      "cell_type": "markdown",
      "metadata": {
        "id": "Q9fmzmo6qnaA"
      },
      "source": [
        "Посмотрим на настоящие функции внутри PC6"
      ]
    },
    {
      "cell_type": "code",
      "metadata": {
        "id": "49YMxx9wqnaA",
        "outputId": "80c05685-b30c-46a4-fbcf-279cd7f0029e"
      },
      "source": [
        "pcs.sort_values()"
      ],
      "execution_count": null,
      "outputs": [
        {
          "output_type": "execute_result",
          "data": {
            "text/plain": [
              "CURRENCY_EUR               -0.470389\n",
              "TERMS_VERSION_2018-09-20   -0.259930\n",
              "TERMS_VERSION_2018-05-25   -0.191110\n",
              "STATE_COMPLETED            -0.166100\n",
              "KYC_PASSED                 -0.135404\n",
              "                              ...   \n",
              "KYC_PENDING                 0.119044\n",
              "ENTRY_METHOD_manu           0.166564\n",
              "HOMELAND                    0.193090\n",
              "TERMS_VERSION_2018-03-20    0.437195\n",
              "CURRENCY_GBP                0.559896\n",
              "Name: pc6, Length: 196, dtype: float64"
            ]
          },
          "metadata": {
            "tags": []
          },
          "execution_count": 130
        }
      ]
    },
    {
      "cell_type": "markdown",
      "metadata": {
        "id": "E6WCFE1mqnaB"
      },
      "source": [
        "Видим, что внутри PC6 есть другие наиболее взвешенные функции, чем FeatureImportance of RF с реальными функциями, но есть некоторые общие.\n",
        "\n",
        "Хорошо, сохраните список функций в параметре модели и сохраните модель в артефакте"
      ]
    },
    {
      "cell_type": "code",
      "metadata": {
        "id": "m5TibjV3qnaB"
      },
      "source": [
        "pickle.dump(rf_pca, open(parameters.model_pkl, 'wb'))"
      ],
      "execution_count": null,
      "outputs": []
    },
    {
      "cell_type": "markdown",
      "metadata": {
        "id": "TVakykvuqnaB"
      },
      "source": [
        "## **Operationalization**\n",
        "- Как использовать эту модель для поимки мошенников? Если мошенник обнаружен, какое действие должно произойти: LOCK_USER, ALERT_AGENT или BOTH?\n",
        "- Сделаем патрульную функцию, реализующую эту логику. Функция должна принимать user_id и выдавать предлагаемые действия (например, patrol (user_id) = ['LOCK_USER', 'ALERT_AGENT'])"
      ]
    },
    {
      "cell_type": "markdown",
      "metadata": {
        "id": "8i-iTXKAqnaC"
      },
      "source": [
        "**Теперь мы можем:**\n",
        "\n",
        "* проверить, является ли отдельная транзакция мошеннической.\n",
        "* проверить всего пользователя на все его транзакции\n",
        "\n",
        "В бинарной классификации мы могли бы использовать прогноз-вероятность, чтобы предсказать процент вероятности того, что это мошенник. Думаю, было бы полезно работать с тремя уровнями внимания:\n",
        "\n",
        "* Если процент больше первого уровня (например, 50%), нам нужен ALERT.\n",
        "* Если процент больше второго уровня (например, 75%), нам нужны БЛОКИРОВКА и ТРЕВОГА.\n",
        "* Если процент больше максимального уровня (например, 90%), нам нужна БЛОКИРОВКА."
      ]
    },
    {
      "cell_type": "code",
      "metadata": {
        "id": "LHufmg0XqnaC",
        "outputId": "90ef2876-16b3-47ef-a4aa-bbfb3505ab10"
      },
      "source": [
        "# загружаем нашу предварительно обученную модель\n",
        "#rf = joblib.load(parameters.model_pkl)\n",
        "rf = pickle.load(open(parameters.model_pkl,'rb'))\n",
        "print('Pretrained model: ', rf)\n",
        "#print('\\nFeatures of this model: ', rf.feature_names)\n",
        "print('\\nFeatures of this model: ', list(X_train_pca.columns.values))"
      ],
      "execution_count": null,
      "outputs": [
        {
          "output_type": "stream",
          "text": [
            "Pretrained model:  XGBClassifier(base_score=0.5, booster='gbtree', colsample_bylevel=1,\n",
            "              colsample_bytree=1, gamma=0, learning_rate=0.1, max_delta_step=0,\n",
            "              max_depth=9, min_child_weight=1, missing=nan, n_estimators=200,\n",
            "              n_jobs=-1, nthread=None, objective='binary:logistic',\n",
            "              random_state=7, reg_alpha=0, reg_lambda=1, scale_pos_weight=1,\n",
            "              seed=None, silent=True, subsample=1)\n",
            "\n",
            "Features of this model:  ['pc0', 'pc1', 'pc2', 'pc3', 'pc4', 'pc5', 'pc6', 'pc7', 'pc8', 'pc9', 'pc10', 'pc11', 'pc12', 'pc13', 'pc14', 'pc15', 'pc16', 'pc17', 'pc18', 'pc19', 'pc20', 'pc21', 'pc22', 'pc23', 'pc24', 'pc25', 'pc26', 'pc27', 'pc28', 'pc29', 'pc30', 'pc31', 'pc32', 'pc33', 'pc34', 'pc35', 'pc36', 'pc37', 'pc38', 'pc39', 'pc40']\n"
          ],
          "name": "stdout"
        }
      ]
    },
    {
      "cell_type": "code",
      "metadata": {
        "id": "4Gu__9BrqnaC",
        "outputId": "a9827549-c085-45a1-d7aa-b008e4511aac"
      },
      "source": [
        "# Посмотрим на мошенников\n",
        "user_df = pd.read_csv(parameters.user_dataset)\n",
        "user_df[user_df['IS_FRAUDSTER']==True].head()"
      ],
      "execution_count": null,
      "outputs": [
        {
          "output_type": "execute_result",
          "data": {
            "text/html": [
              "<div>\n",
              "<style scoped>\n",
              "    .dataframe tbody tr th:only-of-type {\n",
              "        vertical-align: middle;\n",
              "    }\n",
              "\n",
              "    .dataframe tbody tr th {\n",
              "        vertical-align: top;\n",
              "    }\n",
              "\n",
              "    .dataframe thead th {\n",
              "        text-align: right;\n",
              "    }\n",
              "</style>\n",
              "<table border=\"1\" class=\"dataframe\">\n",
              "  <thead>\n",
              "    <tr style=\"text-align: right;\">\n",
              "      <th></th>\n",
              "      <th>ID</th>\n",
              "      <th>HAS_EMAIL</th>\n",
              "      <th>PHONE_COUNTRY</th>\n",
              "      <th>IS_FRAUDSTER</th>\n",
              "      <th>TERMS_VERSION</th>\n",
              "      <th>CREATED_DATE</th>\n",
              "      <th>STATE</th>\n",
              "      <th>COUNTRY</th>\n",
              "      <th>BIRTH_YEAR</th>\n",
              "      <th>KYC</th>\n",
              "      <th>FAILED_SIGN_IN_ATTEMPTS</th>\n",
              "    </tr>\n",
              "  </thead>\n",
              "  <tbody>\n",
              "    <tr>\n",
              "      <td>8166</td>\n",
              "      <td>5270b0f4-2e4a-4ec9-8648-2135312ac1c4</td>\n",
              "      <td>1</td>\n",
              "      <td>GB||JE||IM||GG</td>\n",
              "      <td>True</td>\n",
              "      <td>NaN</td>\n",
              "      <td>2017-09-19 01:55:22.376000</td>\n",
              "      <td>LOCKED</td>\n",
              "      <td>GB</td>\n",
              "      <td>1988</td>\n",
              "      <td>NONE</td>\n",
              "      <td>0</td>\n",
              "    </tr>\n",
              "    <tr>\n",
              "      <td>8167</td>\n",
              "      <td>848fc1b1-096c-40f7-b04a-1399c469e421</td>\n",
              "      <td>1</td>\n",
              "      <td>PL</td>\n",
              "      <td>True</td>\n",
              "      <td>2018-05-25</td>\n",
              "      <td>2018-06-16 15:55:43.800000</td>\n",
              "      <td>LOCKED</td>\n",
              "      <td>GB</td>\n",
              "      <td>1994</td>\n",
              "      <td>PASSED</td>\n",
              "      <td>0</td>\n",
              "    </tr>\n",
              "    <tr>\n",
              "      <td>8168</td>\n",
              "      <td>27c76eda-e159-4df3-845a-e13f4e28a8b5</td>\n",
              "      <td>1</td>\n",
              "      <td>GB||JE||IM||GG</td>\n",
              "      <td>True</td>\n",
              "      <td>2018-05-25</td>\n",
              "      <td>2018-05-11 18:20:45.608000</td>\n",
              "      <td>LOCKED</td>\n",
              "      <td>GB</td>\n",
              "      <td>1997</td>\n",
              "      <td>PASSED</td>\n",
              "      <td>0</td>\n",
              "    </tr>\n",
              "    <tr>\n",
              "      <td>8169</td>\n",
              "      <td>a27088ef-9452-403d-9bbb-f7b10180cdda</td>\n",
              "      <td>1</td>\n",
              "      <td>IN</td>\n",
              "      <td>True</td>\n",
              "      <td>2018-05-25</td>\n",
              "      <td>2018-05-18 16:41:12.267000</td>\n",
              "      <td>LOCKED</td>\n",
              "      <td>BE</td>\n",
              "      <td>1989</td>\n",
              "      <td>PASSED</td>\n",
              "      <td>0</td>\n",
              "    </tr>\n",
              "    <tr>\n",
              "      <td>8170</td>\n",
              "      <td>fb23710b-609a-49bf-8a9a-be49c59ce6de</td>\n",
              "      <td>1</td>\n",
              "      <td>LT</td>\n",
              "      <td>True</td>\n",
              "      <td>2018-03-20</td>\n",
              "      <td>2018-03-29 13:37:29.736000</td>\n",
              "      <td>LOCKED</td>\n",
              "      <td>LT</td>\n",
              "      <td>1992</td>\n",
              "      <td>PASSED</td>\n",
              "      <td>0</td>\n",
              "    </tr>\n",
              "  </tbody>\n",
              "</table>\n",
              "</div>"
            ],
            "text/plain": [
              "                                        ID  HAS_EMAIL   PHONE_COUNTRY  \\\n",
              "8166  5270b0f4-2e4a-4ec9-8648-2135312ac1c4          1  GB||JE||IM||GG   \n",
              "8167  848fc1b1-096c-40f7-b04a-1399c469e421          1              PL   \n",
              "8168  27c76eda-e159-4df3-845a-e13f4e28a8b5          1  GB||JE||IM||GG   \n",
              "8169  a27088ef-9452-403d-9bbb-f7b10180cdda          1              IN   \n",
              "8170  fb23710b-609a-49bf-8a9a-be49c59ce6de          1              LT   \n",
              "\n",
              "      IS_FRAUDSTER TERMS_VERSION                CREATED_DATE   STATE COUNTRY  \\\n",
              "8166          True           NaN  2017-09-19 01:55:22.376000  LOCKED      GB   \n",
              "8167          True    2018-05-25  2018-06-16 15:55:43.800000  LOCKED      GB   \n",
              "8168          True    2018-05-25  2018-05-11 18:20:45.608000  LOCKED      GB   \n",
              "8169          True    2018-05-25  2018-05-18 16:41:12.267000  LOCKED      BE   \n",
              "8170          True    2018-03-20  2018-03-29 13:37:29.736000  LOCKED      LT   \n",
              "\n",
              "      BIRTH_YEAR     KYC  FAILED_SIGN_IN_ATTEMPTS  \n",
              "8166        1988    NONE                        0  \n",
              "8167        1994  PASSED                        0  \n",
              "8168        1997  PASSED                        0  \n",
              "8169        1989  PASSED                        0  \n",
              "8170        1992  PASSED                        0  "
            ]
          },
          "metadata": {
            "tags": []
          },
          "execution_count": 133
        }
      ]
    },
    {
      "cell_type": "code",
      "metadata": {
        "id": "foX31wJPqnaC"
      },
      "source": [
        "# Тестовое предсказание на основе полных наборов данных из файла\n",
        "# загружаем данные из файла\n",
        "df = pd.read_csv(parameters.dataset_file_name)[parameters.cols_to_select]"
      ],
      "execution_count": null,
      "outputs": []
    },
    {
      "cell_type": "code",
      "metadata": {
        "id": "BqT875ObqnaC"
      },
      "source": [
        "# Создадим фиктивные столбцы для категориальных переменных\n",
        "df = pd.get_dummies(df, columns=parameters.cat_features)"
      ],
      "execution_count": null,
      "outputs": []
    },
    {
      "cell_type": "code",
      "metadata": {
        "id": "tiDpuJseqnaD"
      },
      "source": [
        "ds_pc = parameters.best_pca.transform(df.drop(parameters.id_features + [parameters.target_feature] + ['CREATED_DATE_x'], axis=1))\n",
        "df = pd.concat([pd.DataFrame(data = ds_pc, columns = ['pc'+str(i) for i in range(parameters.best_pca_components_number)]), df[parameters.id_features + [parameters.target_feature]]], axis=1)"
      ],
      "execution_count": null,
      "outputs": []
    },
    {
      "cell_type": "code",
      "metadata": {
        "id": "WFut_aPcqnaD",
        "outputId": "b5972a65-cef9-4013-8a8e-2e66410351ce"
      },
      "source": [
        "df.head()"
      ],
      "execution_count": null,
      "outputs": [
        {
          "output_type": "execute_result",
          "data": {
            "text/html": [
              "<div>\n",
              "<style scoped>\n",
              "    .dataframe tbody tr th:only-of-type {\n",
              "        vertical-align: middle;\n",
              "    }\n",
              "\n",
              "    .dataframe tbody tr th {\n",
              "        vertical-align: top;\n",
              "    }\n",
              "\n",
              "    .dataframe thead th {\n",
              "        text-align: right;\n",
              "    }\n",
              "</style>\n",
              "<table border=\"1\" class=\"dataframe\">\n",
              "  <thead>\n",
              "    <tr style=\"text-align: right;\">\n",
              "      <th></th>\n",
              "      <th>pc0</th>\n",
              "      <th>pc1</th>\n",
              "      <th>pc2</th>\n",
              "      <th>pc3</th>\n",
              "      <th>pc4</th>\n",
              "      <th>pc5</th>\n",
              "      <th>pc6</th>\n",
              "      <th>pc7</th>\n",
              "      <th>pc8</th>\n",
              "      <th>pc9</th>\n",
              "      <th>...</th>\n",
              "      <th>pc34</th>\n",
              "      <th>pc35</th>\n",
              "      <th>pc36</th>\n",
              "      <th>pc37</th>\n",
              "      <th>pc38</th>\n",
              "      <th>pc39</th>\n",
              "      <th>pc40</th>\n",
              "      <th>USER_ID</th>\n",
              "      <th>TRN_ID</th>\n",
              "      <th>IS_FRAUDSTER</th>\n",
              "    </tr>\n",
              "  </thead>\n",
              "  <tbody>\n",
              "    <tr>\n",
              "      <td>0</td>\n",
              "      <td>-216.929639</td>\n",
              "      <td>-68.549575</td>\n",
              "      <td>24.763310</td>\n",
              "      <td>1.292724</td>\n",
              "      <td>0.112950</td>\n",
              "      <td>1.247565</td>\n",
              "      <td>0.274153</td>\n",
              "      <td>-0.310793</td>\n",
              "      <td>-0.866494</td>\n",
              "      <td>0.962703</td>\n",
              "      <td>...</td>\n",
              "      <td>-0.049566</td>\n",
              "      <td>-0.010845</td>\n",
              "      <td>-0.424098</td>\n",
              "      <td>-0.212813</td>\n",
              "      <td>0.694716</td>\n",
              "      <td>-0.270411</td>\n",
              "      <td>0.006191</td>\n",
              "      <td>8f99c254-7cf2-4e35-b7e4-53804d42445d</td>\n",
              "      <td>b3332e6f-7865-4d6e-b6a5-370bc75568d8</td>\n",
              "      <td>0</td>\n",
              "    </tr>\n",
              "    <tr>\n",
              "      <td>1</td>\n",
              "      <td>-216.928474</td>\n",
              "      <td>-69.549775</td>\n",
              "      <td>24.768030</td>\n",
              "      <td>1.288133</td>\n",
              "      <td>1.112665</td>\n",
              "      <td>1.247515</td>\n",
              "      <td>0.272426</td>\n",
              "      <td>-0.317097</td>\n",
              "      <td>-0.868909</td>\n",
              "      <td>0.963644</td>\n",
              "      <td>...</td>\n",
              "      <td>-0.048805</td>\n",
              "      <td>-0.011546</td>\n",
              "      <td>-0.422580</td>\n",
              "      <td>-0.212674</td>\n",
              "      <td>0.695812</td>\n",
              "      <td>-0.270049</td>\n",
              "      <td>0.006418</td>\n",
              "      <td>8f99c254-7cf2-4e35-b7e4-53804d42445d</td>\n",
              "      <td>bf0e3adf-a932-4e3d-be9c-45d702febf03</td>\n",
              "      <td>0</td>\n",
              "    </tr>\n",
              "    <tr>\n",
              "      <td>2</td>\n",
              "      <td>-216.478474</td>\n",
              "      <td>-69.549269</td>\n",
              "      <td>24.768076</td>\n",
              "      <td>1.287606</td>\n",
              "      <td>1.112668</td>\n",
              "      <td>1.240087</td>\n",
              "      <td>0.272905</td>\n",
              "      <td>-0.311351</td>\n",
              "      <td>-0.849784</td>\n",
              "      <td>0.959907</td>\n",
              "      <td>...</td>\n",
              "      <td>-0.023822</td>\n",
              "      <td>0.012617</td>\n",
              "      <td>-0.068847</td>\n",
              "      <td>0.015942</td>\n",
              "      <td>-0.046384</td>\n",
              "      <td>0.087151</td>\n",
              "      <td>-0.017812</td>\n",
              "      <td>8f99c254-7cf2-4e35-b7e4-53804d42445d</td>\n",
              "      <td>f5e63142-4577-482a-884e-b5b8b8526872</td>\n",
              "      <td>0</td>\n",
              "    </tr>\n",
              "    <tr>\n",
              "      <td>3</td>\n",
              "      <td>-216.579670</td>\n",
              "      <td>-68.544937</td>\n",
              "      <td>24.854563</td>\n",
              "      <td>6.298272</td>\n",
              "      <td>-0.859248</td>\n",
              "      <td>0.965408</td>\n",
              "      <td>0.281030</td>\n",
              "      <td>-0.145858</td>\n",
              "      <td>-0.725661</td>\n",
              "      <td>0.906428</td>\n",
              "      <td>...</td>\n",
              "      <td>-0.003130</td>\n",
              "      <td>-0.012158</td>\n",
              "      <td>0.010409</td>\n",
              "      <td>-0.012874</td>\n",
              "      <td>-0.020747</td>\n",
              "      <td>0.020346</td>\n",
              "      <td>0.004649</td>\n",
              "      <td>8f99c254-7cf2-4e35-b7e4-53804d42445d</td>\n",
              "      <td>839a3fbd-ea6c-4867-ae00-9048d636c261</td>\n",
              "      <td>0</td>\n",
              "    </tr>\n",
              "    <tr>\n",
              "      <td>4</td>\n",
              "      <td>-213.829671</td>\n",
              "      <td>-68.542362</td>\n",
              "      <td>24.834123</td>\n",
              "      <td>5.297288</td>\n",
              "      <td>-0.865640</td>\n",
              "      <td>1.233410</td>\n",
              "      <td>0.290514</td>\n",
              "      <td>-0.314683</td>\n",
              "      <td>-0.872956</td>\n",
              "      <td>0.957055</td>\n",
              "      <td>...</td>\n",
              "      <td>-0.050067</td>\n",
              "      <td>-0.013495</td>\n",
              "      <td>-0.423451</td>\n",
              "      <td>-0.213486</td>\n",
              "      <td>0.690868</td>\n",
              "      <td>-0.272379</td>\n",
              "      <td>0.006979</td>\n",
              "      <td>8f99c254-7cf2-4e35-b7e4-53804d42445d</td>\n",
              "      <td>12974850-86c9-44e8-ac27-af0fca755dbf</td>\n",
              "      <td>0</td>\n",
              "    </tr>\n",
              "  </tbody>\n",
              "</table>\n",
              "<p>5 rows × 44 columns</p>\n",
              "</div>"
            ],
            "text/plain": [
              "          pc0        pc1        pc2       pc3       pc4       pc5       pc6  \\\n",
              "0 -216.929639 -68.549575  24.763310  1.292724  0.112950  1.247565  0.274153   \n",
              "1 -216.928474 -69.549775  24.768030  1.288133  1.112665  1.247515  0.272426   \n",
              "2 -216.478474 -69.549269  24.768076  1.287606  1.112668  1.240087  0.272905   \n",
              "3 -216.579670 -68.544937  24.854563  6.298272 -0.859248  0.965408  0.281030   \n",
              "4 -213.829671 -68.542362  24.834123  5.297288 -0.865640  1.233410  0.290514   \n",
              "\n",
              "        pc7       pc8       pc9  ...      pc34      pc35      pc36      pc37  \\\n",
              "0 -0.310793 -0.866494  0.962703  ... -0.049566 -0.010845 -0.424098 -0.212813   \n",
              "1 -0.317097 -0.868909  0.963644  ... -0.048805 -0.011546 -0.422580 -0.212674   \n",
              "2 -0.311351 -0.849784  0.959907  ... -0.023822  0.012617 -0.068847  0.015942   \n",
              "3 -0.145858 -0.725661  0.906428  ... -0.003130 -0.012158  0.010409 -0.012874   \n",
              "4 -0.314683 -0.872956  0.957055  ... -0.050067 -0.013495 -0.423451 -0.213486   \n",
              "\n",
              "       pc38      pc39      pc40                               USER_ID  \\\n",
              "0  0.694716 -0.270411  0.006191  8f99c254-7cf2-4e35-b7e4-53804d42445d   \n",
              "1  0.695812 -0.270049  0.006418  8f99c254-7cf2-4e35-b7e4-53804d42445d   \n",
              "2 -0.046384  0.087151 -0.017812  8f99c254-7cf2-4e35-b7e4-53804d42445d   \n",
              "3 -0.020747  0.020346  0.004649  8f99c254-7cf2-4e35-b7e4-53804d42445d   \n",
              "4  0.690868 -0.272379  0.006979  8f99c254-7cf2-4e35-b7e4-53804d42445d   \n",
              "\n",
              "                                 TRN_ID  IS_FRAUDSTER  \n",
              "0  b3332e6f-7865-4d6e-b6a5-370bc75568d8             0  \n",
              "1  bf0e3adf-a932-4e3d-be9c-45d702febf03             0  \n",
              "2  f5e63142-4577-482a-884e-b5b8b8526872             0  \n",
              "3  839a3fbd-ea6c-4867-ae00-9048d636c261             0  \n",
              "4  12974850-86c9-44e8-ac27-af0fca755dbf             0  \n",
              "\n",
              "[5 rows x 44 columns]"
            ]
          },
          "metadata": {
            "tags": []
          },
          "execution_count": 137
        }
      ]
    },
    {
      "cell_type": "markdown",
      "metadata": {
        "id": "-dsBGuoNqnaD"
      },
      "source": [
        "### **1. Мы можем проверить все транзакции одного и того же мошенника**"
      ]
    },
    {
      "cell_type": "code",
      "metadata": {
        "id": "Fb7DB4gLqnaD"
      },
      "source": [
        "X = df[df['USER_ID']=='848fc1b1-096c-40f7-b04a-1399c469e421'].drop(parameters.id_features + [parameters.target_feature],axis=1)\n",
        "y_pred = rf.predict_proba(X)[1]"
      ],
      "execution_count": null,
      "outputs": []
    },
    {
      "cell_type": "code",
      "metadata": {
        "id": "LtyVyzZgqnaD",
        "outputId": "38f7bcab-1f46-4331-a1f9-3a03b3a275ab"
      },
      "source": [
        "rf.classes_, rf.predict_proba(X)"
      ],
      "execution_count": null,
      "outputs": [
        {
          "output_type": "execute_result",
          "data": {
            "text/plain": [
              "(array([0, 1]), array([[0.02365178, 0.9763482 ],\n",
              "        [0.11725473, 0.88274527],\n",
              "        [0.7330383 , 0.26696166],\n",
              "        [0.38373256, 0.61626744],\n",
              "        [0.18634808, 0.8136519 ],\n",
              "        [0.15138459, 0.8486154 ]], dtype=float32))"
            ]
          },
          "metadata": {
            "tags": []
          },
          "execution_count": 139
        }
      ]
    },
    {
      "cell_type": "markdown",
      "metadata": {
        "id": "CJokG0V_qnaD"
      },
      "source": [
        "Таким образом, мы должны использовать второй аргумент pred_proba, чтобы получить вероятность мошенничества."
      ]
    },
    {
      "cell_type": "markdown",
      "metadata": {
        "id": "-9d9-5IyqnaE"
      },
      "source": [
        "### **2. Мы можем проверить разовую транзакцию мошенника**"
      ]
    },
    {
      "cell_type": "code",
      "metadata": {
        "id": "iMIJXGMNqnaE",
        "outputId": "47a5d5aa-dce8-4c21-d204-08317dfa142f"
      },
      "source": [
        "X = df[df['TRN_ID']=='961f9451-2d7d-4c62-8593-bf44d15d38b0'].drop(parameters.id_features + [parameters.target_feature],axis=1)\n",
        "y_pred = rf.predict_proba(X)[:,1][0]\n",
        "print(f\"Probability of class IS_FRAUDSTER=1 = {y_pred}\")"
      ],
      "execution_count": null,
      "outputs": [
        {
          "output_type": "stream",
          "text": [
            "Probability of class IS_FRAUDSTER=1 = 0.9997201561927795\n"
          ],
          "name": "stdout"
        }
      ]
    },
    {
      "cell_type": "markdown",
      "metadata": {
        "id": "RFKKnH2_qnaE"
      },
      "source": [
        "И модель предсказала, что эта транзакция совершена мошенником!"
      ]
    },
    {
      "cell_type": "code",
      "metadata": {
        "id": "2JINO23rqnaE",
        "outputId": "caa43cac-fec8-4afc-917b-232014d5b17b"
      },
      "source": [
        "# Теперь проверенные транзакции другого мошенника\n",
        "X = df[df['USER_ID']=='fb23710b-609a-49bf-8a9a-be49c59ce6de'].drop(parameters.id_features + [parameters.target_feature],axis=1)\n",
        "y_pred = rf.predict_proba(X)[:,1]\n",
        "print(y_pred)"
      ],
      "execution_count": null,
      "outputs": [
        {
          "output_type": "stream",
          "text": [
            "[0.99972016 0.99824774 0.99954516 0.9246435 ]\n"
          ],
          "name": "stdout"
        }
      ]
    },
    {
      "cell_type": "markdown",
      "metadata": {
        "id": "qcoB6VaRqnaE"
      },
      "source": [
        "И модель предсказала, что это мошенник!"
      ]
    },
    {
      "cell_type": "code",
      "metadata": {
        "id": "E8S5rkUVqnaF",
        "outputId": "5e79b880-50b9-4a29-a15e-ed24524fc2ad"
      },
      "source": [
        "# посмотрим на не мошенников\n",
        "user_df[user_df['IS_FRAUDSTER']==False].head()"
      ],
      "execution_count": null,
      "outputs": [
        {
          "output_type": "execute_result",
          "data": {
            "text/html": [
              "<div>\n",
              "<style scoped>\n",
              "    .dataframe tbody tr th:only-of-type {\n",
              "        vertical-align: middle;\n",
              "    }\n",
              "\n",
              "    .dataframe tbody tr th {\n",
              "        vertical-align: top;\n",
              "    }\n",
              "\n",
              "    .dataframe thead th {\n",
              "        text-align: right;\n",
              "    }\n",
              "</style>\n",
              "<table border=\"1\" class=\"dataframe\">\n",
              "  <thead>\n",
              "    <tr style=\"text-align: right;\">\n",
              "      <th></th>\n",
              "      <th>ID</th>\n",
              "      <th>HAS_EMAIL</th>\n",
              "      <th>PHONE_COUNTRY</th>\n",
              "      <th>IS_FRAUDSTER</th>\n",
              "      <th>TERMS_VERSION</th>\n",
              "      <th>CREATED_DATE</th>\n",
              "      <th>STATE</th>\n",
              "      <th>COUNTRY</th>\n",
              "      <th>BIRTH_YEAR</th>\n",
              "      <th>KYC</th>\n",
              "      <th>FAILED_SIGN_IN_ATTEMPTS</th>\n",
              "    </tr>\n",
              "  </thead>\n",
              "  <tbody>\n",
              "    <tr>\n",
              "      <td>0</td>\n",
              "      <td>1872820f-e3ac-4c02-bdc7-727897b60043</td>\n",
              "      <td>1</td>\n",
              "      <td>GB||JE||IM||GG</td>\n",
              "      <td>False</td>\n",
              "      <td>2018-05-25</td>\n",
              "      <td>2017-08-06 07:33:33.341000</td>\n",
              "      <td>ACTIVE</td>\n",
              "      <td>GB</td>\n",
              "      <td>1971</td>\n",
              "      <td>PASSED</td>\n",
              "      <td>0</td>\n",
              "    </tr>\n",
              "    <tr>\n",
              "      <td>1</td>\n",
              "      <td>545ff94d-66f8-4bea-b398-84425fb2301e</td>\n",
              "      <td>1</td>\n",
              "      <td>GB||JE||IM||GG</td>\n",
              "      <td>False</td>\n",
              "      <td>2018-01-01</td>\n",
              "      <td>2017-03-07 10:18:59.427000</td>\n",
              "      <td>ACTIVE</td>\n",
              "      <td>GB</td>\n",
              "      <td>1982</td>\n",
              "      <td>PASSED</td>\n",
              "      <td>0</td>\n",
              "    </tr>\n",
              "    <tr>\n",
              "      <td>2</td>\n",
              "      <td>10376f1a-a28a-4885-8daa-c8ca496026bb</td>\n",
              "      <td>1</td>\n",
              "      <td>ES</td>\n",
              "      <td>False</td>\n",
              "      <td>2018-09-20</td>\n",
              "      <td>2018-05-31 04:41:24.672000</td>\n",
              "      <td>ACTIVE</td>\n",
              "      <td>ES</td>\n",
              "      <td>1973</td>\n",
              "      <td>PASSED</td>\n",
              "      <td>0</td>\n",
              "    </tr>\n",
              "    <tr>\n",
              "      <td>3</td>\n",
              "      <td>fd308db7-0753-4377-879f-6ecf2af14e4f</td>\n",
              "      <td>1</td>\n",
              "      <td>FR</td>\n",
              "      <td>False</td>\n",
              "      <td>2018-05-25</td>\n",
              "      <td>2018-06-01 17:24:23.852000</td>\n",
              "      <td>ACTIVE</td>\n",
              "      <td>FR</td>\n",
              "      <td>1986</td>\n",
              "      <td>PASSED</td>\n",
              "      <td>0</td>\n",
              "    </tr>\n",
              "    <tr>\n",
              "      <td>4</td>\n",
              "      <td>755fe256-a34d-4853-b7ca-d9bb991a86d3</td>\n",
              "      <td>1</td>\n",
              "      <td>GB||JE||IM||GG</td>\n",
              "      <td>False</td>\n",
              "      <td>2018-09-20</td>\n",
              "      <td>2017-08-09 15:03:33.945000</td>\n",
              "      <td>ACTIVE</td>\n",
              "      <td>GB</td>\n",
              "      <td>1989</td>\n",
              "      <td>PASSED</td>\n",
              "      <td>0</td>\n",
              "    </tr>\n",
              "  </tbody>\n",
              "</table>\n",
              "</div>"
            ],
            "text/plain": [
              "                                     ID  HAS_EMAIL   PHONE_COUNTRY  \\\n",
              "0  1872820f-e3ac-4c02-bdc7-727897b60043          1  GB||JE||IM||GG   \n",
              "1  545ff94d-66f8-4bea-b398-84425fb2301e          1  GB||JE||IM||GG   \n",
              "2  10376f1a-a28a-4885-8daa-c8ca496026bb          1              ES   \n",
              "3  fd308db7-0753-4377-879f-6ecf2af14e4f          1              FR   \n",
              "4  755fe256-a34d-4853-b7ca-d9bb991a86d3          1  GB||JE||IM||GG   \n",
              "\n",
              "   IS_FRAUDSTER TERMS_VERSION                CREATED_DATE   STATE COUNTRY  \\\n",
              "0         False    2018-05-25  2017-08-06 07:33:33.341000  ACTIVE      GB   \n",
              "1         False    2018-01-01  2017-03-07 10:18:59.427000  ACTIVE      GB   \n",
              "2         False    2018-09-20  2018-05-31 04:41:24.672000  ACTIVE      ES   \n",
              "3         False    2018-05-25  2018-06-01 17:24:23.852000  ACTIVE      FR   \n",
              "4         False    2018-09-20  2017-08-09 15:03:33.945000  ACTIVE      GB   \n",
              "\n",
              "   BIRTH_YEAR     KYC  FAILED_SIGN_IN_ATTEMPTS  \n",
              "0        1971  PASSED                        0  \n",
              "1        1982  PASSED                        0  \n",
              "2        1973  PASSED                        0  \n",
              "3        1986  PASSED                        0  \n",
              "4        1989  PASSED                        0  "
            ]
          },
          "metadata": {
            "tags": []
          },
          "execution_count": 142
        }
      ]
    },
    {
      "cell_type": "code",
      "metadata": {
        "id": "oIewcGXLqnaF",
        "outputId": "ad946af4-6adf-4e4e-b149-7b4e31088eac"
      },
      "source": [
        "# Теперь проверим транзакции не мошенников\n",
        "X = df[df['USER_ID']=='1872820f-e3ac-4c02-bdc7-727897b60043'].drop(parameters.id_features + [parameters.target_feature],axis=1)\n",
        "y_pred = rf.predict_proba(X)[:,1]\n",
        "print(y_pred)"
      ],
      "execution_count": null,
      "outputs": [
        {
          "output_type": "stream",
          "text": [
            "[3.7801836e-03 7.4787349e-01 9.6288103e-01 5.1727824e-05 2.4277126e-05\n",
            " 2.8656403e-05]\n"
          ],
          "name": "stdout"
        }
      ]
    },
    {
      "cell_type": "markdown",
      "metadata": {
        "id": "Mu9VdWQYqnaF"
      },
      "source": [
        "И модель, классифицирующая этого пользователя как не мошенника!"
      ]
    },
    {
      "cell_type": "markdown",
      "metadata": {
        "id": "5kcNjUCdqnaF"
      },
      "source": [
        "### **Создадим функцию производственного режима**"
      ]
    },
    {
      "cell_type": "code",
      "metadata": {
        "id": "dTaM8aiPqnaF"
      },
      "source": [
        "def get_user_data(user_id, asserting=False):\n",
        "    # загрузим данные\n",
        "    result = df[df['USER_ID']==user_id].drop(parameters.id_features + [parameters.target_feature],axis=1)\n",
        "    if asserting:\n",
        "        assert len(result) > 0, f\"We don't have data for user_id={user_id}!\"\n",
        "    return result"
      ],
      "execution_count": null,
      "outputs": []
    },
    {
      "cell_type": "code",
      "metadata": {
        "id": "NMo4qb1CqnaF",
        "outputId": "e55df78e-8ee5-4c22-98a9-bc0c30ce8078"
      },
      "source": [
        "# Test пользователь-мошенник\n",
        "X = get_user_data(user_id='fb23710b-609a-49bf-8a9a-be49c59ce6de', asserting=True)\n",
        "X.head()"
      ],
      "execution_count": null,
      "outputs": [
        {
          "output_type": "execute_result",
          "data": {
            "text/html": [
              "<div>\n",
              "<style scoped>\n",
              "    .dataframe tbody tr th:only-of-type {\n",
              "        vertical-align: middle;\n",
              "    }\n",
              "\n",
              "    .dataframe tbody tr th {\n",
              "        vertical-align: top;\n",
              "    }\n",
              "\n",
              "    .dataframe thead th {\n",
              "        text-align: right;\n",
              "    }\n",
              "</style>\n",
              "<table border=\"1\" class=\"dataframe\">\n",
              "  <thead>\n",
              "    <tr style=\"text-align: right;\">\n",
              "      <th></th>\n",
              "      <th>pc0</th>\n",
              "      <th>pc1</th>\n",
              "      <th>pc2</th>\n",
              "      <th>pc3</th>\n",
              "      <th>pc4</th>\n",
              "      <th>pc5</th>\n",
              "      <th>pc6</th>\n",
              "      <th>pc7</th>\n",
              "      <th>pc8</th>\n",
              "      <th>pc9</th>\n",
              "      <th>...</th>\n",
              "      <th>pc31</th>\n",
              "      <th>pc32</th>\n",
              "      <th>pc33</th>\n",
              "      <th>pc34</th>\n",
              "      <th>pc35</th>\n",
              "      <th>pc36</th>\n",
              "      <th>pc37</th>\n",
              "      <th>pc38</th>\n",
              "      <th>pc39</th>\n",
              "      <th>pc40</th>\n",
              "    </tr>\n",
              "  </thead>\n",
              "  <tbody>\n",
              "    <tr>\n",
              "      <td>256910</td>\n",
              "      <td>-168.593282</td>\n",
              "      <td>-143.631513</td>\n",
              "      <td>-3.982061</td>\n",
              "      <td>-4.133395</td>\n",
              "      <td>-1.923923</td>\n",
              "      <td>-1.407655</td>\n",
              "      <td>0.386215</td>\n",
              "      <td>-0.283565</td>\n",
              "      <td>-0.335758</td>\n",
              "      <td>-0.444748</td>\n",
              "      <td>...</td>\n",
              "      <td>-0.005338</td>\n",
              "      <td>-0.015904</td>\n",
              "      <td>-0.015781</td>\n",
              "      <td>-0.011730</td>\n",
              "      <td>0.038100</td>\n",
              "      <td>0.000464</td>\n",
              "      <td>-0.016910</td>\n",
              "      <td>0.000735</td>\n",
              "      <td>0.006091</td>\n",
              "      <td>0.017762</td>\n",
              "    </tr>\n",
              "    <tr>\n",
              "      <td>256911</td>\n",
              "      <td>-171.503335</td>\n",
              "      <td>-143.633383</td>\n",
              "      <td>-4.003125</td>\n",
              "      <td>-4.123133</td>\n",
              "      <td>-1.917381</td>\n",
              "      <td>1.097923</td>\n",
              "      <td>0.741333</td>\n",
              "      <td>0.243146</td>\n",
              "      <td>-0.235344</td>\n",
              "      <td>-0.242653</td>\n",
              "      <td>...</td>\n",
              "      <td>0.086767</td>\n",
              "      <td>-0.020810</td>\n",
              "      <td>-0.032488</td>\n",
              "      <td>-0.002417</td>\n",
              "      <td>-0.017277</td>\n",
              "      <td>0.023013</td>\n",
              "      <td>-0.025578</td>\n",
              "      <td>0.010014</td>\n",
              "      <td>-0.002333</td>\n",
              "      <td>0.018513</td>\n",
              "    </tr>\n",
              "    <tr>\n",
              "      <td>256912</td>\n",
              "      <td>-153.596802</td>\n",
              "      <td>-140.611557</td>\n",
              "      <td>-3.924728</td>\n",
              "      <td>-0.157913</td>\n",
              "      <td>2.097707</td>\n",
              "      <td>-1.427798</td>\n",
              "      <td>0.401295</td>\n",
              "      <td>-0.319476</td>\n",
              "      <td>-0.352418</td>\n",
              "      <td>-0.443666</td>\n",
              "      <td>...</td>\n",
              "      <td>-0.004287</td>\n",
              "      <td>-0.013076</td>\n",
              "      <td>-0.020944</td>\n",
              "      <td>-0.008170</td>\n",
              "      <td>0.032024</td>\n",
              "      <td>0.008721</td>\n",
              "      <td>-0.017073</td>\n",
              "      <td>0.002465</td>\n",
              "      <td>0.006142</td>\n",
              "      <td>0.019424</td>\n",
              "    </tr>\n",
              "    <tr>\n",
              "      <td>256913</td>\n",
              "      <td>-158.596786</td>\n",
              "      <td>-140.619252</td>\n",
              "      <td>-3.980100</td>\n",
              "      <td>-3.152654</td>\n",
              "      <td>2.086408</td>\n",
              "      <td>-1.011044</td>\n",
              "      <td>0.258057</td>\n",
              "      <td>-0.284052</td>\n",
              "      <td>-0.248355</td>\n",
              "      <td>-0.578504</td>\n",
              "      <td>...</td>\n",
              "      <td>0.038793</td>\n",
              "      <td>0.004066</td>\n",
              "      <td>-0.039297</td>\n",
              "      <td>-0.015627</td>\n",
              "      <td>-0.047072</td>\n",
              "      <td>0.008465</td>\n",
              "      <td>-0.010484</td>\n",
              "      <td>0.004942</td>\n",
              "      <td>0.009962</td>\n",
              "      <td>0.017853</td>\n",
              "    </tr>\n",
              "  </tbody>\n",
              "</table>\n",
              "<p>4 rows × 41 columns</p>\n",
              "</div>"
            ],
            "text/plain": [
              "               pc0         pc1       pc2       pc3       pc4       pc5  \\\n",
              "256910 -168.593282 -143.631513 -3.982061 -4.133395 -1.923923 -1.407655   \n",
              "256911 -171.503335 -143.633383 -4.003125 -4.123133 -1.917381  1.097923   \n",
              "256912 -153.596802 -140.611557 -3.924728 -0.157913  2.097707 -1.427798   \n",
              "256913 -158.596786 -140.619252 -3.980100 -3.152654  2.086408 -1.011044   \n",
              "\n",
              "             pc6       pc7       pc8       pc9  ...      pc31      pc32  \\\n",
              "256910  0.386215 -0.283565 -0.335758 -0.444748  ... -0.005338 -0.015904   \n",
              "256911  0.741333  0.243146 -0.235344 -0.242653  ...  0.086767 -0.020810   \n",
              "256912  0.401295 -0.319476 -0.352418 -0.443666  ... -0.004287 -0.013076   \n",
              "256913  0.258057 -0.284052 -0.248355 -0.578504  ...  0.038793  0.004066   \n",
              "\n",
              "            pc33      pc34      pc35      pc36      pc37      pc38      pc39  \\\n",
              "256910 -0.015781 -0.011730  0.038100  0.000464 -0.016910  0.000735  0.006091   \n",
              "256911 -0.032488 -0.002417 -0.017277  0.023013 -0.025578  0.010014 -0.002333   \n",
              "256912 -0.020944 -0.008170  0.032024  0.008721 -0.017073  0.002465  0.006142   \n",
              "256913 -0.039297 -0.015627 -0.047072  0.008465 -0.010484  0.004942  0.009962   \n",
              "\n",
              "            pc40  \n",
              "256910  0.017762  \n",
              "256911  0.018513  \n",
              "256912  0.019424  \n",
              "256913  0.017853  \n",
              "\n",
              "[4 rows x 41 columns]"
            ]
          },
          "metadata": {
            "tags": []
          },
          "execution_count": 145
        }
      ]
    },
    {
      "cell_type": "code",
      "metadata": {
        "id": "VaJ1LaIvqnaG",
        "outputId": "ac2de046-a2f5-4234-f50c-cd8b4326f531"
      },
      "source": [
        "y_pred = rf.predict_proba(X)[:,1]\n",
        "print(y_pred)"
      ],
      "execution_count": null,
      "outputs": [
        {
          "output_type": "stream",
          "text": [
            "[0.99972016 0.99824774 0.99954516 0.9246435 ]\n"
          ],
          "name": "stdout"
        }
      ]
    },
    {
      "cell_type": "code",
      "metadata": {
        "id": "srtge87vqnaG"
      },
      "source": [
        "def check_alert(y_predicted):\n",
        "# Возвращаем самый важный (самый тяжелый по весу) флаг в результате\n",
        "    '''\n",
        "    Правила:\n",
        "        Если процент больше первого уровня (например, 50%), нам нужно ALERT (вес = 1), потому что это подозрительная транзакция.\n",
        "        Если процент больше второго уровня (например, 75%), нам нужны LOCK и ALERT (вес = 2), потому что это очень подозрительная транзакция, и лучше заблокировать пользователя и отправить сигнал предупреждения для работы с этим пользователем.\n",
        "        Если процент больше максимального уровня (например, 90%), нам нужен LOCK (вес = 3), потому что это мошенник.\n",
        "    '''\n",
        "    \n",
        "\n",
        "    dict_of_alerts = {0: ['PASS'],\n",
        "                      1: ['ALERT_AGENT'],\n",
        "                      2: ['LOCK_USER', 'ALERT_AGENT'],\n",
        "                      3: ['LOCK_USER']\n",
        "                     }\n",
        "  \n",
        "    return dict_of_alerts[max([{       y >= .9: 3,\n",
        "                                .75 <= y <  .9: 2,\n",
        "                                .5  <= y < .75: 1,\n",
        "                                       y <  .5: 0}[True] for y in y_predicted])]"
      ],
      "execution_count": null,
      "outputs": []
    },
    {
      "cell_type": "code",
      "metadata": {
        "id": "Lza_7MbQqnaG",
        "outputId": "ae9f17f6-d079-48f2-a923-ea78057777b4"
      },
      "source": [
        "check_alert(y_pred)"
      ],
      "execution_count": null,
      "outputs": [
        {
          "output_type": "execute_result",
          "data": {
            "text/plain": [
              "['LOCK_USER']"
            ]
          },
          "metadata": {
            "tags": []
          },
          "execution_count": 148
        }
      ]
    },
    {
      "cell_type": "markdown",
      "metadata": {
        "id": "K97j32scqnaG"
      },
      "source": [
        "Хорошо, мошенник идентифицирован как мошенник, и заблокируем этого пользователя."
      ]
    },
    {
      "cell_type": "code",
      "metadata": {
        "id": "wusPBVzQqnaH",
        "outputId": "efdae04f-cf1c-4b0f-eac3-0a0e3efb9008"
      },
      "source": [
        "# Тестируем недействительного пользователя\n",
        "try:\n",
        "    X = get_user_data(user_id='00000000-e3ac-4c02-bdc7-727897b60043', asserting=True)\n",
        "except Exception as e:\n",
        "    print(e)"
      ],
      "execution_count": null,
      "outputs": [
        {
          "output_type": "stream",
          "text": [
            "We don't have data for user_id=00000000-e3ac-4c02-bdc7-727897b60043!\n"
          ],
          "name": "stdout"
        }
      ]
    },
    {
      "cell_type": "markdown",
      "metadata": {
        "id": "BkomkK9PqnaH"
      },
      "source": [
        "Хорошо, выдает ошибку из-за недопустимого user_id или user_id без транзакций."
      ]
    },
    {
      "cell_type": "code",
      "metadata": {
        "id": "N_q58LbpqnaH",
        "outputId": "edad2564-f0a0-4797-c33c-a443dc2f16f4"
      },
      "source": [
        "# Тестируем не мошенника\n",
        "X = get_user_data(user_id='1872820f-e3ac-4c02-bdc7-727897b60043', asserting=True)\n",
        "y_pred = rf.predict_proba(X)[:,1]\n",
        "print(y_pred)"
      ],
      "execution_count": null,
      "outputs": [
        {
          "output_type": "stream",
          "text": [
            "[3.7801836e-03 7.4787349e-01 9.6288103e-01 5.1727824e-05 2.4277126e-05\n",
            " 2.8656403e-05]\n"
          ],
          "name": "stdout"
        }
      ]
    },
    {
      "cell_type": "code",
      "metadata": {
        "id": "vzyPy1HBqnaI",
        "outputId": "95d3509b-6a5e-4ec7-f1fc-5c6cdbcd94cc"
      },
      "source": [
        "check_alert(y_pred)"
      ],
      "execution_count": null,
      "outputs": [
        {
          "output_type": "execute_result",
          "data": {
            "text/plain": [
              "['LOCK_USER']"
            ]
          },
          "metadata": {
            "tags": []
          },
          "execution_count": 151
        }
      ]
    },
    {
      "cell_type": "markdown",
      "metadata": {
        "id": "FIP6dmWfqnaI"
      },
      "source": [
        "Хорошо, не мошенник идентифицирован как не мошенник, и пропустим этого пользователя."
      ]
    },
    {
      "cell_type": "markdown",
      "metadata": {
        "id": "HBpFwpayqnaI"
      },
      "source": [
        "### **Попробуем использовать эту стратегию для прогнозирования каждой транзакции:**\n",
        "* Если процент больше первого уровня (например, 50%), нам нужно ALERT (вес = 1), потому что это подозрительная транзакция.\n",
        "* Если процент больше второго уровня (например, 75%), нам нужны LOCK и ALERT (вес = 2), потому что это очень подозрительная транзакция, и лучше заблокировать пользователя и отправить сигнал предупреждения для работы с этим пользователем.\n",
        "* Если процент больше максимального уровня (например, 90%), нам нужен LOCK (вес = 3), потому что это мошенник."
      ]
    },
    {
      "cell_type": "markdown",
      "metadata": {
        "id": "qDifyEACqnaI"
      },
      "source": [
        "Если у нас будет один или несколько флагов для всех пользовательских транзакций => в результате вернем самый важный (самый тяжелый по весу) флаг."
      ]
    },
    {
      "cell_type": "code",
      "metadata": {
        "id": "DZFEXnKqqnaI"
      },
      "source": [
        "def patrol(user_id, rf=None):\n",
        "    if rf is None:\n",
        "        # загружаем предварительно обученную модель\n",
        "        from sklearn.externals import joblib\n",
        "        #rf = joblib.load(parameters.model_pkl)\n",
        "        rf = pickle.load(open(parameters.model_pkl,'rb'))\n",
        "    # загрузить данные для user_id\n",
        "    X = get_user_data(user_id = user_id, asserting=False)\n",
        "    # получить прогноз\n",
        "    if len(X) > 0:\n",
        "        # если есть транзакция для этого пользователя => действовать в соответствии с ними\n",
        "        y_pred = rf.predict_proba(X)[:,1]\n",
        "        return check_alert(y_pred)\n",
        "    # если нет транзакций для этого пользователя => pass\n",
        "    return ['PASS']"
      ],
      "execution_count": null,
      "outputs": []
    },
    {
      "cell_type": "code",
      "metadata": {
        "id": "j2d9kCyaqnaJ",
        "outputId": "baaad264-0d70-4bb2-87c8-2f02e15e7181"
      },
      "source": [
        "patrol(user_id='fb23710b-609a-49bf-8a9a-be49c59ce6de')"
      ],
      "execution_count": null,
      "outputs": [
        {
          "output_type": "stream",
          "text": [
            "/home/truename/anaconda3/lib/python3.7/site-packages/sklearn/externals/joblib/__init__.py:15: DeprecationWarning: sklearn.externals.joblib is deprecated in 0.21 and will be removed in 0.23. Please import this functionality directly from joblib, which can be installed with: pip install joblib. If this warning is raised when loading pickled models, you may need to re-serialize those models with scikit-learn 0.21+.\n",
            "  warnings.warn(msg, category=DeprecationWarning)\n"
          ],
          "name": "stderr"
        },
        {
          "output_type": "execute_result",
          "data": {
            "text/plain": [
              "['LOCK_USER']"
            ]
          },
          "metadata": {
            "tags": []
          },
          "execution_count": 153
        }
      ]
    },
    {
      "cell_type": "code",
      "metadata": {
        "scrolled": true,
        "id": "i2TOuVbuqnaJ",
        "outputId": "b35a072b-fcde-4b38-a013-3861e4d302a8"
      },
      "source": [
        "# загружаем предварительно обученную модель\n",
        "#model = joblib.load(parameters.model_pkl)\n",
        "model = pickle.load(open(parameters.model_pkl,'rb'))\n",
        "\n",
        "# проверяем FRAUDSTER-users из пользовательской базы данных\n",
        "d = {u: patrol(user_id=u, rf=model) for u in user_df[user_df['IS_FRAUDSTER']==True]['ID'].values}\n",
        "print('Patrol-function actions on FRAUDSTERS:')\n",
        "pd.DataFrame(list(d.items()), columns=['USER_ID','ACTION'])['ACTION'].value_counts()"
      ],
      "execution_count": null,
      "outputs": [
        {
          "output_type": "stream",
          "text": [
            "Patrol-function actions on FRAUDSTERS:\n"
          ],
          "name": "stdout"
        },
        {
          "output_type": "execute_result",
          "data": {
            "text/plain": [
              "[LOCK_USER]    297\n",
              "[PASS]           1\n",
              "Name: ACTION, dtype: int64"
            ]
          },
          "metadata": {
            "tags": []
          },
          "execution_count": 154
        }
      ]
    },
    {
      "cell_type": "code",
      "metadata": {
        "scrolled": true,
        "id": "d91c1HshqnaJ",
        "outputId": "14fa992b-7285-48d8-d72c-b37d3a93b68d"
      },
      "source": [
        "# проверяем первые 1000 NON-FRAUDSTER-users (фильтр с транзакциями) из набора данных пользователей\n",
        "d = {u: patrol(user_id=u, rf=model) for u in user_df[user_df['IS_FRAUDSTER']==False].head(1000)['ID'].values}\n",
        "print('Patrol-function actions on NON-FRAUDSTERS:')\n",
        "pd.DataFrame(list(d.items()), columns=['USER_ID','ACTION'])['ACTION'].value_counts()"
      ],
      "execution_count": null,
      "outputs": [
        {
          "output_type": "stream",
          "text": [
            "Patrol-function actions on NON-FRAUDSTERS:\n"
          ],
          "name": "stdout"
        },
        {
          "output_type": "execute_result",
          "data": {
            "text/plain": [
              "[PASS]                      702\n",
              "[LOCK_USER]                 198\n",
              "[LOCK_USER, ALERT_AGENT]     51\n",
              "[ALERT_AGENT]                49\n",
              "Name: ACTION, dtype: int64"
            ]
          },
          "metadata": {
            "tags": []
          },
          "execution_count": 155
        }
      ]
    },
    {
      "cell_type": "markdown",
      "metadata": {
        "id": "aUtXSu2pqnaK"
      },
      "source": [
        "**Для НЕ-МОШЕННИКОВ у нас есть ALERT_AGENT, LOCK_USER и PASS.**"
      ]
    },
    {
      "cell_type": "markdown",
      "metadata": {
        "id": "4KMCxeJ2qnaK"
      },
      "source": [
        "Проверить неподготовленных пользователей из предварительно сохраненного списка"
      ]
    },
    {
      "cell_type": "code",
      "metadata": {
        "id": "iUrvPmE5qnaK"
      },
      "source": [
        "# Теперь проверим их\n",
        "test_user_df = user_df[user_df['ID'].isin(test_users)]\n",
        "test_user_df['PATROL_SOLUTION'] = test_user_df.apply(lambda x: patrol(x['ID']), axis=1)"
      ],
      "execution_count": null,
      "outputs": []
    },
    {
      "cell_type": "code",
      "metadata": {
        "id": "ZvyMXn71qnaL",
        "outputId": "ff93578e-c554-472a-f25f-6368270e3958"
      },
      "source": [
        "# Проверяем, идентифицированы ли мошенники как мошенники\n",
        "test_user_df[test_user_df['IS_FRAUDSTER']==True]"
      ],
      "execution_count": null,
      "outputs": [
        {
          "output_type": "execute_result",
          "data": {
            "text/html": [
              "<div>\n",
              "<style scoped>\n",
              "    .dataframe tbody tr th:only-of-type {\n",
              "        vertical-align: middle;\n",
              "    }\n",
              "\n",
              "    .dataframe tbody tr th {\n",
              "        vertical-align: top;\n",
              "    }\n",
              "\n",
              "    .dataframe thead th {\n",
              "        text-align: right;\n",
              "    }\n",
              "</style>\n",
              "<table border=\"1\" class=\"dataframe\">\n",
              "  <thead>\n",
              "    <tr style=\"text-align: right;\">\n",
              "      <th></th>\n",
              "      <th>ID</th>\n",
              "      <th>HAS_EMAIL</th>\n",
              "      <th>PHONE_COUNTRY</th>\n",
              "      <th>IS_FRAUDSTER</th>\n",
              "      <th>TERMS_VERSION</th>\n",
              "      <th>CREATED_DATE</th>\n",
              "      <th>STATE</th>\n",
              "      <th>COUNTRY</th>\n",
              "      <th>BIRTH_YEAR</th>\n",
              "      <th>KYC</th>\n",
              "      <th>FAILED_SIGN_IN_ATTEMPTS</th>\n",
              "      <th>PATROL_SOLUTION</th>\n",
              "    </tr>\n",
              "  </thead>\n",
              "  <tbody>\n",
              "  </tbody>\n",
              "</table>\n",
              "</div>"
            ],
            "text/plain": [
              "Empty DataFrame\n",
              "Columns: [ID, HAS_EMAIL, PHONE_COUNTRY, IS_FRAUDSTER, TERMS_VERSION, CREATED_DATE, STATE, COUNTRY, BIRTH_YEAR, KYC, FAILED_SIGN_IN_ATTEMPTS, PATROL_SOLUTION]\n",
              "Index: []"
            ]
          },
          "metadata": {
            "tags": []
          },
          "execution_count": 157
        }
      ]
    },
    {
      "cell_type": "code",
      "metadata": {
        "id": "PVjvBrOBqnaL",
        "outputId": "44f62363-6c85-41a9-e5d5-0d195414b525"
      },
      "source": [
        "test_user_df['PATROL_SOLUTION'].value_counts()"
      ],
      "execution_count": null,
      "outputs": [
        {
          "output_type": "execute_result",
          "data": {
            "text/plain": [
              "[PASS]                      71\n",
              "[LOCK_USER]                  8\n",
              "[LOCK_USER, ALERT_AGENT]     3\n",
              "[ALERT_AGENT]                2\n",
              "Name: PATROL_SOLUTION, dtype: int64"
            ]
          },
          "metadata": {
            "tags": []
          },
          "execution_count": 158
        }
      ]
    },
    {
      "cell_type": "markdown",
      "metadata": {
        "id": "mnjd6vNzqnaL"
      },
      "source": [
        "#### **Хорошо, у нас есть только НЕ Мошенники, и мы ПРОПУСКАЕМ почти все из них!** "
      ]
    },
    {
      "cell_type": "markdown",
      "metadata": {
        "id": "VCzxN0GxqnaL"
      },
      "source": [
        "## Дальнейшие улучшения: \n",
        "* можем сгруппировать merchant_category в несколько больших групп, чтобы минимизировать особенности модели (и возможные улучшения точности модели), размер наборов данных\n",
        "* можем изменить правила для идентификации на основе сводки нескольких транзакций вместо одной плохой транзакции (для повышения лояльности к пользователям)\n",
        "* можем добавить функцию предыдущих транзакций - установить предупреждение, если предыдущие транзакции были плохими и после них пользователь кажется заблокированным! Это помогает нам отправлять оповещения не по уровню (например, 50%) вероятности, а когда видим плохие транзакции в текущем периоде.\n",
        "* можем добавить функции стандартного дня и часа каждого пользователя, начального периода от предыдущей транзакции к текущей\n",
        "* можем модифицировать модель для выявления мошенников без транзакцийdentify fraudsters without transactions"
      ]
    }
  ]
}